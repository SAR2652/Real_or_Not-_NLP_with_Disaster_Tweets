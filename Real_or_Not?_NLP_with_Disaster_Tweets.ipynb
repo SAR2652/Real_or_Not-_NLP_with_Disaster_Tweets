{
  "nbformat": 4,
  "nbformat_minor": 0,
  "metadata": {
    "colab": {
      "name": "Real or Not? NLP with Disaster Tweets.ipynb",
      "provenance": [],
      "collapsed_sections": [],
      "authorship_tag": "ABX9TyM30OgirRQ7nafG0SyrTrg8",
      "include_colab_link": true
    },
    "kernelspec": {
      "name": "python3",
      "display_name": "Python 3"
    },
    "accelerator": "GPU"
  },
  "cells": [
    {
      "cell_type": "markdown",
      "metadata": {
        "id": "view-in-github",
        "colab_type": "text"
      },
      "source": [
        "<a href=\"https://colab.research.google.com/github/SAR2652/Real_or_Not-_NLP_with_Disaster_Tweets/blob/master/Real_or_Not%3F_NLP_with_Disaster_Tweets.ipynb\" target=\"_parent\"><img src=\"https://colab.research.google.com/assets/colab-badge.svg\" alt=\"Open In Colab\"/></a>"
      ]
    },
    {
      "cell_type": "code",
      "metadata": {
        "id": "qVTmoykMKAon",
        "colab_type": "code",
        "outputId": "b5b471f5-588c-472c-ed0d-66219f721a19",
        "colab": {
          "base_uri": "https://localhost:8080/",
          "height": 332
        }
      },
      "source": [
        "!nvidia-smi"
      ],
      "execution_count": 2,
      "outputs": [
        {
          "output_type": "stream",
          "text": [
            "Thu Jun  4 08:12:34 2020       \n",
            "+-----------------------------------------------------------------------------+\n",
            "| NVIDIA-SMI 440.82       Driver Version: 418.67       CUDA Version: 10.1     |\n",
            "|-------------------------------+----------------------+----------------------+\n",
            "| GPU  Name        Persistence-M| Bus-Id        Disp.A | Volatile Uncorr. ECC |\n",
            "| Fan  Temp  Perf  Pwr:Usage/Cap|         Memory-Usage | GPU-Util  Compute M. |\n",
            "|===============================+======================+======================|\n",
            "|   0  Tesla P100-PCIE...  Off  | 00000000:00:04.0 Off |                    0 |\n",
            "| N/A   42C    P0    28W / 250W |      0MiB / 16280MiB |      0%      Default |\n",
            "+-------------------------------+----------------------+----------------------+\n",
            "                                                                               \n",
            "+-----------------------------------------------------------------------------+\n",
            "| Processes:                                                       GPU Memory |\n",
            "|  GPU       PID   Type   Process name                             Usage      |\n",
            "|=============================================================================|\n",
            "|  No running processes found                                                 |\n",
            "+-----------------------------------------------------------------------------+\n"
          ],
          "name": "stdout"
        }
      ]
    },
    {
      "cell_type": "code",
      "metadata": {
        "id": "7P0Jg0Z4KY-t",
        "colab_type": "code",
        "outputId": "177e5105-dd57-44c6-a7cd-915ed563c764",
        "colab": {
          "base_uri": "https://localhost:8080/",
          "height": 124
        }
      },
      "source": [
        "from google.colab import drive\n",
        "drive.mount('/content/drive')"
      ],
      "execution_count": 3,
      "outputs": [
        {
          "output_type": "stream",
          "text": [
            "Go to this URL in a browser: https://accounts.google.com/o/oauth2/auth?client_id=947318989803-6bn6qk8qdgf4n4g3pfee6491hc0brc4i.apps.googleusercontent.com&redirect_uri=urn%3aietf%3awg%3aoauth%3a2.0%3aoob&response_type=code&scope=email%20https%3a%2f%2fwww.googleapis.com%2fauth%2fdocs.test%20https%3a%2f%2fwww.googleapis.com%2fauth%2fdrive%20https%3a%2f%2fwww.googleapis.com%2fauth%2fdrive.photos.readonly%20https%3a%2f%2fwww.googleapis.com%2fauth%2fpeopleapi.readonly\n",
            "\n",
            "Enter your authorization code:\n",
            "··········\n",
            "Mounted at /content/drive\n"
          ],
          "name": "stdout"
        }
      ]
    },
    {
      "cell_type": "code",
      "metadata": {
        "id": "Hm_uR__QKijJ",
        "colab_type": "code",
        "outputId": "c828227c-2666-40ca-baa4-cbdb5c31b3dd",
        "colab": {
          "base_uri": "https://localhost:8080/",
          "height": 921
        }
      },
      "source": [
        "!pip3 install kaggle tensorflow-gpu"
      ],
      "execution_count": 4,
      "outputs": [
        {
          "output_type": "stream",
          "text": [
            "Requirement already satisfied: kaggle in /usr/local/lib/python3.6/dist-packages (1.5.6)\n",
            "Collecting tensorflow-gpu\n",
            "\u001b[?25l  Downloading https://files.pythonhosted.org/packages/31/bf/c28971266ca854a64f4b26f07c4112ddd61f30b4d1f18108b954a746f8ea/tensorflow_gpu-2.2.0-cp36-cp36m-manylinux2010_x86_64.whl (516.2MB)\n",
            "\u001b[K     |████████████████████████████████| 516.2MB 31kB/s \n",
            "\u001b[?25hRequirement already satisfied: python-slugify in /usr/local/lib/python3.6/dist-packages (from kaggle) (4.0.0)\n",
            "Requirement already satisfied: requests in /usr/local/lib/python3.6/dist-packages (from kaggle) (2.23.0)\n",
            "Requirement already satisfied: python-dateutil in /usr/local/lib/python3.6/dist-packages (from kaggle) (2.8.1)\n",
            "Requirement already satisfied: certifi in /usr/local/lib/python3.6/dist-packages (from kaggle) (2020.4.5.1)\n",
            "Requirement already satisfied: tqdm in /usr/local/lib/python3.6/dist-packages (from kaggle) (4.41.1)\n",
            "Requirement already satisfied: six>=1.10 in /usr/local/lib/python3.6/dist-packages (from kaggle) (1.12.0)\n",
            "Requirement already satisfied: urllib3<1.25,>=1.21.1 in /usr/local/lib/python3.6/dist-packages (from kaggle) (1.24.3)\n",
            "Requirement already satisfied: grpcio>=1.8.6 in /usr/local/lib/python3.6/dist-packages (from tensorflow-gpu) (1.29.0)\n",
            "Requirement already satisfied: keras-preprocessing>=1.1.0 in /usr/local/lib/python3.6/dist-packages (from tensorflow-gpu) (1.1.2)\n",
            "Requirement already satisfied: termcolor>=1.1.0 in /usr/local/lib/python3.6/dist-packages (from tensorflow-gpu) (1.1.0)\n",
            "Requirement already satisfied: numpy<2.0,>=1.16.0 in /usr/local/lib/python3.6/dist-packages (from tensorflow-gpu) (1.18.4)\n",
            "Requirement already satisfied: opt-einsum>=2.3.2 in /usr/local/lib/python3.6/dist-packages (from tensorflow-gpu) (3.2.1)\n",
            "Requirement already satisfied: scipy==1.4.1; python_version >= \"3\" in /usr/local/lib/python3.6/dist-packages (from tensorflow-gpu) (1.4.1)\n",
            "Requirement already satisfied: absl-py>=0.7.0 in /usr/local/lib/python3.6/dist-packages (from tensorflow-gpu) (0.9.0)\n",
            "Requirement already satisfied: gast==0.3.3 in /usr/local/lib/python3.6/dist-packages (from tensorflow-gpu) (0.3.3)\n",
            "Requirement already satisfied: astunparse==1.6.3 in /usr/local/lib/python3.6/dist-packages (from tensorflow-gpu) (1.6.3)\n",
            "Requirement already satisfied: wheel>=0.26; python_version >= \"3\" in /usr/local/lib/python3.6/dist-packages (from tensorflow-gpu) (0.34.2)\n",
            "Requirement already satisfied: wrapt>=1.11.1 in /usr/local/lib/python3.6/dist-packages (from tensorflow-gpu) (1.12.1)\n",
            "Requirement already satisfied: tensorflow-estimator<2.3.0,>=2.2.0 in /usr/local/lib/python3.6/dist-packages (from tensorflow-gpu) (2.2.0)\n",
            "Requirement already satisfied: tensorboard<2.3.0,>=2.2.0 in /usr/local/lib/python3.6/dist-packages (from tensorflow-gpu) (2.2.2)\n",
            "Requirement already satisfied: google-pasta>=0.1.8 in /usr/local/lib/python3.6/dist-packages (from tensorflow-gpu) (0.2.0)\n",
            "Requirement already satisfied: h5py<2.11.0,>=2.10.0 in /usr/local/lib/python3.6/dist-packages (from tensorflow-gpu) (2.10.0)\n",
            "Requirement already satisfied: protobuf>=3.8.0 in /usr/local/lib/python3.6/dist-packages (from tensorflow-gpu) (3.10.0)\n",
            "Requirement already satisfied: text-unidecode>=1.3 in /usr/local/lib/python3.6/dist-packages (from python-slugify->kaggle) (1.3)\n",
            "Requirement already satisfied: chardet<4,>=3.0.2 in /usr/local/lib/python3.6/dist-packages (from requests->kaggle) (3.0.4)\n",
            "Requirement already satisfied: idna<3,>=2.5 in /usr/local/lib/python3.6/dist-packages (from requests->kaggle) (2.9)\n",
            "Requirement already satisfied: google-auth-oauthlib<0.5,>=0.4.1 in /usr/local/lib/python3.6/dist-packages (from tensorboard<2.3.0,>=2.2.0->tensorflow-gpu) (0.4.1)\n",
            "Requirement already satisfied: setuptools>=41.0.0 in /usr/local/lib/python3.6/dist-packages (from tensorboard<2.3.0,>=2.2.0->tensorflow-gpu) (47.1.1)\n",
            "Requirement already satisfied: markdown>=2.6.8 in /usr/local/lib/python3.6/dist-packages (from tensorboard<2.3.0,>=2.2.0->tensorflow-gpu) (3.2.2)\n",
            "Requirement already satisfied: google-auth<2,>=1.6.3 in /usr/local/lib/python3.6/dist-packages (from tensorboard<2.3.0,>=2.2.0->tensorflow-gpu) (1.7.2)\n",
            "Requirement already satisfied: tensorboard-plugin-wit>=1.6.0 in /usr/local/lib/python3.6/dist-packages (from tensorboard<2.3.0,>=2.2.0->tensorflow-gpu) (1.6.0.post3)\n",
            "Requirement already satisfied: werkzeug>=0.11.15 in /usr/local/lib/python3.6/dist-packages (from tensorboard<2.3.0,>=2.2.0->tensorflow-gpu) (1.0.1)\n",
            "Requirement already satisfied: requests-oauthlib>=0.7.0 in /usr/local/lib/python3.6/dist-packages (from google-auth-oauthlib<0.5,>=0.4.1->tensorboard<2.3.0,>=2.2.0->tensorflow-gpu) (1.3.0)\n",
            "Requirement already satisfied: importlib-metadata; python_version < \"3.8\" in /usr/local/lib/python3.6/dist-packages (from markdown>=2.6.8->tensorboard<2.3.0,>=2.2.0->tensorflow-gpu) (1.6.0)\n",
            "Requirement already satisfied: cachetools<3.2,>=2.0.0 in /usr/local/lib/python3.6/dist-packages (from google-auth<2,>=1.6.3->tensorboard<2.3.0,>=2.2.0->tensorflow-gpu) (3.1.1)\n",
            "Requirement already satisfied: rsa<4.1,>=3.1.4 in /usr/local/lib/python3.6/dist-packages (from google-auth<2,>=1.6.3->tensorboard<2.3.0,>=2.2.0->tensorflow-gpu) (4.0)\n",
            "Requirement already satisfied: pyasn1-modules>=0.2.1 in /usr/local/lib/python3.6/dist-packages (from google-auth<2,>=1.6.3->tensorboard<2.3.0,>=2.2.0->tensorflow-gpu) (0.2.8)\n",
            "Requirement already satisfied: oauthlib>=3.0.0 in /usr/local/lib/python3.6/dist-packages (from requests-oauthlib>=0.7.0->google-auth-oauthlib<0.5,>=0.4.1->tensorboard<2.3.0,>=2.2.0->tensorflow-gpu) (3.1.0)\n",
            "Requirement already satisfied: zipp>=0.5 in /usr/local/lib/python3.6/dist-packages (from importlib-metadata; python_version < \"3.8\"->markdown>=2.6.8->tensorboard<2.3.0,>=2.2.0->tensorflow-gpu) (3.1.0)\n",
            "Requirement already satisfied: pyasn1>=0.1.3 in /usr/local/lib/python3.6/dist-packages (from rsa<4.1,>=3.1.4->google-auth<2,>=1.6.3->tensorboard<2.3.0,>=2.2.0->tensorflow-gpu) (0.4.8)\n",
            "Installing collected packages: tensorflow-gpu\n",
            "Successfully installed tensorflow-gpu-2.2.0\n"
          ],
          "name": "stdout"
        },
        {
          "output_type": "display_data",
          "data": {
            "application/vnd.colab-display-data+json": {
              "pip_warning": {
                "packages": [
                  "tensorflow"
                ]
              }
            }
          },
          "metadata": {
            "tags": []
          }
        }
      ]
    },
    {
      "cell_type": "code",
      "metadata": {
        "id": "jtCINyUFK2lr",
        "colab_type": "code",
        "colab": {}
      },
      "source": [
        "!mkdir ~/.kaggle"
      ],
      "execution_count": 0,
      "outputs": []
    },
    {
      "cell_type": "code",
      "metadata": {
        "id": "nwOI6DDJK9pw",
        "colab_type": "code",
        "outputId": "acf03923-f3f3-4309-ffaf-3774ca9dab67",
        "colab": {
          "base_uri": "https://localhost:8080/",
          "height": 35
        }
      },
      "source": [
        "!ls -a"
      ],
      "execution_count": 6,
      "outputs": [
        {
          "output_type": "stream",
          "text": [
            ".  ..  .config\tdrive  sample_data\n"
          ],
          "name": "stdout"
        }
      ]
    },
    {
      "cell_type": "code",
      "metadata": {
        "id": "90hcC0woNqzY",
        "colab_type": "code",
        "outputId": "b99a3836-a54b-456d-910c-40d6d012ecd8",
        "colab": {
          "base_uri": "https://localhost:8080/",
          "height": 35
        }
      },
      "source": [
        "%cd /content/drive/My Drive/Colab Notebooks/"
      ],
      "execution_count": 7,
      "outputs": [
        {
          "output_type": "stream",
          "text": [
            "/content/drive/My Drive/Colab Notebooks\n"
          ],
          "name": "stdout"
        }
      ]
    },
    {
      "cell_type": "code",
      "metadata": {
        "id": "lGfTIcCpNPa4",
        "colab_type": "code",
        "colab": {}
      },
      "source": [
        "!cp kaggle.json ~/.kaggle/kaggle.json"
      ],
      "execution_count": 0,
      "outputs": []
    },
    {
      "cell_type": "code",
      "metadata": {
        "id": "Z9I-6nZcOI7G",
        "colab_type": "code",
        "outputId": "110ad35e-0571-46a7-e07d-cd13b8b1bd82",
        "colab": {
          "base_uri": "https://localhost:8080/",
          "height": 35
        }
      },
      "source": [
        "%cd /content"
      ],
      "execution_count": 9,
      "outputs": [
        {
          "output_type": "stream",
          "text": [
            "/content\n"
          ],
          "name": "stdout"
        }
      ]
    },
    {
      "cell_type": "code",
      "metadata": {
        "id": "ccS6Utf1LPGb",
        "colab_type": "code",
        "outputId": "4831e9ec-5890-4570-804e-ece5db15aafe",
        "colab": {
          "base_uri": "https://localhost:8080/",
          "height": 436
        }
      },
      "source": [
        "!kaggle competitions list "
      ],
      "execution_count": 10,
      "outputs": [
        {
          "output_type": "stream",
          "text": [
            "Warning: Looks like you're using an outdated API Version, please consider updating (server 1.5.6 / client 1.5.4)\n",
            "ref                                               deadline             category            reward  teamCount  userHasEntered  \n",
            "------------------------------------------------  -------------------  ---------------  ---------  ---------  --------------  \n",
            "digit-recognizer                                  2030-01-01 00:00:00  Getting Started  Knowledge       3180            True  \n",
            "titanic                                           2030-01-01 00:00:00  Getting Started  Knowledge      23420            True  \n",
            "house-prices-advanced-regression-techniques       2030-01-01 00:00:00  Getting Started  Knowledge       5345            True  \n",
            "connectx                                          2030-01-01 00:00:00  Getting Started  Knowledge        382           False  \n",
            "nlp-getting-started                               2030-01-01 00:00:00  Getting Started      Kudos       1696            True  \n",
            "competitive-data-science-predict-future-sales     2020-12-31 23:59:00  Playground           Kudos       7162            True  \n",
            "siim-isic-melanoma-classification                 2020-08-17 23:59:00  Featured           $30,000        506           False  \n",
            "global-wheat-detection                            2020-08-04 23:59:00  Research           $15,000        674           False  \n",
            "open-images-object-detection-rvc-2020             2020-07-31 16:00:00  Playground       Knowledge         17           False  \n",
            "open-images-instance-segmentation-rvc-2020        2020-07-31 16:00:00  Playground       Knowledge          3           False  \n",
            "hashcode-photo-slideshow                          2020-07-27 23:59:00  Playground       Knowledge         33           False  \n",
            "prostate-cancer-grade-assessment                  2020-07-22 23:59:00  Featured           $25,000        517           False  \n",
            "alaska2-image-steganalysis                        2020-07-20 23:59:00  Research           $25,000        450           False  \n",
            "halite                                            2020-06-30 23:59:00  Featured             Kudos          0           False  \n",
            "m5-forecasting-accuracy                           2020-06-30 23:59:00  Featured           $50,000       4659           False  \n",
            "m5-forecasting-uncertainty                        2020-06-30 23:59:00  Featured           $50,000        559           False  \n",
            "trends-assessment-prediction                      2020-06-29 23:59:00  Research           $25,000        563           False  \n",
            "jigsaw-multilingual-toxic-comment-classification  2020-06-22 23:59:00  Featured           $50,000       1225           False  \n",
            "tweet-sentiment-extraction                        2020-06-16 23:59:00  Featured           $15,000       1769           False  \n",
            "trec-covid-information-retrieval                  2020-06-03 11:00:00  Research             Kudos         19           False  \n"
          ],
          "name": "stdout"
        }
      ]
    },
    {
      "cell_type": "code",
      "metadata": {
        "id": "earKs4M8NL96",
        "colab_type": "code",
        "outputId": "bdcc0720-70d0-45bf-bab8-b3eb08c13538",
        "colab": {
          "base_uri": "https://localhost:8080/",
          "height": 211
        }
      },
      "source": [
        "!kaggle competitions download -c nlp-getting-started"
      ],
      "execution_count": 11,
      "outputs": [
        {
          "output_type": "stream",
          "text": [
            "Warning: Looks like you're using an outdated API Version, please consider updating (server 1.5.6 / client 1.5.4)\n",
            "Downloading train.csv to /content\n",
            "\r  0% 0.00/965k [00:00<?, ?B/s]\n",
            "100% 965k/965k [00:00<00:00, 66.8MB/s]\n",
            "Downloading test.csv to /content\n",
            "  0% 0.00/411k [00:00<?, ?B/s]\n",
            "100% 411k/411k [00:00<00:00, 134MB/s]\n",
            "Downloading sample_submission.csv to /content\n",
            "  0% 0.00/22.2k [00:00<?, ?B/s]\n",
            "100% 22.2k/22.2k [00:00<00:00, 23.6MB/s]\n"
          ],
          "name": "stdout"
        }
      ]
    },
    {
      "cell_type": "code",
      "metadata": {
        "id": "Z6gxpwgROgxt",
        "colab_type": "code",
        "outputId": "f2515154-c5df-47eb-9b2d-542ba8b61d05",
        "colab": {
          "base_uri": "https://localhost:8080/",
          "height": 55
        }
      },
      "source": [
        "!ls -a"
      ],
      "execution_count": 12,
      "outputs": [
        {
          "output_type": "stream",
          "text": [
            ".  ..  .config\tdrive  sample_data  sample_submission.csv  test.csv  train.csv\n"
          ],
          "name": "stdout"
        }
      ]
    },
    {
      "cell_type": "markdown",
      "metadata": {
        "id": "-UlNWoPsUP4x",
        "colab_type": "text"
      },
      "source": [
        "# Real or Not? NLP with Disaster Tweets"
      ]
    },
    {
      "cell_type": "markdown",
      "metadata": {
        "id": "IY_rvGdYUUQg",
        "colab_type": "text"
      },
      "source": [
        "## ---- DEFINE ----"
      ]
    },
    {
      "cell_type": "markdown",
      "metadata": {
        "id": "aShKHWYIUZr_",
        "colab_type": "text"
      },
      "source": [
        "To analyze text data in the form of various tweets regarding natural disasters and predict whether the tweet is genuine with regards to the natural disaster or not."
      ]
    },
    {
      "cell_type": "markdown",
      "metadata": {
        "id": "hWT1OmCCpDPH",
        "colab_type": "text"
      },
      "source": [
        "## ---- DISCOVER ----"
      ]
    },
    {
      "cell_type": "code",
      "metadata": {
        "id": "W4PEDhOrO_eA",
        "colab_type": "code",
        "outputId": "c1263374-3ec9-4725-a44b-1a4099de6849",
        "colab": {
          "base_uri": "https://localhost:8080/",
          "height": 191
        }
      },
      "source": [
        "# import the necessary libraries\n",
        "import re\n",
        "import numpy as np\n",
        "import pandas as pd\n",
        "pd.set_option('display.max_columns', 100)\n",
        "pd.set_option('display.max_colwidth', 100)\n",
        "import nltk, string\n",
        "nltk.download('punkt')\n",
        "nltk.download('stopwords')\n",
        "nltk.download('wordnet')\n",
        "nltk.download('averaged_perceptron_tagger')\n",
        "import matplotlib.pyplot as plt\n",
        "import seaborn as sns\n",
        "from wordcloud import WordCloud\n",
        "from sklearn.feature_extraction.text import TfidfVectorizer\n",
        "from sklearn.preprocessing import FunctionTransformer, MinMaxScaler\n",
        "from sklearn.feature_selection import SelectKBest, f_classif\n",
        "from nltk import word_tokenize, pos_tag, ne_chunk\n",
        "from nltk.corpus import stopwords\n",
        "from nltk.stem import WordNetLemmatizer\n",
        "from sklearn.model_selection import train_test_split\n",
        "from sklearn.linear_model import LogisticRegression\n",
        "from sklearn.naive_bayes import MultinomialNB\n",
        "from sklearn.pipeline import FeatureUnion, Pipeline\n",
        "from tensorflow.keras.preprocessing.sequence import pad_sequences\n",
        "from tensorflow.keras.models import Sequential\n",
        "from tensorflow.keras.layers import Dense, GlobalAveragePooling1D, GlobalMaxPooling1D, \\\n",
        "Embedding, LSTM, Input, SpatialDropout1D, Masking, BatchNormalization, Dropout"
      ],
      "execution_count": 13,
      "outputs": [
        {
          "output_type": "stream",
          "text": [
            "[nltk_data] Downloading package punkt to /root/nltk_data...\n",
            "[nltk_data]   Package punkt is already up-to-date!\n",
            "[nltk_data] Downloading package stopwords to /root/nltk_data...\n",
            "[nltk_data]   Package stopwords is already up-to-date!\n",
            "[nltk_data] Downloading package wordnet to /root/nltk_data...\n",
            "[nltk_data]   Package wordnet is already up-to-date!\n",
            "[nltk_data] Downloading package averaged_perceptron_tagger to\n",
            "[nltk_data]     /root/nltk_data...\n",
            "[nltk_data]   Package averaged_perceptron_tagger is already up-to-\n",
            "[nltk_data]       date!\n"
          ],
          "name": "stdout"
        }
      ]
    },
    {
      "cell_type": "code",
      "metadata": {
        "id": "FQwfTTeSGcDs",
        "colab_type": "code",
        "outputId": "ff6fc719-9a6d-4f3a-f616-29c2bea44edc",
        "colab": {
          "base_uri": "https://localhost:8080/",
          "height": 271
        }
      },
      "source": [
        "# load and examine the training data\n",
        "df = pd.read_csv('train.csv')\n",
        "df.head()"
      ],
      "execution_count": 14,
      "outputs": [
        {
          "output_type": "execute_result",
          "data": {
            "text/html": [
              "<div>\n",
              "<style scoped>\n",
              "    .dataframe tbody tr th:only-of-type {\n",
              "        vertical-align: middle;\n",
              "    }\n",
              "\n",
              "    .dataframe tbody tr th {\n",
              "        vertical-align: top;\n",
              "    }\n",
              "\n",
              "    .dataframe thead th {\n",
              "        text-align: right;\n",
              "    }\n",
              "</style>\n",
              "<table border=\"1\" class=\"dataframe\">\n",
              "  <thead>\n",
              "    <tr style=\"text-align: right;\">\n",
              "      <th></th>\n",
              "      <th>id</th>\n",
              "      <th>keyword</th>\n",
              "      <th>location</th>\n",
              "      <th>text</th>\n",
              "      <th>target</th>\n",
              "    </tr>\n",
              "  </thead>\n",
              "  <tbody>\n",
              "    <tr>\n",
              "      <th>0</th>\n",
              "      <td>1</td>\n",
              "      <td>NaN</td>\n",
              "      <td>NaN</td>\n",
              "      <td>Our Deeds are the Reason of this #earthquake May ALLAH Forgive us all</td>\n",
              "      <td>1</td>\n",
              "    </tr>\n",
              "    <tr>\n",
              "      <th>1</th>\n",
              "      <td>4</td>\n",
              "      <td>NaN</td>\n",
              "      <td>NaN</td>\n",
              "      <td>Forest fire near La Ronge Sask. Canada</td>\n",
              "      <td>1</td>\n",
              "    </tr>\n",
              "    <tr>\n",
              "      <th>2</th>\n",
              "      <td>5</td>\n",
              "      <td>NaN</td>\n",
              "      <td>NaN</td>\n",
              "      <td>All residents asked to 'shelter in place' are being notified by officers. No other evacuation or...</td>\n",
              "      <td>1</td>\n",
              "    </tr>\n",
              "    <tr>\n",
              "      <th>3</th>\n",
              "      <td>6</td>\n",
              "      <td>NaN</td>\n",
              "      <td>NaN</td>\n",
              "      <td>13,000 people receive #wildfires evacuation orders in California</td>\n",
              "      <td>1</td>\n",
              "    </tr>\n",
              "    <tr>\n",
              "      <th>4</th>\n",
              "      <td>7</td>\n",
              "      <td>NaN</td>\n",
              "      <td>NaN</td>\n",
              "      <td>Just got sent this photo from Ruby #Alaska as smoke from #wildfires pours into a school</td>\n",
              "      <td>1</td>\n",
              "    </tr>\n",
              "  </tbody>\n",
              "</table>\n",
              "</div>"
            ],
            "text/plain": [
              "   id keyword location  \\\n",
              "0   1     NaN      NaN   \n",
              "1   4     NaN      NaN   \n",
              "2   5     NaN      NaN   \n",
              "3   6     NaN      NaN   \n",
              "4   7     NaN      NaN   \n",
              "\n",
              "                                                                                                  text  \\\n",
              "0                                Our Deeds are the Reason of this #earthquake May ALLAH Forgive us all   \n",
              "1                                                               Forest fire near La Ronge Sask. Canada   \n",
              "2  All residents asked to 'shelter in place' are being notified by officers. No other evacuation or...   \n",
              "3                                    13,000 people receive #wildfires evacuation orders in California    \n",
              "4             Just got sent this photo from Ruby #Alaska as smoke from #wildfires pours into a school    \n",
              "\n",
              "   target  \n",
              "0       1  \n",
              "1       1  \n",
              "2       1  \n",
              "3       1  \n",
              "4       1  "
            ]
          },
          "metadata": {
            "tags": []
          },
          "execution_count": 14
        }
      ]
    },
    {
      "cell_type": "code",
      "metadata": {
        "id": "DxZT2pyZG4Xf",
        "colab_type": "code",
        "outputId": "1b578bd7-b923-4b73-cb7e-4acb1ad94adb",
        "colab": {
          "base_uri": "https://localhost:8080/",
          "height": 219
        }
      },
      "source": [
        "# load and examine the testing data\n",
        "df_test = pd.read_csv('test.csv')\n",
        "df_test.head()"
      ],
      "execution_count": 15,
      "outputs": [
        {
          "output_type": "execute_result",
          "data": {
            "text/html": [
              "<div>\n",
              "<style scoped>\n",
              "    .dataframe tbody tr th:only-of-type {\n",
              "        vertical-align: middle;\n",
              "    }\n",
              "\n",
              "    .dataframe tbody tr th {\n",
              "        vertical-align: top;\n",
              "    }\n",
              "\n",
              "    .dataframe thead th {\n",
              "        text-align: right;\n",
              "    }\n",
              "</style>\n",
              "<table border=\"1\" class=\"dataframe\">\n",
              "  <thead>\n",
              "    <tr style=\"text-align: right;\">\n",
              "      <th></th>\n",
              "      <th>id</th>\n",
              "      <th>keyword</th>\n",
              "      <th>location</th>\n",
              "      <th>text</th>\n",
              "    </tr>\n",
              "  </thead>\n",
              "  <tbody>\n",
              "    <tr>\n",
              "      <th>0</th>\n",
              "      <td>0</td>\n",
              "      <td>NaN</td>\n",
              "      <td>NaN</td>\n",
              "      <td>Just happened a terrible car crash</td>\n",
              "    </tr>\n",
              "    <tr>\n",
              "      <th>1</th>\n",
              "      <td>2</td>\n",
              "      <td>NaN</td>\n",
              "      <td>NaN</td>\n",
              "      <td>Heard about #earthquake is different cities, stay safe everyone.</td>\n",
              "    </tr>\n",
              "    <tr>\n",
              "      <th>2</th>\n",
              "      <td>3</td>\n",
              "      <td>NaN</td>\n",
              "      <td>NaN</td>\n",
              "      <td>there is a forest fire at spot pond, geese are fleeing across the street, I cannot save them all</td>\n",
              "    </tr>\n",
              "    <tr>\n",
              "      <th>3</th>\n",
              "      <td>9</td>\n",
              "      <td>NaN</td>\n",
              "      <td>NaN</td>\n",
              "      <td>Apocalypse lighting. #Spokane #wildfires</td>\n",
              "    </tr>\n",
              "    <tr>\n",
              "      <th>4</th>\n",
              "      <td>11</td>\n",
              "      <td>NaN</td>\n",
              "      <td>NaN</td>\n",
              "      <td>Typhoon Soudelor kills 28 in China and Taiwan</td>\n",
              "    </tr>\n",
              "  </tbody>\n",
              "</table>\n",
              "</div>"
            ],
            "text/plain": [
              "   id keyword location  \\\n",
              "0   0     NaN      NaN   \n",
              "1   2     NaN      NaN   \n",
              "2   3     NaN      NaN   \n",
              "3   9     NaN      NaN   \n",
              "4  11     NaN      NaN   \n",
              "\n",
              "                                                                                               text  \n",
              "0                                                                Just happened a terrible car crash  \n",
              "1                                  Heard about #earthquake is different cities, stay safe everyone.  \n",
              "2  there is a forest fire at spot pond, geese are fleeing across the street, I cannot save them all  \n",
              "3                                                          Apocalypse lighting. #Spokane #wildfires  \n",
              "4                                                     Typhoon Soudelor kills 28 in China and Taiwan  "
            ]
          },
          "metadata": {
            "tags": []
          },
          "execution_count": 15
        }
      ]
    },
    {
      "cell_type": "code",
      "metadata": {
        "id": "GAZgF-p_HknG",
        "colab_type": "code",
        "colab": {}
      },
      "source": [
        "# drop 'id' column from training data\n",
        "df.drop(['id'], axis = 1, inplace = True)"
      ],
      "execution_count": 0,
      "outputs": []
    },
    {
      "cell_type": "markdown",
      "metadata": {
        "id": "o4PfsTj7LUOw",
        "colab_type": "text"
      },
      "source": [
        "### Exploratory Data Analysis (EDA)"
      ]
    },
    {
      "cell_type": "code",
      "metadata": {
        "id": "uDAZ5Nq5K436",
        "colab_type": "code",
        "outputId": "7b2523c1-eb87-4da0-b07f-dd1b46593b42",
        "colab": {
          "base_uri": "https://localhost:8080/",
          "height": 297
        }
      },
      "source": [
        "sns.countplot(df['target'])"
      ],
      "execution_count": 17,
      "outputs": [
        {
          "output_type": "execute_result",
          "data": {
            "text/plain": [
              "<matplotlib.axes._subplots.AxesSubplot at 0x7ff6064bdb00>"
            ]
          },
          "metadata": {
            "tags": []
          },
          "execution_count": 17
        },
        {
          "output_type": "display_data",
          "data": {
            "image/png": "[encoded data removed]",
            "text/plain": [
              "<Figure size 432x288 with 1 Axes>"
            ]
          },
          "metadata": {
            "tags": [],
            "needs_background": "light"
          }
        }
      ]
    },
    {
      "cell_type": "code",
      "metadata": {
        "id": "chcKlpKQTci9",
        "colab_type": "code",
        "colab": {}
      },
      "source": [
        "tweets_text = df['text'].values.tolist()"
      ],
      "execution_count": 0,
      "outputs": []
    },
    {
      "cell_type": "markdown",
      "metadata": {
        "id": "u4N2syD-UK8F",
        "colab_type": "text"
      },
      "source": [
        "**Perform Basic Text Preprocessing** "
      ]
    },
    {
      "cell_type": "code",
      "metadata": {
        "id": "Q0N4Y22QT6uW",
        "colab_type": "code",
        "colab": {}
      },
      "source": [
        "# create a set of stopwords\n",
        "stop_words = set(stopwords.words('english'))\n",
        "\n",
        "# create empty list to store preprocessed tweets\n",
        "tweet_corpus = []\n",
        "\n",
        "# create word corpus to check frequency distribution for words\n",
        "word_corpus = []\n",
        "\n",
        "# create word corpus to check frequency distribution for lemmatized words\n",
        "lemmatized_word_corpus = []\n",
        "\n",
        "for tweet in tweets_text:\n",
        "    \n",
        "    # remove non-word characters\n",
        "    preprocessed_tweet = re.sub(r'\\W', ' ', tweet)\n",
        "\n",
        "    # eliminate single characters\n",
        "    preprocessed_tweet = re.sub(r'\\s+[a-z]\\s+', ' ', preprocessed_tweet)\n",
        "\n",
        "    # convert all words to lowercase\n",
        "    preprocessed_tweet = preprocessed_tweet.lower()\n",
        "\n",
        "    # eliminate punctuation\n",
        "    preprocessed_tweet = re.sub(r'^[a-z]\\s+', ' ', preprocessed_tweet)\n",
        "\n",
        "    # eliminate 1 or more spaces\n",
        "    preprocessed_tweet = re.sub(r'\\s+', ' ', preprocessed_tweet)\n",
        "\n",
        "    # remove stopwords\n",
        "    words = word_tokenize(preprocessed_tweet)\n",
        "    tokens = [word for word in words if word not in stop_words]\n",
        "    filtered_tweet = ' '.join(tokens)\n",
        "\n",
        "    # Perform lemmatization upon each token\n",
        "    lemmatizer = WordNetLemmatizer()\n",
        "    lemmatized_tokens = [lemmatizer.lemmatize(token) for token in tokens]\n",
        "    lemmatized_filtered_tweet = ' '.join(lemmatized_tokens)\n",
        "\n",
        "    # add tokens to word corpus to generate frequency distribution\n",
        "    word_corpus.append(tokens)\n",
        "\n",
        "    # add lemmatized tokens to lemmatized word corpus to generate frequency distribution\n",
        "    lemmatized_word_corpus.append(lemmatized_tokens)\n",
        "\n",
        "    tweet_corpus.append(lemmatized_filtered_tweet)\n",
        "    # tweet_corpus.append(filtered_tweet)"
      ],
      "execution_count": 0,
      "outputs": []
    },
    {
      "cell_type": "code",
      "metadata": {
        "id": "jwLlcs6eW1KS",
        "colab_type": "code",
        "outputId": "73d5b534-2a6c-4448-a419-29de3a496451",
        "colab": {
          "base_uri": "https://localhost:8080/",
          "height": 124
        }
      },
      "source": [
        "tweet_corpus[:5]"
      ],
      "execution_count": 20,
      "outputs": [
        {
          "output_type": "execute_result",
          "data": {
            "text/plain": [
              "['deed reason earthquake may allah forgive u',\n",
              " 'forest fire near la ronge sask canada',\n",
              " 'resident asked shelter place notified officer evacuation shelter place order expected',\n",
              " '13 000 people receive wildfire evacuation order california',\n",
              " 'got sent photo ruby alaska smoke wildfire pours school']"
            ]
          },
          "metadata": {
            "tags": []
          },
          "execution_count": 20
        }
      ]
    },
    {
      "cell_type": "code",
      "metadata": {
        "id": "f6Guq5HBWd9t",
        "colab_type": "code",
        "outputId": "e5cd5ee6-8e85-43e8-f511-ac5baf9ce695",
        "colab": {
          "base_uri": "https://localhost:8080/",
          "height": 451
        }
      },
      "source": [
        "# flatten word corpus from 2D to 1D\n",
        "word_dist = sum(word_corpus, [])\n",
        "\n",
        "# Obtain 25 most frequent words in the corpus\n",
        "frequency_dist = nltk.FreqDist(word_dist)\n",
        "sorted(frequency_dist,key=frequency_dist.__getitem__, reverse=True)[0:25]"
      ],
      "execution_count": 21,
      "outputs": [
        {
          "output_type": "execute_result",
          "data": {
            "text/plain": [
              "['co',\n",
              " 'http',\n",
              " 'https',\n",
              " 'like',\n",
              " 'û_',\n",
              " 'amp',\n",
              " 'fire',\n",
              " 'get',\n",
              " 'new',\n",
              " 'via',\n",
              " '2',\n",
              " 'people',\n",
              " 'news',\n",
              " 'one',\n",
              " 'video',\n",
              " 'disaster',\n",
              " 'emergency',\n",
              " 'police',\n",
              " 'would',\n",
              " '3',\n",
              " 'body',\n",
              " 'still',\n",
              " 'us',\n",
              " 'got',\n",
              " 'california']"
            ]
          },
          "metadata": {
            "tags": []
          },
          "execution_count": 21
        }
      ]
    },
    {
      "cell_type": "code",
      "metadata": {
        "id": "WH7vz3Z8W0Q6",
        "colab_type": "code",
        "outputId": "4330159f-633f-4229-f1df-e872b8cf8d5b",
        "colab": {
          "base_uri": "https://localhost:8080/",
          "height": 198
        }
      },
      "source": [
        "# generate Word Cloud\n",
        "wordcloud = WordCloud().generate_from_frequencies(frequency_dist)\n",
        "plt.imshow(wordcloud)\n",
        "plt.axis(\"off\")\n",
        "plt.show()"
      ],
      "execution_count": 22,
      "outputs": [
        {
          "output_type": "display_data",
          "data": {
            "image/png": "[encoded data removed]",
            "text/plain": [
              "<Figure size 432x288 with 1 Axes>"
            ]
          },
          "metadata": {
            "tags": [],
            "needs_background": "light"
          }
        }
      ]
    },
    {
      "cell_type": "markdown",
      "metadata": {
        "id": "jmPocgT7ioL3",
        "colab_type": "text"
      },
      "source": [
        "#### N-Gram Analyses (All tweets)"
      ]
    },
    {
      "cell_type": "code",
      "metadata": {
        "id": "11VILwggscWm",
        "colab_type": "code",
        "colab": {}
      },
      "source": [
        "def generate_ngram_df(n, docs):\n",
        "    ngstr = ''\n",
        "    if n == 1:\n",
        "        ngstr = 'Unigrams' \n",
        "    elif n == 2:\n",
        "        ngstr = 'Bigrams'\n",
        "    elif n == 3:\n",
        "        ngstr = 'Trigrams'\n",
        "    else:\n",
        "        ngstr == 'N-grams'\n",
        "    ngrams = dict()\n",
        "    for doc in docs:\n",
        "        \n",
        "        # remove single hyphens \n",
        "        # clean_doc = re.sub(r'[-]', ' ', doc)\n",
        "        \n",
        "        # eliminate trailing whitespaces\n",
        "        clean_doc = re.sub(r'\\s+', ' ', doc)\n",
        "\n",
        "        words = clean_doc.split(' ')\n",
        "        tokens = [word for word in words if word not in stop_words]\n",
        "        for i in range(len(tokens) - n):\n",
        "            gram = ' '.join(tokens[i:i + n])\n",
        "            if gram not in ngrams.keys():\n",
        "                ngrams[gram] = 1\n",
        "            else:\n",
        "                ngrams[gram] += 1\n",
        "    ngram_df = pd.DataFrame(list(ngrams.items()), columns = [ngstr, 'count'])\n",
        "    return ngram_df"
      ],
      "execution_count": 0,
      "outputs": []
    },
    {
      "cell_type": "markdown",
      "metadata": {
        "id": "OLaTO7ysc0N9",
        "colab_type": "text"
      },
      "source": [
        "**Bigram Analysis**"
      ]
    },
    {
      "cell_type": "code",
      "metadata": {
        "id": "k_-nvy4yaja-",
        "colab_type": "code",
        "outputId": "c81afe75-832b-4502-cd17-435518ae713a",
        "colab": {
          "base_uri": "https://localhost:8080/",
          "height": 355
        }
      },
      "source": [
        "n = 2\n",
        "bigram_df = generate_ngram_df(n, tweets_text)\n",
        "bigram_df.sort_values(by = 'count', ascending = False, inplace = True, ignore_index = True)\n",
        "bigram_df.head(10)"
      ],
      "execution_count": 24,
      "outputs": [
        {
          "output_type": "execute_result",
          "data": {
            "text/html": [
              "<div>\n",
              "<style scoped>\n",
              "    .dataframe tbody tr th:only-of-type {\n",
              "        vertical-align: middle;\n",
              "    }\n",
              "\n",
              "    .dataframe tbody tr th {\n",
              "        vertical-align: top;\n",
              "    }\n",
              "\n",
              "    .dataframe thead th {\n",
              "        text-align: right;\n",
              "    }\n",
              "</style>\n",
              "<table border=\"1\" class=\"dataframe\">\n",
              "  <thead>\n",
              "    <tr style=\"text-align: right;\">\n",
              "      <th></th>\n",
              "      <th>Bigrams</th>\n",
              "      <th>count</th>\n",
              "    </tr>\n",
              "  </thead>\n",
              "  <tbody>\n",
              "    <tr>\n",
              "      <th>0</th>\n",
              "      <td>- Full</td>\n",
              "      <td>66</td>\n",
              "    </tr>\n",
              "    <tr>\n",
              "      <th>1</th>\n",
              "      <td>I liked</td>\n",
              "      <td>42</td>\n",
              "    </tr>\n",
              "    <tr>\n",
              "      <th>2</th>\n",
              "      <td>liked @YouTube</td>\n",
              "      <td>41</td>\n",
              "    </tr>\n",
              "    <tr>\n",
              "      <th>3</th>\n",
              "      <td>@YouTube video</td>\n",
              "      <td>41</td>\n",
              "    </tr>\n",
              "    <tr>\n",
              "      <th>4</th>\n",
              "      <td>burning buildings</td>\n",
              "      <td>40</td>\n",
              "    </tr>\n",
              "    <tr>\n",
              "      <th>5</th>\n",
              "      <td>suicide bomber</td>\n",
              "      <td>37</td>\n",
              "    </tr>\n",
              "    <tr>\n",
              "      <th>6</th>\n",
              "      <td>Northern California</td>\n",
              "      <td>36</td>\n",
              "    </tr>\n",
              "    <tr>\n",
              "      <th>7</th>\n",
              "      <td>I think</td>\n",
              "      <td>33</td>\n",
              "    </tr>\n",
              "    <tr>\n",
              "      <th>8</th>\n",
              "      <td>Cross Body</td>\n",
              "      <td>32</td>\n",
              "    </tr>\n",
              "    <tr>\n",
              "      <th>9</th>\n",
              "      <td>I feel</td>\n",
              "      <td>31</td>\n",
              "    </tr>\n",
              "  </tbody>\n",
              "</table>\n",
              "</div>"
            ],
            "text/plain": [
              "               Bigrams  count\n",
              "0               - Full     66\n",
              "1              I liked     42\n",
              "2       liked @YouTube     41\n",
              "3       @YouTube video     41\n",
              "4    burning buildings     40\n",
              "5       suicide bomber     37\n",
              "6  Northern California     36\n",
              "7              I think     33\n",
              "8           Cross Body     32\n",
              "9               I feel     31"
            ]
          },
          "metadata": {
            "tags": []
          },
          "execution_count": 24
        }
      ]
    },
    {
      "cell_type": "code",
      "metadata": {
        "id": "fz01vBJiXxSW",
        "colab_type": "code",
        "outputId": "f535d109-be0f-440d-add0-1faccb174481",
        "colab": {
          "base_uri": "https://localhost:8080/",
          "height": 843
        }
      },
      "source": [
        "fig = plt.figure(figsize = (15, 10))\n",
        "chart = sns.barplot(x = bigram_df['Bigrams'].head(20), y = bigram_df['count'].head(20))\n",
        "chart.set_xticklabels(chart.get_xticklabels(), rotation = 45)"
      ],
      "execution_count": 25,
      "outputs": [
        {
          "output_type": "execute_result",
          "data": {
            "text/plain": [
              "[Text(0, 0, '- Full'),\n",
              " Text(0, 0, 'I liked'),\n",
              " Text(0, 0, 'liked @YouTube'),\n",
              " Text(0, 0, '@YouTube video'),\n",
              " Text(0, 0, 'burning buildings'),\n",
              " Text(0, 0, 'suicide bomber'),\n",
              " Text(0, 0, 'Northern California'),\n",
              " Text(0, 0, 'I think'),\n",
              " Text(0, 0, 'Cross Body'),\n",
              " Text(0, 0, 'I feel'),\n",
              " Text(0, 0, 'The Latest:'),\n",
              " Text(0, 0, 'bomber detonated'),\n",
              " Text(0, 0, 'PKK suicide'),\n",
              " Text(0, 0, 'Latest: More'),\n",
              " Text(0, 0, 'oil spill'),\n",
              " Text(0, 0, '16yr old'),\n",
              " Text(0, 0, 'detonated bomb'),\n",
              " Text(0, 0, 'I know'),\n",
              " Text(0, 0, '- The'),\n",
              " Text(0, 0, \"I can't\")]"
            ]
          },
          "metadata": {
            "tags": []
          },
          "execution_count": 25
        },
        {
          "output_type": "display_data",
          "data": {
            "image/png": "[encoded data removed]",
            "text/plain": [
              "<Figure size 1080x720 with 1 Axes>"
            ]
          },
          "metadata": {
            "tags": [],
            "needs_background": "light"
          }
        }
      ]
    },
    {
      "cell_type": "markdown",
      "metadata": {
        "colab_type": "text",
        "id": "2IjDm85zeK0A"
      },
      "source": [
        "**Trigram Analysis**"
      ]
    },
    {
      "cell_type": "code",
      "metadata": {
        "id": "cSSB29H5con5",
        "colab_type": "code",
        "outputId": "c9f1b335-1509-49e7-bf82-8c4f15fb9560",
        "colab": {
          "base_uri": "https://localhost:8080/",
          "height": 355
        }
      },
      "source": [
        "n = 3\n",
        "trigram_df = generate_ngram_df(n, tweets_text)\n",
        "trigram_df.sort_values(by = 'count', ascending = False, inplace = True, ignore_index = True)\n",
        "trigram_df.head(10)"
      ],
      "execution_count": 26,
      "outputs": [
        {
          "output_type": "execute_result",
          "data": {
            "text/html": [
              "<div>\n",
              "<style scoped>\n",
              "    .dataframe tbody tr th:only-of-type {\n",
              "        vertical-align: middle;\n",
              "    }\n",
              "\n",
              "    .dataframe tbody tr th {\n",
              "        vertical-align: top;\n",
              "    }\n",
              "\n",
              "    .dataframe thead th {\n",
              "        text-align: right;\n",
              "    }\n",
              "</style>\n",
              "<table border=\"1\" class=\"dataframe\">\n",
              "  <thead>\n",
              "    <tr style=\"text-align: right;\">\n",
              "      <th></th>\n",
              "      <th>Trigrams</th>\n",
              "      <th>count</th>\n",
              "    </tr>\n",
              "  </thead>\n",
              "  <tbody>\n",
              "    <tr>\n",
              "      <th>0</th>\n",
              "      <td>I liked @YouTube</td>\n",
              "      <td>41</td>\n",
              "    </tr>\n",
              "    <tr>\n",
              "      <th>1</th>\n",
              "      <td>liked @YouTube video</td>\n",
              "      <td>41</td>\n",
              "    </tr>\n",
              "    <tr>\n",
              "      <th>2</th>\n",
              "      <td>suicide bomber detonated</td>\n",
              "      <td>30</td>\n",
              "    </tr>\n",
              "    <tr>\n",
              "      <th>3</th>\n",
              "      <td>The Latest: More</td>\n",
              "      <td>28</td>\n",
              "    </tr>\n",
              "    <tr>\n",
              "      <th>4</th>\n",
              "      <td>bomber detonated bomb</td>\n",
              "      <td>28</td>\n",
              "    </tr>\n",
              "    <tr>\n",
              "      <th>5</th>\n",
              "      <td>PKK suicide bomber</td>\n",
              "      <td>28</td>\n",
              "    </tr>\n",
              "    <tr>\n",
              "      <th>6</th>\n",
              "      <td>- Full reÛ_</td>\n",
              "      <td>27</td>\n",
              "    </tr>\n",
              "    <tr>\n",
              "      <th>7</th>\n",
              "      <td>old PKK suicide</td>\n",
              "      <td>27</td>\n",
              "    </tr>\n",
              "    <tr>\n",
              "      <th>8</th>\n",
              "      <td>16yr old PKK</td>\n",
              "      <td>27</td>\n",
              "    </tr>\n",
              "    <tr>\n",
              "      <th>9</th>\n",
              "      <td>affected fatal outbreak</td>\n",
              "      <td>26</td>\n",
              "    </tr>\n",
              "  </tbody>\n",
              "</table>\n",
              "</div>"
            ],
            "text/plain": [
              "                   Trigrams  count\n",
              "0          I liked @YouTube     41\n",
              "1      liked @YouTube video     41\n",
              "2  suicide bomber detonated     30\n",
              "3          The Latest: More     28\n",
              "4     bomber detonated bomb     28\n",
              "5        PKK suicide bomber     28\n",
              "6              - Full reÛ_     27\n",
              "7           old PKK suicide     27\n",
              "8              16yr old PKK     27\n",
              "9   affected fatal outbreak     26"
            ]
          },
          "metadata": {
            "tags": []
          },
          "execution_count": 26
        }
      ]
    },
    {
      "cell_type": "code",
      "metadata": {
        "id": "cuzm8IBBhOf2",
        "colab_type": "code",
        "outputId": "a63f2675-abfd-4c64-c6e4-b32b5e67ec73",
        "colab": {
          "base_uri": "https://localhost:8080/",
          "height": 935
        }
      },
      "source": [
        "fig = plt.figure(figsize = (15, 10))\n",
        "chart = sns.barplot(x = trigram_df['Trigrams'].head(20), y = trigram_df['count'].head(20))\n",
        "chart.set_xticklabels(chart.get_xticklabels(), rotation = 45)"
      ],
      "execution_count": 27,
      "outputs": [
        {
          "output_type": "execute_result",
          "data": {
            "text/plain": [
              "[Text(0, 0, 'I liked @YouTube'),\n",
              " Text(0, 0, 'liked @YouTube video'),\n",
              " Text(0, 0, 'suicide bomber detonated'),\n",
              " Text(0, 0, 'The Latest: More'),\n",
              " Text(0, 0, 'bomber detonated bomb'),\n",
              " Text(0, 0, 'PKK suicide bomber'),\n",
              " Text(0, 0, '- Full re\\x89Û_'),\n",
              " Text(0, 0, 'old PKK suicide'),\n",
              " Text(0, 0, '16yr old PKK'),\n",
              " Text(0, 0, 'affected fatal outbreak'),\n",
              " Text(0, 0, 'families affected fatal'),\n",
              " Text(0, 0, '40 families affected'),\n",
              " Text(0, 0, 'More 40 families'),\n",
              " Text(0, 0, '- Full read'),\n",
              " Text(0, 0, 'sue Legionnaires: More'),\n",
              " Text(0, 0, 'Legionnaires: More 40'),\n",
              " Text(0, 0, 'Families sue Legionnaires:'),\n",
              " Text(0, 0, 'In Under A'),\n",
              " Text(0, 0, 'Sandstorm In Under'),\n",
              " Text(0, 0, 'Up By A')]"
            ]
          },
          "metadata": {
            "tags": []
          },
          "execution_count": 27
        },
        {
          "output_type": "stream",
          "text": [
            "/usr/local/lib/python3.6/dist-packages/matplotlib/backends/backend_agg.py:214: RuntimeWarning: Glyph 137 missing from current font.\n",
            "  font.set_text(s, 0.0, flags=flags)\n",
            "/usr/local/lib/python3.6/dist-packages/matplotlib/backends/backend_agg.py:183: RuntimeWarning: Glyph 137 missing from current font.\n",
            "  font.set_text(s, 0, flags=flags)\n"
          ],
          "name": "stderr"
        },
        {
          "output_type": "display_data",
          "data": {
            "image/png": "[encoded data removed]",
            "text/plain": [
              "<Figure size 1080x720 with 1 Axes>"
            ]
          },
          "metadata": {
            "tags": [],
            "needs_background": "light"
          }
        }
      ]
    },
    {
      "cell_type": "markdown",
      "metadata": {
        "id": "6hZvRABAf4G8",
        "colab_type": "text"
      },
      "source": [
        "N-Gram Analyses for Real Disaster Tweets (target = 1)"
      ]
    },
    {
      "cell_type": "code",
      "metadata": {
        "id": "OQAqGKDxeVXc",
        "colab_type": "code",
        "outputId": "97fffc26-bf1c-44cb-8780-c3830d319e9d",
        "colab": {
          "base_uri": "https://localhost:8080/",
          "height": 254
        }
      },
      "source": [
        "real_df = df[df['target'] == 1]\n",
        "real_tweets = real_df['text'].values.tolist()\n",
        "real_df.head()"
      ],
      "execution_count": 28,
      "outputs": [
        {
          "output_type": "execute_result",
          "data": {
            "text/html": [
              "<div>\n",
              "<style scoped>\n",
              "    .dataframe tbody tr th:only-of-type {\n",
              "        vertical-align: middle;\n",
              "    }\n",
              "\n",
              "    .dataframe tbody tr th {\n",
              "        vertical-align: top;\n",
              "    }\n",
              "\n",
              "    .dataframe thead th {\n",
              "        text-align: right;\n",
              "    }\n",
              "</style>\n",
              "<table border=\"1\" class=\"dataframe\">\n",
              "  <thead>\n",
              "    <tr style=\"text-align: right;\">\n",
              "      <th></th>\n",
              "      <th>keyword</th>\n",
              "      <th>location</th>\n",
              "      <th>text</th>\n",
              "      <th>target</th>\n",
              "    </tr>\n",
              "  </thead>\n",
              "  <tbody>\n",
              "    <tr>\n",
              "      <th>0</th>\n",
              "      <td>NaN</td>\n",
              "      <td>NaN</td>\n",
              "      <td>Our Deeds are the Reason of this #earthquake May ALLAH Forgive us all</td>\n",
              "      <td>1</td>\n",
              "    </tr>\n",
              "    <tr>\n",
              "      <th>1</th>\n",
              "      <td>NaN</td>\n",
              "      <td>NaN</td>\n",
              "      <td>Forest fire near La Ronge Sask. Canada</td>\n",
              "      <td>1</td>\n",
              "    </tr>\n",
              "    <tr>\n",
              "      <th>2</th>\n",
              "      <td>NaN</td>\n",
              "      <td>NaN</td>\n",
              "      <td>All residents asked to 'shelter in place' are being notified by officers. No other evacuation or...</td>\n",
              "      <td>1</td>\n",
              "    </tr>\n",
              "    <tr>\n",
              "      <th>3</th>\n",
              "      <td>NaN</td>\n",
              "      <td>NaN</td>\n",
              "      <td>13,000 people receive #wildfires evacuation orders in California</td>\n",
              "      <td>1</td>\n",
              "    </tr>\n",
              "    <tr>\n",
              "      <th>4</th>\n",
              "      <td>NaN</td>\n",
              "      <td>NaN</td>\n",
              "      <td>Just got sent this photo from Ruby #Alaska as smoke from #wildfires pours into a school</td>\n",
              "      <td>1</td>\n",
              "    </tr>\n",
              "  </tbody>\n",
              "</table>\n",
              "</div>"
            ],
            "text/plain": [
              "  keyword location  \\\n",
              "0     NaN      NaN   \n",
              "1     NaN      NaN   \n",
              "2     NaN      NaN   \n",
              "3     NaN      NaN   \n",
              "4     NaN      NaN   \n",
              "\n",
              "                                                                                                  text  \\\n",
              "0                                Our Deeds are the Reason of this #earthquake May ALLAH Forgive us all   \n",
              "1                                                               Forest fire near La Ronge Sask. Canada   \n",
              "2  All residents asked to 'shelter in place' are being notified by officers. No other evacuation or...   \n",
              "3                                    13,000 people receive #wildfires evacuation orders in California    \n",
              "4             Just got sent this photo from Ruby #Alaska as smoke from #wildfires pours into a school    \n",
              "\n",
              "   target  \n",
              "0       1  \n",
              "1       1  \n",
              "2       1  \n",
              "3       1  \n",
              "4       1  "
            ]
          },
          "metadata": {
            "tags": []
          },
          "execution_count": 28
        }
      ]
    },
    {
      "cell_type": "markdown",
      "metadata": {
        "id": "RY0JY2nrgSxn",
        "colab_type": "text"
      },
      "source": [
        "**Bigram Analysis**"
      ]
    },
    {
      "cell_type": "code",
      "metadata": {
        "id": "aioFwJqjgxP5",
        "colab_type": "code",
        "outputId": "1aee273d-f2ca-46af-85db-2421a7268b0d",
        "colab": {
          "base_uri": "https://localhost:8080/",
          "height": 355
        }
      },
      "source": [
        "n = 2\n",
        "real_bigram_df = generate_ngram_df(n, real_tweets)\n",
        "real_bigram_df.sort_values(by = 'count', ascending = False, inplace = True, ignore_index = True)\n",
        "real_bigram_df.head(10)"
      ],
      "execution_count": 29,
      "outputs": [
        {
          "output_type": "execute_result",
          "data": {
            "text/html": [
              "<div>\n",
              "<style scoped>\n",
              "    .dataframe tbody tr th:only-of-type {\n",
              "        vertical-align: middle;\n",
              "    }\n",
              "\n",
              "    .dataframe tbody tr th {\n",
              "        vertical-align: top;\n",
              "    }\n",
              "\n",
              "    .dataframe thead th {\n",
              "        text-align: right;\n",
              "    }\n",
              "</style>\n",
              "<table border=\"1\" class=\"dataframe\">\n",
              "  <thead>\n",
              "    <tr style=\"text-align: right;\">\n",
              "      <th></th>\n",
              "      <th>Bigrams</th>\n",
              "      <th>count</th>\n",
              "    </tr>\n",
              "  </thead>\n",
              "  <tbody>\n",
              "    <tr>\n",
              "      <th>0</th>\n",
              "      <td>suicide bomber</td>\n",
              "      <td>37</td>\n",
              "    </tr>\n",
              "    <tr>\n",
              "      <th>1</th>\n",
              "      <td>Northern California</td>\n",
              "      <td>36</td>\n",
              "    </tr>\n",
              "    <tr>\n",
              "      <th>2</th>\n",
              "      <td>The Latest:</td>\n",
              "      <td>30</td>\n",
              "    </tr>\n",
              "    <tr>\n",
              "      <th>3</th>\n",
              "      <td>bomber detonated</td>\n",
              "      <td>30</td>\n",
              "    </tr>\n",
              "    <tr>\n",
              "      <th>4</th>\n",
              "      <td>Latest: More</td>\n",
              "      <td>28</td>\n",
              "    </tr>\n",
              "    <tr>\n",
              "      <th>5</th>\n",
              "      <td>detonated bomb</td>\n",
              "      <td>28</td>\n",
              "    </tr>\n",
              "    <tr>\n",
              "      <th>6</th>\n",
              "      <td>PKK suicide</td>\n",
              "      <td>28</td>\n",
              "    </tr>\n",
              "    <tr>\n",
              "      <th>7</th>\n",
              "      <td>oil spill</td>\n",
              "      <td>28</td>\n",
              "    </tr>\n",
              "    <tr>\n",
              "      <th>8</th>\n",
              "      <td>16yr old</td>\n",
              "      <td>28</td>\n",
              "    </tr>\n",
              "    <tr>\n",
              "      <th>9</th>\n",
              "      <td>old PKK</td>\n",
              "      <td>27</td>\n",
              "    </tr>\n",
              "  </tbody>\n",
              "</table>\n",
              "</div>"
            ],
            "text/plain": [
              "               Bigrams  count\n",
              "0       suicide bomber     37\n",
              "1  Northern California     36\n",
              "2          The Latest:     30\n",
              "3     bomber detonated     30\n",
              "4         Latest: More     28\n",
              "5       detonated bomb     28\n",
              "6          PKK suicide     28\n",
              "7            oil spill     28\n",
              "8             16yr old     28\n",
              "9              old PKK     27"
            ]
          },
          "metadata": {
            "tags": []
          },
          "execution_count": 29
        }
      ]
    },
    {
      "cell_type": "code",
      "metadata": {
        "id": "6jnBcMCKhHty",
        "colab_type": "code",
        "outputId": "69a0045a-4f54-43ab-83fc-bc6d29e3fdd1",
        "colab": {
          "base_uri": "https://localhost:8080/",
          "height": 843
        }
      },
      "source": [
        "fig = plt.figure(figsize = (15, 10))\n",
        "chart = sns.barplot(x = real_bigram_df['Bigrams'].head(20), y = real_bigram_df['count'].head(20))\n",
        "chart.set_xticklabels(chart.get_xticklabels(), rotation = 45)"
      ],
      "execution_count": 30,
      "outputs": [
        {
          "output_type": "execute_result",
          "data": {
            "text/plain": [
              "[Text(0, 0, 'suicide bomber'),\n",
              " Text(0, 0, 'Northern California'),\n",
              " Text(0, 0, 'The Latest:'),\n",
              " Text(0, 0, 'bomber detonated'),\n",
              " Text(0, 0, 'Latest: More'),\n",
              " Text(0, 0, 'detonated bomb'),\n",
              " Text(0, 0, 'PKK suicide'),\n",
              " Text(0, 0, 'oil spill'),\n",
              " Text(0, 0, '16yr old'),\n",
              " Text(0, 0, 'old PKK'),\n",
              " Text(0, 0, 'Families sue'),\n",
              " Text(0, 0, 'affected fatal'),\n",
              " Text(0, 0, 'families affected'),\n",
              " Text(0, 0, '40 families'),\n",
              " Text(0, 0, 'More 40'),\n",
              " Text(0, 0, 'fatal outbreak'),\n",
              " Text(0, 0, 'suicide bombing'),\n",
              " Text(0, 0, 'sue Legionnaires:'),\n",
              " Text(0, 0, 'Legionnaires: More'),\n",
              " Text(0, 0, 'Watch This')]"
            ]
          },
          "metadata": {
            "tags": []
          },
          "execution_count": 30
        },
        {
          "output_type": "display_data",
          "data": {
            "image/png": "[encoded data removed]",
            "text/plain": [
              "<Figure size 1080x720 with 1 Axes>"
            ]
          },
          "metadata": {
            "tags": [],
            "needs_background": "light"
          }
        }
      ]
    },
    {
      "cell_type": "markdown",
      "metadata": {
        "id": "d86ha2c5htgt",
        "colab_type": "text"
      },
      "source": [
        "**Trigram Analysis** "
      ]
    },
    {
      "cell_type": "code",
      "metadata": {
        "id": "G1jaAv-Ehiqv",
        "colab_type": "code",
        "outputId": "ad6c6b10-dd4b-4135-8827-ab5852b53337",
        "colab": {
          "base_uri": "https://localhost:8080/",
          "height": 355
        }
      },
      "source": [
        "n = 3\n",
        "real_trigram_df = generate_ngram_df(n, real_tweets)\n",
        "real_trigram_df.sort_values(by = 'count', ascending = False, inplace = True, ignore_index = True)\n",
        "real_trigram_df.head(10)"
      ],
      "execution_count": 31,
      "outputs": [
        {
          "output_type": "execute_result",
          "data": {
            "text/html": [
              "<div>\n",
              "<style scoped>\n",
              "    .dataframe tbody tr th:only-of-type {\n",
              "        vertical-align: middle;\n",
              "    }\n",
              "\n",
              "    .dataframe tbody tr th {\n",
              "        vertical-align: top;\n",
              "    }\n",
              "\n",
              "    .dataframe thead th {\n",
              "        text-align: right;\n",
              "    }\n",
              "</style>\n",
              "<table border=\"1\" class=\"dataframe\">\n",
              "  <thead>\n",
              "    <tr style=\"text-align: right;\">\n",
              "      <th></th>\n",
              "      <th>Trigrams</th>\n",
              "      <th>count</th>\n",
              "    </tr>\n",
              "  </thead>\n",
              "  <tbody>\n",
              "    <tr>\n",
              "      <th>0</th>\n",
              "      <td>suicide bomber detonated</td>\n",
              "      <td>30</td>\n",
              "    </tr>\n",
              "    <tr>\n",
              "      <th>1</th>\n",
              "      <td>The Latest: More</td>\n",
              "      <td>28</td>\n",
              "    </tr>\n",
              "    <tr>\n",
              "      <th>2</th>\n",
              "      <td>PKK suicide bomber</td>\n",
              "      <td>28</td>\n",
              "    </tr>\n",
              "    <tr>\n",
              "      <th>3</th>\n",
              "      <td>bomber detonated bomb</td>\n",
              "      <td>28</td>\n",
              "    </tr>\n",
              "    <tr>\n",
              "      <th>4</th>\n",
              "      <td>16yr old PKK</td>\n",
              "      <td>27</td>\n",
              "    </tr>\n",
              "    <tr>\n",
              "      <th>5</th>\n",
              "      <td>old PKK suicide</td>\n",
              "      <td>27</td>\n",
              "    </tr>\n",
              "    <tr>\n",
              "      <th>6</th>\n",
              "      <td>affected fatal outbreak</td>\n",
              "      <td>26</td>\n",
              "    </tr>\n",
              "    <tr>\n",
              "      <th>7</th>\n",
              "      <td>More 40 families</td>\n",
              "      <td>26</td>\n",
              "    </tr>\n",
              "    <tr>\n",
              "      <th>8</th>\n",
              "      <td>40 families affected</td>\n",
              "      <td>26</td>\n",
              "    </tr>\n",
              "    <tr>\n",
              "      <th>9</th>\n",
              "      <td>families affected fatal</td>\n",
              "      <td>26</td>\n",
              "    </tr>\n",
              "  </tbody>\n",
              "</table>\n",
              "</div>"
            ],
            "text/plain": [
              "                   Trigrams  count\n",
              "0  suicide bomber detonated     30\n",
              "1          The Latest: More     28\n",
              "2        PKK suicide bomber     28\n",
              "3     bomber detonated bomb     28\n",
              "4              16yr old PKK     27\n",
              "5           old PKK suicide     27\n",
              "6   affected fatal outbreak     26\n",
              "7          More 40 families     26\n",
              "8      40 families affected     26\n",
              "9   families affected fatal     26"
            ]
          },
          "metadata": {
            "tags": []
          },
          "execution_count": 31
        }
      ]
    },
    {
      "cell_type": "code",
      "metadata": {
        "id": "pyUStKsqh-fX",
        "colab_type": "code",
        "outputId": "ddfff9f6-e9b0-4654-afbe-76c00618f4af",
        "colab": {
          "base_uri": "https://localhost:8080/",
          "height": 854
        }
      },
      "source": [
        "fig = plt.figure(figsize = (15, 10))\n",
        "chart = sns.barplot(x = real_trigram_df['Trigrams'].head(20), y = real_trigram_df['count'].head(20))\n",
        "chart.set_xticklabels(chart.get_xticklabels(), rotation = 45)"
      ],
      "execution_count": 32,
      "outputs": [
        {
          "output_type": "execute_result",
          "data": {
            "text/plain": [
              "[Text(0, 0, 'suicide bomber detonated'),\n",
              " Text(0, 0, 'The Latest: More'),\n",
              " Text(0, 0, 'PKK suicide bomber'),\n",
              " Text(0, 0, 'bomber detonated bomb'),\n",
              " Text(0, 0, '16yr old PKK'),\n",
              " Text(0, 0, 'old PKK suicide'),\n",
              " Text(0, 0, 'affected fatal outbreak'),\n",
              " Text(0, 0, 'More 40 families'),\n",
              " Text(0, 0, '40 families affected'),\n",
              " Text(0, 0, 'families affected fatal'),\n",
              " Text(0, 0, 'Families sue Legionnaires:'),\n",
              " Text(0, 0, 'sue Legionnaires: More'),\n",
              " Text(0, 0, 'Legionnaires: More 40'),\n",
              " Text(0, 0, 'Get Swallowed Up'),\n",
              " Text(0, 0, 'Sandstorm In Under'),\n",
              " Text(0, 0, 'Airport Get Swallowed'),\n",
              " Text(0, 0, 'A Sandstorm In'),\n",
              " Text(0, 0, 'By A Sandstorm'),\n",
              " Text(0, 0, 'Under A Minute'),\n",
              " Text(0, 0, 'Watch This Airport')]"
            ]
          },
          "metadata": {
            "tags": []
          },
          "execution_count": 32
        },
        {
          "output_type": "display_data",
          "data": {
            "image/png": "[encoded data removed]",
            "text/plain": [
              "<Figure size 1080x720 with 1 Axes>"
            ]
          },
          "metadata": {
            "tags": [],
            "needs_background": "light"
          }
        }
      ]
    },
    {
      "cell_type": "markdown",
      "metadata": {
        "id": "LVqwhbmfi4rw",
        "colab_type": "text"
      },
      "source": [
        "N-Gram Analyses for Fake Disaster Tweets (target = 0)"
      ]
    },
    {
      "cell_type": "code",
      "metadata": {
        "id": "xWvBzlrQiLtj",
        "colab_type": "code",
        "outputId": "2587808e-4618-4d57-9404-fdf3230b141f",
        "colab": {
          "base_uri": "https://localhost:8080/",
          "height": 202
        }
      },
      "source": [
        "fake_df = df[df['target'] == 0]\n",
        "fake_tweets = fake_df['text'].values.tolist()\n",
        "fake_df.head()"
      ],
      "execution_count": 33,
      "outputs": [
        {
          "output_type": "execute_result",
          "data": {
            "text/html": [
              "<div>\n",
              "<style scoped>\n",
              "    .dataframe tbody tr th:only-of-type {\n",
              "        vertical-align: middle;\n",
              "    }\n",
              "\n",
              "    .dataframe tbody tr th {\n",
              "        vertical-align: top;\n",
              "    }\n",
              "\n",
              "    .dataframe thead th {\n",
              "        text-align: right;\n",
              "    }\n",
              "</style>\n",
              "<table border=\"1\" class=\"dataframe\">\n",
              "  <thead>\n",
              "    <tr style=\"text-align: right;\">\n",
              "      <th></th>\n",
              "      <th>keyword</th>\n",
              "      <th>location</th>\n",
              "      <th>text</th>\n",
              "      <th>target</th>\n",
              "    </tr>\n",
              "  </thead>\n",
              "  <tbody>\n",
              "    <tr>\n",
              "      <th>15</th>\n",
              "      <td>NaN</td>\n",
              "      <td>NaN</td>\n",
              "      <td>What's up man?</td>\n",
              "      <td>0</td>\n",
              "    </tr>\n",
              "    <tr>\n",
              "      <th>16</th>\n",
              "      <td>NaN</td>\n",
              "      <td>NaN</td>\n",
              "      <td>I love fruits</td>\n",
              "      <td>0</td>\n",
              "    </tr>\n",
              "    <tr>\n",
              "      <th>17</th>\n",
              "      <td>NaN</td>\n",
              "      <td>NaN</td>\n",
              "      <td>Summer is lovely</td>\n",
              "      <td>0</td>\n",
              "    </tr>\n",
              "    <tr>\n",
              "      <th>18</th>\n",
              "      <td>NaN</td>\n",
              "      <td>NaN</td>\n",
              "      <td>My car is so fast</td>\n",
              "      <td>0</td>\n",
              "    </tr>\n",
              "    <tr>\n",
              "      <th>19</th>\n",
              "      <td>NaN</td>\n",
              "      <td>NaN</td>\n",
              "      <td>What a goooooooaaaaaal!!!!!!</td>\n",
              "      <td>0</td>\n",
              "    </tr>\n",
              "  </tbody>\n",
              "</table>\n",
              "</div>"
            ],
            "text/plain": [
              "   keyword location                          text  target\n",
              "15     NaN      NaN                What's up man?       0\n",
              "16     NaN      NaN                 I love fruits       0\n",
              "17     NaN      NaN              Summer is lovely       0\n",
              "18     NaN      NaN             My car is so fast       0\n",
              "19     NaN      NaN  What a goooooooaaaaaal!!!!!!       0"
            ]
          },
          "metadata": {
            "tags": []
          },
          "execution_count": 33
        }
      ]
    },
    {
      "cell_type": "markdown",
      "metadata": {
        "id": "6eYBWE9Hj60G",
        "colab_type": "text"
      },
      "source": [
        "**Bigram Analysis**"
      ]
    },
    {
      "cell_type": "code",
      "metadata": {
        "id": "Sl5ZwOB8jyVh",
        "colab_type": "code",
        "outputId": "c984c16e-55b2-4225-a3fe-bd46ed21f799",
        "colab": {
          "base_uri": "https://localhost:8080/",
          "height": 355
        }
      },
      "source": [
        "n = 2\n",
        "fake_bigram_df = generate_ngram_df(n, fake_tweets)\n",
        "fake_bigram_df.sort_values(by = 'count', ascending = False, inplace = True, ignore_index = True)\n",
        "fake_bigram_df.head(10)"
      ],
      "execution_count": 34,
      "outputs": [
        {
          "output_type": "execute_result",
          "data": {
            "text/html": [
              "<div>\n",
              "<style scoped>\n",
              "    .dataframe tbody tr th:only-of-type {\n",
              "        vertical-align: middle;\n",
              "    }\n",
              "\n",
              "    .dataframe tbody tr th {\n",
              "        vertical-align: top;\n",
              "    }\n",
              "\n",
              "    .dataframe thead th {\n",
              "        text-align: right;\n",
              "    }\n",
              "</style>\n",
              "<table border=\"1\" class=\"dataframe\">\n",
              "  <thead>\n",
              "    <tr style=\"text-align: right;\">\n",
              "      <th></th>\n",
              "      <th>Bigrams</th>\n",
              "      <th>count</th>\n",
              "    </tr>\n",
              "  </thead>\n",
              "  <tbody>\n",
              "    <tr>\n",
              "      <th>0</th>\n",
              "      <td>- Full</td>\n",
              "      <td>60</td>\n",
              "    </tr>\n",
              "    <tr>\n",
              "      <th>1</th>\n",
              "      <td>I liked</td>\n",
              "      <td>35</td>\n",
              "    </tr>\n",
              "    <tr>\n",
              "      <th>2</th>\n",
              "      <td>@YouTube video</td>\n",
              "      <td>34</td>\n",
              "    </tr>\n",
              "    <tr>\n",
              "      <th>3</th>\n",
              "      <td>liked @YouTube</td>\n",
              "      <td>34</td>\n",
              "    </tr>\n",
              "    <tr>\n",
              "      <th>4</th>\n",
              "      <td>Cross Body</td>\n",
              "      <td>31</td>\n",
              "    </tr>\n",
              "    <tr>\n",
              "      <th>5</th>\n",
              "      <td>I feel</td>\n",
              "      <td>25</td>\n",
              "    </tr>\n",
              "    <tr>\n",
              "      <th>6</th>\n",
              "      <td>I think</td>\n",
              "      <td>25</td>\n",
              "    </tr>\n",
              "    <tr>\n",
              "      <th>7</th>\n",
              "      <td>Full reÛ_</td>\n",
              "      <td>25</td>\n",
              "    </tr>\n",
              "    <tr>\n",
              "      <th>8</th>\n",
              "      <td>Full read</td>\n",
              "      <td>22</td>\n",
              "    </tr>\n",
              "    <tr>\n",
              "      <th>9</th>\n",
              "      <td>I can't</td>\n",
              "      <td>22</td>\n",
              "    </tr>\n",
              "  </tbody>\n",
              "</table>\n",
              "</div>"
            ],
            "text/plain": [
              "          Bigrams  count\n",
              "0          - Full     60\n",
              "1         I liked     35\n",
              "2  @YouTube video     34\n",
              "3  liked @YouTube     34\n",
              "4      Cross Body     31\n",
              "5          I feel     25\n",
              "6         I think     25\n",
              "7      Full reÛ_     25\n",
              "8       Full read     22\n",
              "9         I can't     22"
            ]
          },
          "metadata": {
            "tags": []
          },
          "execution_count": 34
        }
      ]
    },
    {
      "cell_type": "code",
      "metadata": {
        "id": "Mlxk8ofMkz1Q",
        "colab_type": "code",
        "outputId": "33ae5806-6363-49b7-da46-29996c63ea28",
        "colab": {
          "base_uri": "https://localhost:8080/",
          "height": 908
        }
      },
      "source": [
        "fig = plt.figure(figsize = (15, 10))\n",
        "chart = sns.barplot(x = fake_bigram_df['Bigrams'].head(20), y = fake_bigram_df['count'].head(20))\n",
        "chart.set_xticklabels(chart.get_xticklabels(), rotation = 45)"
      ],
      "execution_count": 35,
      "outputs": [
        {
          "output_type": "execute_result",
          "data": {
            "text/plain": [
              "[Text(0, 0, '- Full'),\n",
              " Text(0, 0, 'I liked'),\n",
              " Text(0, 0, '@YouTube video'),\n",
              " Text(0, 0, 'liked @YouTube'),\n",
              " Text(0, 0, 'Cross Body'),\n",
              " Text(0, 0, 'I feel'),\n",
              " Text(0, 0, 'I think'),\n",
              " Text(0, 0, 'Full re\\x89Û_'),\n",
              " Text(0, 0, 'Full read'),\n",
              " Text(0, 0, \"I can't\"),\n",
              " Text(0, 0, 'I get'),\n",
              " Text(0, 0, 'content policy'),\n",
              " Text(0, 0, '.: .:'),\n",
              " Text(0, 0, 'I want'),\n",
              " Text(0, 0, 'I know'),\n",
              " Text(0, 0, 'feel like'),\n",
              " Text(0, 0, 'Will Now'),\n",
              " Text(0, 0, 'Now Quarantine'),\n",
              " Text(0, 0, 'I love'),\n",
              " Text(0, 0, 'Fan Army')]"
            ]
          },
          "metadata": {
            "tags": []
          },
          "execution_count": 35
        },
        {
          "output_type": "stream",
          "text": [
            "/usr/local/lib/python3.6/dist-packages/matplotlib/backends/backend_agg.py:214: RuntimeWarning: Glyph 137 missing from current font.\n",
            "  font.set_text(s, 0.0, flags=flags)\n",
            "/usr/local/lib/python3.6/dist-packages/matplotlib/backends/backend_agg.py:183: RuntimeWarning: Glyph 137 missing from current font.\n",
            "  font.set_text(s, 0, flags=flags)\n"
          ],
          "name": "stderr"
        },
        {
          "output_type": "display_data",
          "data": {
            "image/png": "[encoded data removed]",
            "text/plain": [
              "<Figure size 1080x720 with 1 Axes>"
            ]
          },
          "metadata": {
            "tags": [],
            "needs_background": "light"
          }
        }
      ]
    },
    {
      "cell_type": "markdown",
      "metadata": {
        "id": "hiMU72gZk_Zm",
        "colab_type": "text"
      },
      "source": [
        "**Trigram Analysis**"
      ]
    },
    {
      "cell_type": "code",
      "metadata": {
        "id": "fS9Hykdtk-jy",
        "colab_type": "code",
        "outputId": "7e0486be-e888-4dfc-eb55-686543dd75f3",
        "colab": {
          "base_uri": "https://localhost:8080/",
          "height": 355
        }
      },
      "source": [
        "n = 3\n",
        "fake_trigram_df = generate_ngram_df(n, fake_tweets)\n",
        "fake_trigram_df.sort_values(by = 'count', ascending = False, inplace = True, ignore_index = True)\n",
        "fake_trigram_df.head(10)"
      ],
      "execution_count": 36,
      "outputs": [
        {
          "output_type": "execute_result",
          "data": {
            "text/html": [
              "<div>\n",
              "<style scoped>\n",
              "    .dataframe tbody tr th:only-of-type {\n",
              "        vertical-align: middle;\n",
              "    }\n",
              "\n",
              "    .dataframe tbody tr th {\n",
              "        vertical-align: top;\n",
              "    }\n",
              "\n",
              "    .dataframe thead th {\n",
              "        text-align: right;\n",
              "    }\n",
              "</style>\n",
              "<table border=\"1\" class=\"dataframe\">\n",
              "  <thead>\n",
              "    <tr style=\"text-align: right;\">\n",
              "      <th></th>\n",
              "      <th>Trigrams</th>\n",
              "      <th>count</th>\n",
              "    </tr>\n",
              "  </thead>\n",
              "  <tbody>\n",
              "    <tr>\n",
              "      <th>0</th>\n",
              "      <td>I liked @YouTube</td>\n",
              "      <td>34</td>\n",
              "    </tr>\n",
              "    <tr>\n",
              "      <th>1</th>\n",
              "      <td>liked @YouTube video</td>\n",
              "      <td>34</td>\n",
              "    </tr>\n",
              "    <tr>\n",
              "      <th>2</th>\n",
              "      <td>- Full reÛ_</td>\n",
              "      <td>25</td>\n",
              "    </tr>\n",
              "    <tr>\n",
              "      <th>3</th>\n",
              "      <td>- Full read</td>\n",
              "      <td>22</td>\n",
              "    </tr>\n",
              "    <tr>\n",
              "      <th>4</th>\n",
              "      <td>.: .: .:</td>\n",
              "      <td>19</td>\n",
              "    </tr>\n",
              "    <tr>\n",
              "      <th>5</th>\n",
              "      <td>Will Now Quarantine</td>\n",
              "      <td>18</td>\n",
              "    </tr>\n",
              "    <tr>\n",
              "      <th>6</th>\n",
              "      <td>Reddit Will Now</td>\n",
              "      <td>16</td>\n",
              "    </tr>\n",
              "    <tr>\n",
              "      <th>7</th>\n",
              "      <td>new content policy</td>\n",
              "      <td>16</td>\n",
              "    </tr>\n",
              "    <tr>\n",
              "      <th>8</th>\n",
              "      <td>Reddit's new content</td>\n",
              "      <td>16</td>\n",
              "    </tr>\n",
              "    <tr>\n",
              "      <th>9</th>\n",
              "      <td>Now Quarantine Offensive</td>\n",
              "      <td>15</td>\n",
              "    </tr>\n",
              "  </tbody>\n",
              "</table>\n",
              "</div>"
            ],
            "text/plain": [
              "                   Trigrams  count\n",
              "0          I liked @YouTube     34\n",
              "1      liked @YouTube video     34\n",
              "2              - Full reÛ_     25\n",
              "3               - Full read     22\n",
              "4                  .: .: .:     19\n",
              "5       Will Now Quarantine     18\n",
              "6           Reddit Will Now     16\n",
              "7        new content policy     16\n",
              "8      Reddit's new content     16\n",
              "9  Now Quarantine Offensive     15"
            ]
          },
          "metadata": {
            "tags": []
          },
          "execution_count": 36
        }
      ]
    },
    {
      "cell_type": "code",
      "metadata": {
        "id": "fYYnBDOhlOSI",
        "colab_type": "code",
        "outputId": "1aa9802f-1d75-414f-b0ee-e90bdb8638df",
        "colab": {
          "base_uri": "https://localhost:8080/",
          "height": 942
        }
      },
      "source": [
        "fig = plt.figure(figsize = (15, 10))\n",
        "chart = sns.barplot(x = fake_trigram_df['Trigrams'].head(20), y = fake_trigram_df['count'].head(20))\n",
        "chart.set_xticklabels(chart.get_xticklabels(), rotation = 45)"
      ],
      "execution_count": 37,
      "outputs": [
        {
          "output_type": "execute_result",
          "data": {
            "text/plain": [
              "[Text(0, 0, 'I liked @YouTube'),\n",
              " Text(0, 0, 'liked @YouTube video'),\n",
              " Text(0, 0, '- Full re\\x89Û_'),\n",
              " Text(0, 0, '- Full read'),\n",
              " Text(0, 0, '.: .: .:'),\n",
              " Text(0, 0, 'Will Now Quarantine'),\n",
              " Text(0, 0, 'Reddit Will Now'),\n",
              " Text(0, 0, 'new content policy'),\n",
              " Text(0, 0, \"Reddit's new content\"),\n",
              " Text(0, 0, 'Now Quarantine Offensive'),\n",
              " Text(0, 0, 'Full read eBay'),\n",
              " Text(0, 0, 'subreddits banned quarantined'),\n",
              " Text(0, 0, 'horrible subreddits banned'),\n",
              " Text(0, 0, 'Ignition Knock (Detonation)'),\n",
              " Text(0, 0, 'policy goes effect'),\n",
              " Text(0, 0, 'many horrible subreddits'),\n",
              " Text(0, 0, 'effect many horrible'),\n",
              " Text(0, 0, 'goes effect many'),\n",
              " Text(0, 0, 'content policy goes'),\n",
              " Text(0, 0, 'Cross Body Bag')]"
            ]
          },
          "metadata": {
            "tags": []
          },
          "execution_count": 37
        },
        {
          "output_type": "stream",
          "text": [
            "/usr/local/lib/python3.6/dist-packages/matplotlib/backends/backend_agg.py:214: RuntimeWarning: Glyph 137 missing from current font.\n",
            "  font.set_text(s, 0.0, flags=flags)\n",
            "/usr/local/lib/python3.6/dist-packages/matplotlib/backends/backend_agg.py:183: RuntimeWarning: Glyph 137 missing from current font.\n",
            "  font.set_text(s, 0, flags=flags)\n"
          ],
          "name": "stderr"
        },
        {
          "output_type": "display_data",
          "data": {
            "image/png": "[encoded data removed]",
            "text/plain": [
              "<Figure size 1080x720 with 1 Axes>"
            ]
          },
          "metadata": {
            "tags": [],
            "needs_background": "light"
          }
        }
      ]
    },
    {
      "cell_type": "markdown",
      "metadata": {
        "id": "B6G37QQ2qNPn",
        "colab_type": "text"
      },
      "source": [
        "### Feature Engineering"
      ]
    },
    {
      "cell_type": "markdown",
      "metadata": {
        "id": "SfWucNgnphip",
        "colab_type": "text"
      },
      "source": [
        "#### Phase 1: Feature Engineering to generate Count Based and Demographical Features"
      ]
    },
    {
      "cell_type": "markdown",
      "metadata": {
        "id": "Hu6-ezvUqeWt",
        "colab_type": "text"
      },
      "source": [
        "In this method, we perform Feature Engineering on the questions. Some of the methods used for the same are :\n",
        "1. Finding Length (number of characters including whitespaces) for each tweet.\n",
        "2. Number of Capital Letters.\n",
        "3. Ratio of the Number of Capital Letters to the Length of the tweet.\n",
        "4. Number of Question (?) Marks\n",
        "4. Number of Exclamation (!) Marks\n",
        "5. Number of Other Punctuation marks\n",
        "6. Number of Symbols\n",
        "7. Number of Words\n",
        "8. Number of Unique Words\n",
        "9. Total Number of Words vs the Number of Unique Words\n",
        "10. Mean Length of words per question. \n",
        "\n",
        "Other Unorthodox Methods :\n",
        "1. Counting the Number of Smilies (for eg. ':-)')\n",
        "2. Counting the Number of Sad Faces (for eg. ':-<')\n",
        "3. Checking if a word in a title is a title or not.\n",
        "4. Counting number of hashtags (#)\n",
        "5. Counting number of mentions (@)"
      ]
    },
    {
      "cell_type": "code",
      "metadata": {
        "id": "u2rXXKgMlXhG",
        "colab_type": "code",
        "outputId": "929d6796-1a7d-48be-90ae-74b4f1a00798",
        "colab": {
          "base_uri": "https://localhost:8080/",
          "height": 35
        }
      },
      "source": [
        "# copy data to another dataframe\n",
        "train_df = df.copy()\n",
        "train_df.drop(['location', 'keyword'], axis = 1, inplace = True)\n",
        "train_df.head()\n",
        "y = train_df.drop(['text'], axis = 1).values.tolist()\n",
        "y = np.array(sum(y, []))\n",
        "y[:10]"
      ],
      "execution_count": 38,
      "outputs": [
        {
          "output_type": "execute_result",
          "data": {
            "text/plain": [
              "array([1, 1, 1, 1, 1, 1, 1, 1, 1, 1])"
            ]
          },
          "metadata": {
            "tags": []
          },
          "execution_count": 38
        }
      ]
    },
    {
      "cell_type": "code",
      "metadata": {
        "id": "YzeT-guwli18",
        "colab_type": "code",
        "colab": {}
      },
      "source": [
        "# Finding Length of each tweet\n",
        "train_df['length'] = train_df['text'].apply(lambda x: len(x))"
      ],
      "execution_count": 0,
      "outputs": []
    },
    {
      "cell_type": "code",
      "metadata": {
        "id": "3aK041rxeMIp",
        "colab_type": "code",
        "outputId": "3f1ba14c-d77b-404d-cf82-0fce9e53990f",
        "colab": {
          "base_uri": "https://localhost:8080/",
          "height": 306
        }
      },
      "source": [
        "# Analyzing Capital Letters in each tweet\n",
        "train_df['capitals'] = train_df['text'].apply(lambda tweet: sum(1 for c in tweet if c.isupper()))\n",
        "train_df['caps_vs_length'] = train_df['capitals'] / train_df['length']\n",
        "train_df.head()"
      ],
      "execution_count": 40,
      "outputs": [
        {
          "output_type": "execute_result",
          "data": {
            "text/html": [
              "<div>\n",
              "<style scoped>\n",
              "    .dataframe tbody tr th:only-of-type {\n",
              "        vertical-align: middle;\n",
              "    }\n",
              "\n",
              "    .dataframe tbody tr th {\n",
              "        vertical-align: top;\n",
              "    }\n",
              "\n",
              "    .dataframe thead th {\n",
              "        text-align: right;\n",
              "    }\n",
              "</style>\n",
              "<table border=\"1\" class=\"dataframe\">\n",
              "  <thead>\n",
              "    <tr style=\"text-align: right;\">\n",
              "      <th></th>\n",
              "      <th>text</th>\n",
              "      <th>target</th>\n",
              "      <th>length</th>\n",
              "      <th>capitals</th>\n",
              "      <th>caps_vs_length</th>\n",
              "    </tr>\n",
              "  </thead>\n",
              "  <tbody>\n",
              "    <tr>\n",
              "      <th>0</th>\n",
              "      <td>Our Deeds are the Reason of this #earthquake May ALLAH Forgive us all</td>\n",
              "      <td>1</td>\n",
              "      <td>69</td>\n",
              "      <td>10</td>\n",
              "      <td>0.144928</td>\n",
              "    </tr>\n",
              "    <tr>\n",
              "      <th>1</th>\n",
              "      <td>Forest fire near La Ronge Sask. Canada</td>\n",
              "      <td>1</td>\n",
              "      <td>38</td>\n",
              "      <td>5</td>\n",
              "      <td>0.131579</td>\n",
              "    </tr>\n",
              "    <tr>\n",
              "      <th>2</th>\n",
              "      <td>All residents asked to 'shelter in place' are being notified by officers. No other evacuation or...</td>\n",
              "      <td>1</td>\n",
              "      <td>133</td>\n",
              "      <td>2</td>\n",
              "      <td>0.015038</td>\n",
              "    </tr>\n",
              "    <tr>\n",
              "      <th>3</th>\n",
              "      <td>13,000 people receive #wildfires evacuation orders in California</td>\n",
              "      <td>1</td>\n",
              "      <td>65</td>\n",
              "      <td>1</td>\n",
              "      <td>0.015385</td>\n",
              "    </tr>\n",
              "    <tr>\n",
              "      <th>4</th>\n",
              "      <td>Just got sent this photo from Ruby #Alaska as smoke from #wildfires pours into a school</td>\n",
              "      <td>1</td>\n",
              "      <td>88</td>\n",
              "      <td>3</td>\n",
              "      <td>0.034091</td>\n",
              "    </tr>\n",
              "  </tbody>\n",
              "</table>\n",
              "</div>"
            ],
            "text/plain": [
              "                                                                                                  text  \\\n",
              "0                                Our Deeds are the Reason of this #earthquake May ALLAH Forgive us all   \n",
              "1                                                               Forest fire near La Ronge Sask. Canada   \n",
              "2  All residents asked to 'shelter in place' are being notified by officers. No other evacuation or...   \n",
              "3                                    13,000 people receive #wildfires evacuation orders in California    \n",
              "4             Just got sent this photo from Ruby #Alaska as smoke from #wildfires pours into a school    \n",
              "\n",
              "   target  length  capitals  caps_vs_length  \n",
              "0       1      69        10        0.144928  \n",
              "1       1      38         5        0.131579  \n",
              "2       1     133         2        0.015038  \n",
              "3       1      65         1        0.015385  \n",
              "4       1      88         3        0.034091  "
            ]
          },
          "metadata": {
            "tags": []
          },
          "execution_count": 40
        }
      ]
    },
    {
      "cell_type": "code",
      "metadata": {
        "id": "Co-nsI5setMc",
        "colab_type": "code",
        "outputId": "ebf6ca52-39b4-4f85-9221-66aeb6643db9",
        "colab": {
          "base_uri": "https://localhost:8080/",
          "height": 811
        }
      },
      "source": [
        "# Exploring number of words and their uniqueness in each tweet as well as mean length of all words in a tweet\n",
        "train_df['num_words'] = train_df['text'].apply(lambda tweet: len(word_tokenize(tweet)))\n",
        "train_df['num_unique_words'] = train_df['text'].apply(lambda tweet: len(set(w for w in tweet.split())))\n",
        "train_df['words_vs_unique'] = train_df['num_unique_words'] / train_df['num_words']\n",
        "train_df[\"mean_word_len\"] = train_df[\"text\"].apply(lambda x: np.mean([len(w) for w in str(x).split()]))\n",
        "train_df.head()"
      ],
      "execution_count": 41,
      "outputs": [
        {
          "output_type": "execute_result",
          "data": {
            "text/html": [
              "<div>\n",
              "<style scoped>\n",
              "    .dataframe tbody tr th:only-of-type {\n",
              "        vertical-align: middle;\n",
              "    }\n",
              "\n",
              "    .dataframe tbody tr th {\n",
              "        vertical-align: top;\n",
              "    }\n",
              "\n",
              "    .dataframe thead th {\n",
              "        text-align: right;\n",
              "    }\n",
              "</style>\n",
              "<table border=\"1\" class=\"dataframe\">\n",
              "  <thead>\n",
              "    <tr style=\"text-align: right;\">\n",
              "      <th></th>\n",
              "      <th>text</th>\n",
              "      <th>target</th>\n",
              "      <th>length</th>\n",
              "      <th>capitals</th>\n",
              "      <th>caps_vs_length</th>\n",
              "      <th>num_words</th>\n",
              "      <th>num_unique_words</th>\n",
              "      <th>words_vs_unique</th>\n",
              "      <th>mean_word_len</th>\n",
              "    </tr>\n",
              "  </thead>\n",
              "  <tbody>\n",
              "    <tr>\n",
              "      <th>0</th>\n",
              "      <td>Our Deeds are the Reason of this #earthquake May ALLAH Forgive us all</td>\n",
              "      <td>1</td>\n",
              "      <td>69</td>\n",
              "      <td>10</td>\n",
              "      <td>0.144928</td>\n",
              "      <td>14</td>\n",
              "      <td>13</td>\n",
              "      <td>0.928571</td>\n",
              "      <td>4.384615</td>\n",
              "    </tr>\n",
              "    <tr>\n",
              "      <th>1</th>\n",
              "      <td>Forest fire near La Ronge Sask. Canada</td>\n",
              "      <td>1</td>\n",
              "      <td>38</td>\n",
              "      <td>5</td>\n",
              "      <td>0.131579</td>\n",
              "      <td>8</td>\n",
              "      <td>7</td>\n",
              "      <td>0.875000</td>\n",
              "      <td>4.571429</td>\n",
              "    </tr>\n",
              "    <tr>\n",
              "      <th>2</th>\n",
              "      <td>All residents asked to 'shelter in place' are being notified by officers. No other evacuation or...</td>\n",
              "      <td>1</td>\n",
              "      <td>133</td>\n",
              "      <td>2</td>\n",
              "      <td>0.015038</td>\n",
              "      <td>24</td>\n",
              "      <td>20</td>\n",
              "      <td>0.833333</td>\n",
              "      <td>5.090909</td>\n",
              "    </tr>\n",
              "    <tr>\n",
              "      <th>3</th>\n",
              "      <td>13,000 people receive #wildfires evacuation orders in California</td>\n",
              "      <td>1</td>\n",
              "      <td>65</td>\n",
              "      <td>1</td>\n",
              "      <td>0.015385</td>\n",
              "      <td>9</td>\n",
              "      <td>8</td>\n",
              "      <td>0.888889</td>\n",
              "      <td>7.125000</td>\n",
              "    </tr>\n",
              "    <tr>\n",
              "      <th>4</th>\n",
              "      <td>Just got sent this photo from Ruby #Alaska as smoke from #wildfires pours into a school</td>\n",
              "      <td>1</td>\n",
              "      <td>88</td>\n",
              "      <td>3</td>\n",
              "      <td>0.034091</td>\n",
              "      <td>18</td>\n",
              "      <td>15</td>\n",
              "      <td>0.833333</td>\n",
              "      <td>4.500000</td>\n",
              "    </tr>\n",
              "  </tbody>\n",
              "</table>\n",
              "</div>"
            ],
            "text/plain": [
              "                                                                                                  text  \\\n",
              "0                                Our Deeds are the Reason of this #earthquake May ALLAH Forgive us all   \n",
              "1                                                               Forest fire near La Ronge Sask. Canada   \n",
              "2  All residents asked to 'shelter in place' are being notified by officers. No other evacuation or...   \n",
              "3                                    13,000 people receive #wildfires evacuation orders in California    \n",
              "4             Just got sent this photo from Ruby #Alaska as smoke from #wildfires pours into a school    \n",
              "\n",
              "   target  length  capitals  caps_vs_length  num_words  num_unique_words  \\\n",
              "0       1      69        10        0.144928         14                13   \n",
              "1       1      38         5        0.131579          8                 7   \n",
              "2       1     133         2        0.015038         24                20   \n",
              "3       1      65         1        0.015385          9                 8   \n",
              "4       1      88         3        0.034091         18                15   \n",
              "\n",
              "   words_vs_unique  mean_word_len  \n",
              "0         0.928571       4.384615  \n",
              "1         0.875000       4.571429  \n",
              "2         0.833333       5.090909  \n",
              "3         0.888889       7.125000  \n",
              "4         0.833333       4.500000  "
            ]
          },
          "metadata": {
            "tags": []
          },
          "execution_count": 41
        }
      ]
    },
    {
      "cell_type": "code",
      "metadata": {
        "id": "ZIuPEaDxewcE",
        "colab_type": "code",
        "outputId": "4c5a80fb-4fb9-4f0d-cab1-e2f590ded80c",
        "colab": {
          "base_uri": "https://localhost:8080/",
          "height": 811
        }
      },
      "source": [
        "# Generating features from punctuation\n",
        "train_df['num_exclamation_marks'] = train_df['text'].apply(lambda tweet: tweet.count('!'))\n",
        "train_df['num_question_marks'] = train_df['text'].apply(lambda tweet: tweet.count('?'))\n",
        "train_df['num_punctuation'] = train_df['text'].apply(lambda tweet: sum(tweet.count(w) for w in '.,;:'))\n",
        "train_df['num_symbols'] = train_df['text'].apply(lambda tweet: sum(tweet.count(w) for w in '*&$%'))\n",
        "train_df['punct_percent']= train_df['num_punctuation'] * 100 / train_df['num_words']\n",
        "train_df.head()"
      ],
      "execution_count": 42,
      "outputs": [
        {
          "output_type": "execute_result",
          "data": {
            "text/html": [
              "<div>\n",
              "<style scoped>\n",
              "    .dataframe tbody tr th:only-of-type {\n",
              "        vertical-align: middle;\n",
              "    }\n",
              "\n",
              "    .dataframe tbody tr th {\n",
              "        vertical-align: top;\n",
              "    }\n",
              "\n",
              "    .dataframe thead th {\n",
              "        text-align: right;\n",
              "    }\n",
              "</style>\n",
              "<table border=\"1\" class=\"dataframe\">\n",
              "  <thead>\n",
              "    <tr style=\"text-align: right;\">\n",
              "      <th></th>\n",
              "      <th>text</th>\n",
              "      <th>target</th>\n",
              "      <th>length</th>\n",
              "      <th>capitals</th>\n",
              "      <th>caps_vs_length</th>\n",
              "      <th>num_words</th>\n",
              "      <th>num_unique_words</th>\n",
              "      <th>words_vs_unique</th>\n",
              "      <th>mean_word_len</th>\n",
              "      <th>num_exclamation_marks</th>\n",
              "      <th>num_question_marks</th>\n",
              "      <th>num_punctuation</th>\n",
              "      <th>num_symbols</th>\n",
              "      <th>punct_percent</th>\n",
              "    </tr>\n",
              "  </thead>\n",
              "  <tbody>\n",
              "    <tr>\n",
              "      <th>0</th>\n",
              "      <td>Our Deeds are the Reason of this #earthquake May ALLAH Forgive us all</td>\n",
              "      <td>1</td>\n",
              "      <td>69</td>\n",
              "      <td>10</td>\n",
              "      <td>0.144928</td>\n",
              "      <td>14</td>\n",
              "      <td>13</td>\n",
              "      <td>0.928571</td>\n",
              "      <td>4.384615</td>\n",
              "      <td>0</td>\n",
              "      <td>0</td>\n",
              "      <td>0</td>\n",
              "      <td>0</td>\n",
              "      <td>0.000000</td>\n",
              "    </tr>\n",
              "    <tr>\n",
              "      <th>1</th>\n",
              "      <td>Forest fire near La Ronge Sask. Canada</td>\n",
              "      <td>1</td>\n",
              "      <td>38</td>\n",
              "      <td>5</td>\n",
              "      <td>0.131579</td>\n",
              "      <td>8</td>\n",
              "      <td>7</td>\n",
              "      <td>0.875000</td>\n",
              "      <td>4.571429</td>\n",
              "      <td>0</td>\n",
              "      <td>0</td>\n",
              "      <td>1</td>\n",
              "      <td>0</td>\n",
              "      <td>12.500000</td>\n",
              "    </tr>\n",
              "    <tr>\n",
              "      <th>2</th>\n",
              "      <td>All residents asked to 'shelter in place' are being notified by officers. No other evacuation or...</td>\n",
              "      <td>1</td>\n",
              "      <td>133</td>\n",
              "      <td>2</td>\n",
              "      <td>0.015038</td>\n",
              "      <td>24</td>\n",
              "      <td>20</td>\n",
              "      <td>0.833333</td>\n",
              "      <td>5.090909</td>\n",
              "      <td>0</td>\n",
              "      <td>0</td>\n",
              "      <td>1</td>\n",
              "      <td>0</td>\n",
              "      <td>4.166667</td>\n",
              "    </tr>\n",
              "    <tr>\n",
              "      <th>3</th>\n",
              "      <td>13,000 people receive #wildfires evacuation orders in California</td>\n",
              "      <td>1</td>\n",
              "      <td>65</td>\n",
              "      <td>1</td>\n",
              "      <td>0.015385</td>\n",
              "      <td>9</td>\n",
              "      <td>8</td>\n",
              "      <td>0.888889</td>\n",
              "      <td>7.125000</td>\n",
              "      <td>0</td>\n",
              "      <td>0</td>\n",
              "      <td>1</td>\n",
              "      <td>0</td>\n",
              "      <td>11.111111</td>\n",
              "    </tr>\n",
              "    <tr>\n",
              "      <th>4</th>\n",
              "      <td>Just got sent this photo from Ruby #Alaska as smoke from #wildfires pours into a school</td>\n",
              "      <td>1</td>\n",
              "      <td>88</td>\n",
              "      <td>3</td>\n",
              "      <td>0.034091</td>\n",
              "      <td>18</td>\n",
              "      <td>15</td>\n",
              "      <td>0.833333</td>\n",
              "      <td>4.500000</td>\n",
              "      <td>0</td>\n",
              "      <td>0</td>\n",
              "      <td>0</td>\n",
              "      <td>0</td>\n",
              "      <td>0.000000</td>\n",
              "    </tr>\n",
              "  </tbody>\n",
              "</table>\n",
              "</div>"
            ],
            "text/plain": [
              "                                                                                                  text  \\\n",
              "0                                Our Deeds are the Reason of this #earthquake May ALLAH Forgive us all   \n",
              "1                                                               Forest fire near La Ronge Sask. Canada   \n",
              "2  All residents asked to 'shelter in place' are being notified by officers. No other evacuation or...   \n",
              "3                                    13,000 people receive #wildfires evacuation orders in California    \n",
              "4             Just got sent this photo from Ruby #Alaska as smoke from #wildfires pours into a school    \n",
              "\n",
              "   target  length  capitals  caps_vs_length  num_words  num_unique_words  \\\n",
              "0       1      69        10        0.144928         14                13   \n",
              "1       1      38         5        0.131579          8                 7   \n",
              "2       1     133         2        0.015038         24                20   \n",
              "3       1      65         1        0.015385          9                 8   \n",
              "4       1      88         3        0.034091         18                15   \n",
              "\n",
              "   words_vs_unique  mean_word_len  num_exclamation_marks  num_question_marks  \\\n",
              "0         0.928571       4.384615                      0                   0   \n",
              "1         0.875000       4.571429                      0                   0   \n",
              "2         0.833333       5.090909                      0                   0   \n",
              "3         0.888889       7.125000                      0                   0   \n",
              "4         0.833333       4.500000                      0                   0   \n",
              "\n",
              "   num_punctuation  num_symbols  punct_percent  \n",
              "0                0            0       0.000000  \n",
              "1                1            0      12.500000  \n",
              "2                1            0       4.166667  \n",
              "3                1            0      11.111111  \n",
              "4                0            0       0.000000  "
            ]
          },
          "metadata": {
            "tags": []
          },
          "execution_count": 42
        }
      ]
    },
    {
      "cell_type": "code",
      "metadata": {
        "id": "H46hJVzVe1mH",
        "colab_type": "code",
        "colab": {}
      },
      "source": [
        "# Checking the presence of emojis in each tweet\n",
        "train_df['num_smilies'] = train_df['text'].apply(lambda tweet: sum(tweet.count(w) for w in (':-)', ':)', ';-)', ';)')))\n",
        "train_df['num_sad'] = train_df['text'].apply(lambda tweet: sum(tweet.count(w) for w in (':-<', ':()', ';-()', ';(')))"
      ],
      "execution_count": 0,
      "outputs": []
    },
    {
      "cell_type": "code",
      "metadata": {
        "id": "tDWo60Lhe4hm",
        "colab_type": "code",
        "colab": {}
      },
      "source": [
        "# Checking if a particular word is a title within a tweet\n",
        "train_df[\"count_words_title\"] = train_df['text'].apply(lambda x: len([w for w in str(x).split() if w.istitle()]))"
      ],
      "execution_count": 0,
      "outputs": []
    },
    {
      "cell_type": "code",
      "metadata": {
        "id": "rVzjuV-Zkn7s",
        "colab_type": "code",
        "colab": {}
      },
      "source": [
        "# Counting the number of hashtags and mentions in each tweet\n",
        "def count_features(x, symbol):\n",
        "    pattern = r'{}'.format(symbol + '(\\w+)')\n",
        "    count = 0\n",
        "    for match in re.finditer(pattern, x):\n",
        "        count += 1\n",
        "    return count\n",
        "    \n",
        "train_df['num_hashtags'] = train_df['text'].apply(count_features, args = ('#',))\n",
        "train_df['num_mentions'] = train_df['text'].apply(count_features, args = ('@',))"
      ],
      "execution_count": 0,
      "outputs": []
    },
    {
      "cell_type": "markdown",
      "metadata": {
        "id": "ildSoDO8yQcc",
        "colab_type": "text"
      },
      "source": [
        "#### Phase 2: Feature Engineering using Part of Speech (POS) Tagging"
      ]
    },
    {
      "cell_type": "code",
      "metadata": {
        "id": "NsGAPh7Jdsvy",
        "colab_type": "code",
        "colab": {}
      },
      "source": [
        "# function to target part of speech\n",
        "def tag_part_of_speech(text):\n",
        "    text_splitted =  text.split(' ')\n",
        "    text_splitted = [''.join(c for c in s if c not in string.punctuation) for s in text_splitted]\n",
        "    text_splitted = [s for s in text_splitted if s]\n",
        "    pos_list = pos_tag(text_splitted)\n",
        "    noun_count = len([w for w in pos_list if w[1] in ('NN', 'NNP', 'NNPS', 'NNS')])\n",
        "    adjective_count = len([w for w in pos_list if w[1] in ('JJ', 'JJR', 'JJS')])\n",
        "    verb_count = len([w for w in pos_list if w[1] in ('VB', 'VBD', 'VBG', 'VBN', 'VBP', 'VBZ')])\n",
        "    return[noun_count, adjective_count, verb_count]"
      ],
      "execution_count": 0,
      "outputs": []
    },
    {
      "cell_type": "code",
      "metadata": {
        "id": "HvgG50eRyqkn",
        "colab_type": "code",
        "colab": {}
      },
      "source": [
        "train_df['nouns'], train_df['adjectives'], train_df['verbs'] = zip(*train_df['text'].apply(lambda tweet: tag_part_of_speech(tweet)))"
      ],
      "execution_count": 0,
      "outputs": []
    },
    {
      "cell_type": "markdown",
      "metadata": {
        "id": "UjjJ-i9OKPbo",
        "colab_type": "text"
      },
      "source": [
        "### Nouns"
      ]
    },
    {
      "cell_type": "code",
      "metadata": {
        "id": "7cGSP8BdS7HT",
        "colab_type": "code",
        "colab": {}
      },
      "source": [
        "train_df['nouns_vs_length'] = train_df['nouns'] / train_df['length']\n",
        "train_df['nouns_vs_words'] = train_df['nouns'] / train_df['num_words']"
      ],
      "execution_count": 0,
      "outputs": []
    },
    {
      "cell_type": "markdown",
      "metadata": {
        "id": "1Mx2mNCrKXhh",
        "colab_type": "text"
      },
      "source": [
        "### Adjectives"
      ]
    },
    {
      "cell_type": "code",
      "metadata": {
        "id": "FDM2-1z4U4Gd",
        "colab_type": "code",
        "colab": {}
      },
      "source": [
        "train_df['adjectives_vs_length'] = train_df['adjectives'] / train_df['length']\n",
        "train_df['adjectives_vs_words'] = train_df['adjectives'] / train_df['num_words']"
      ],
      "execution_count": 0,
      "outputs": []
    },
    {
      "cell_type": "markdown",
      "metadata": {
        "id": "GjGoQkyfKcXu",
        "colab_type": "text"
      },
      "source": [
        "### Verbs"
      ]
    },
    {
      "cell_type": "code",
      "metadata": {
        "id": "INj9YeZOVA0M",
        "colab_type": "code",
        "colab": {}
      },
      "source": [
        "train_df['verbs_vs_length'] = train_df['verbs'] / train_df['length']\n",
        "train_df['verbs_vs_words'] = train_df['verbs'] / train_df['num_words']"
      ],
      "execution_count": 0,
      "outputs": []
    },
    {
      "cell_type": "code",
      "metadata": {
        "colab_type": "code",
        "id": "hdP7XuzvSmfz",
        "outputId": "5a110854-c7ac-4e82-bb53-8a6a19405cf9",
        "colab": {
          "base_uri": "https://localhost:8080/",
          "height": 811
        }
      },
      "source": [
        "train_df.head()"
      ],
      "execution_count": 51,
      "outputs": [
        {
          "output_type": "execute_result",
          "data": {
            "text/html": [
              "<div>\n",
              "<style scoped>\n",
              "    .dataframe tbody tr th:only-of-type {\n",
              "        vertical-align: middle;\n",
              "    }\n",
              "\n",
              "    .dataframe tbody tr th {\n",
              "        vertical-align: top;\n",
              "    }\n",
              "\n",
              "    .dataframe thead th {\n",
              "        text-align: right;\n",
              "    }\n",
              "</style>\n",
              "<table border=\"1\" class=\"dataframe\">\n",
              "  <thead>\n",
              "    <tr style=\"text-align: right;\">\n",
              "      <th></th>\n",
              "      <th>text</th>\n",
              "      <th>target</th>\n",
              "      <th>length</th>\n",
              "      <th>capitals</th>\n",
              "      <th>caps_vs_length</th>\n",
              "      <th>num_words</th>\n",
              "      <th>num_unique_words</th>\n",
              "      <th>words_vs_unique</th>\n",
              "      <th>mean_word_len</th>\n",
              "      <th>num_exclamation_marks</th>\n",
              "      <th>num_question_marks</th>\n",
              "      <th>num_punctuation</th>\n",
              "      <th>num_symbols</th>\n",
              "      <th>punct_percent</th>\n",
              "      <th>num_smilies</th>\n",
              "      <th>num_sad</th>\n",
              "      <th>count_words_title</th>\n",
              "      <th>num_hashtags</th>\n",
              "      <th>num_mentions</th>\n",
              "      <th>nouns</th>\n",
              "      <th>adjectives</th>\n",
              "      <th>verbs</th>\n",
              "      <th>nouns_vs_length</th>\n",
              "      <th>nouns_vs_words</th>\n",
              "      <th>adjectives_vs_length</th>\n",
              "      <th>adjectives_vs_words</th>\n",
              "      <th>verbs_vs_length</th>\n",
              "      <th>verbs_vs_words</th>\n",
              "    </tr>\n",
              "  </thead>\n",
              "  <tbody>\n",
              "    <tr>\n",
              "      <th>0</th>\n",
              "      <td>Our Deeds are the Reason of this #earthquake May ALLAH Forgive us all</td>\n",
              "      <td>1</td>\n",
              "      <td>69</td>\n",
              "      <td>10</td>\n",
              "      <td>0.144928</td>\n",
              "      <td>14</td>\n",
              "      <td>13</td>\n",
              "      <td>0.928571</td>\n",
              "      <td>4.384615</td>\n",
              "      <td>0</td>\n",
              "      <td>0</td>\n",
              "      <td>0</td>\n",
              "      <td>0</td>\n",
              "      <td>0.000000</td>\n",
              "      <td>0</td>\n",
              "      <td>0</td>\n",
              "      <td>5</td>\n",
              "      <td>1</td>\n",
              "      <td>0</td>\n",
              "      <td>6</td>\n",
              "      <td>0</td>\n",
              "      <td>1</td>\n",
              "      <td>0.086957</td>\n",
              "      <td>0.428571</td>\n",
              "      <td>0.000000</td>\n",
              "      <td>0.000000</td>\n",
              "      <td>0.014493</td>\n",
              "      <td>0.071429</td>\n",
              "    </tr>\n",
              "    <tr>\n",
              "      <th>1</th>\n",
              "      <td>Forest fire near La Ronge Sask. Canada</td>\n",
              "      <td>1</td>\n",
              "      <td>38</td>\n",
              "      <td>5</td>\n",
              "      <td>0.131579</td>\n",
              "      <td>8</td>\n",
              "      <td>7</td>\n",
              "      <td>0.875000</td>\n",
              "      <td>4.571429</td>\n",
              "      <td>0</td>\n",
              "      <td>0</td>\n",
              "      <td>1</td>\n",
              "      <td>0</td>\n",
              "      <td>12.500000</td>\n",
              "      <td>0</td>\n",
              "      <td>0</td>\n",
              "      <td>5</td>\n",
              "      <td>0</td>\n",
              "      <td>0</td>\n",
              "      <td>6</td>\n",
              "      <td>0</td>\n",
              "      <td>0</td>\n",
              "      <td>0.157895</td>\n",
              "      <td>0.750000</td>\n",
              "      <td>0.000000</td>\n",
              "      <td>0.000000</td>\n",
              "      <td>0.000000</td>\n",
              "      <td>0.000000</td>\n",
              "    </tr>\n",
              "    <tr>\n",
              "      <th>2</th>\n",
              "      <td>All residents asked to 'shelter in place' are being notified by officers. No other evacuation or...</td>\n",
              "      <td>1</td>\n",
              "      <td>133</td>\n",
              "      <td>2</td>\n",
              "      <td>0.015038</td>\n",
              "      <td>24</td>\n",
              "      <td>20</td>\n",
              "      <td>0.833333</td>\n",
              "      <td>5.090909</td>\n",
              "      <td>0</td>\n",
              "      <td>0</td>\n",
              "      <td>1</td>\n",
              "      <td>0</td>\n",
              "      <td>4.166667</td>\n",
              "      <td>0</td>\n",
              "      <td>0</td>\n",
              "      <td>2</td>\n",
              "      <td>0</td>\n",
              "      <td>0</td>\n",
              "      <td>8</td>\n",
              "      <td>1</td>\n",
              "      <td>7</td>\n",
              "      <td>0.060150</td>\n",
              "      <td>0.333333</td>\n",
              "      <td>0.007519</td>\n",
              "      <td>0.041667</td>\n",
              "      <td>0.052632</td>\n",
              "      <td>0.291667</td>\n",
              "    </tr>\n",
              "    <tr>\n",
              "      <th>3</th>\n",
              "      <td>13,000 people receive #wildfires evacuation orders in California</td>\n",
              "      <td>1</td>\n",
              "      <td>65</td>\n",
              "      <td>1</td>\n",
              "      <td>0.015385</td>\n",
              "      <td>9</td>\n",
              "      <td>8</td>\n",
              "      <td>0.888889</td>\n",
              "      <td>7.125000</td>\n",
              "      <td>0</td>\n",
              "      <td>0</td>\n",
              "      <td>1</td>\n",
              "      <td>0</td>\n",
              "      <td>11.111111</td>\n",
              "      <td>0</td>\n",
              "      <td>0</td>\n",
              "      <td>1</td>\n",
              "      <td>1</td>\n",
              "      <td>0</td>\n",
              "      <td>5</td>\n",
              "      <td>1</td>\n",
              "      <td>0</td>\n",
              "      <td>0.076923</td>\n",
              "      <td>0.555556</td>\n",
              "      <td>0.015385</td>\n",
              "      <td>0.111111</td>\n",
              "      <td>0.000000</td>\n",
              "      <td>0.000000</td>\n",
              "    </tr>\n",
              "    <tr>\n",
              "      <th>4</th>\n",
              "      <td>Just got sent this photo from Ruby #Alaska as smoke from #wildfires pours into a school</td>\n",
              "      <td>1</td>\n",
              "      <td>88</td>\n",
              "      <td>3</td>\n",
              "      <td>0.034091</td>\n",
              "      <td>18</td>\n",
              "      <td>15</td>\n",
              "      <td>0.833333</td>\n",
              "      <td>4.500000</td>\n",
              "      <td>0</td>\n",
              "      <td>0</td>\n",
              "      <td>0</td>\n",
              "      <td>0</td>\n",
              "      <td>0.000000</td>\n",
              "      <td>0</td>\n",
              "      <td>0</td>\n",
              "      <td>3</td>\n",
              "      <td>2</td>\n",
              "      <td>0</td>\n",
              "      <td>6</td>\n",
              "      <td>0</td>\n",
              "      <td>3</td>\n",
              "      <td>0.068182</td>\n",
              "      <td>0.333333</td>\n",
              "      <td>0.000000</td>\n",
              "      <td>0.000000</td>\n",
              "      <td>0.034091</td>\n",
              "      <td>0.166667</td>\n",
              "    </tr>\n",
              "  </tbody>\n",
              "</table>\n",
              "</div>"
            ],
            "text/plain": [
              "                                                                                                  text  \\\n",
              "0                                Our Deeds are the Reason of this #earthquake May ALLAH Forgive us all   \n",
              "1                                                               Forest fire near La Ronge Sask. Canada   \n",
              "2  All residents asked to 'shelter in place' are being notified by officers. No other evacuation or...   \n",
              "3                                    13,000 people receive #wildfires evacuation orders in California    \n",
              "4             Just got sent this photo from Ruby #Alaska as smoke from #wildfires pours into a school    \n",
              "\n",
              "   target  length  capitals  caps_vs_length  num_words  num_unique_words  \\\n",
              "0       1      69        10        0.144928         14                13   \n",
              "1       1      38         5        0.131579          8                 7   \n",
              "2       1     133         2        0.015038         24                20   \n",
              "3       1      65         1        0.015385          9                 8   \n",
              "4       1      88         3        0.034091         18                15   \n",
              "\n",
              "   words_vs_unique  mean_word_len  num_exclamation_marks  num_question_marks  \\\n",
              "0         0.928571       4.384615                      0                   0   \n",
              "1         0.875000       4.571429                      0                   0   \n",
              "2         0.833333       5.090909                      0                   0   \n",
              "3         0.888889       7.125000                      0                   0   \n",
              "4         0.833333       4.500000                      0                   0   \n",
              "\n",
              "   num_punctuation  num_symbols  punct_percent  num_smilies  num_sad  \\\n",
              "0                0            0       0.000000            0        0   \n",
              "1                1            0      12.500000            0        0   \n",
              "2                1            0       4.166667            0        0   \n",
              "3                1            0      11.111111            0        0   \n",
              "4                0            0       0.000000            0        0   \n",
              "\n",
              "   count_words_title  num_hashtags  num_mentions  nouns  adjectives  verbs  \\\n",
              "0                  5             1             0      6           0      1   \n",
              "1                  5             0             0      6           0      0   \n",
              "2                  2             0             0      8           1      7   \n",
              "3                  1             1             0      5           1      0   \n",
              "4                  3             2             0      6           0      3   \n",
              "\n",
              "   nouns_vs_length  nouns_vs_words  adjectives_vs_length  adjectives_vs_words  \\\n",
              "0         0.086957        0.428571              0.000000             0.000000   \n",
              "1         0.157895        0.750000              0.000000             0.000000   \n",
              "2         0.060150        0.333333              0.007519             0.041667   \n",
              "3         0.076923        0.555556              0.015385             0.111111   \n",
              "4         0.068182        0.333333              0.000000             0.000000   \n",
              "\n",
              "   verbs_vs_length  verbs_vs_words  \n",
              "0         0.014493        0.071429  \n",
              "1         0.000000        0.000000  \n",
              "2         0.052632        0.291667  \n",
              "3         0.000000        0.000000  \n",
              "4         0.034091        0.166667  "
            ]
          },
          "metadata": {
            "tags": []
          },
          "execution_count": 51
        }
      ]
    },
    {
      "cell_type": "code",
      "metadata": {
        "id": "9tQXx3RybmJT",
        "colab_type": "code",
        "outputId": "501dd0b5-53ba-4baa-dd48-9ce3da40174d",
        "colab": {
          "base_uri": "https://localhost:8080/",
          "height": 401
        }
      },
      "source": [
        "sns.heatmap(train_df.drop(['text'], axis = 1).corr())"
      ],
      "execution_count": 52,
      "outputs": [
        {
          "output_type": "execute_result",
          "data": {
            "text/plain": [
              "<matplotlib.axes._subplots.AxesSubplot at 0x7ff5fe68a8d0>"
            ]
          },
          "metadata": {
            "tags": []
          },
          "execution_count": 52
        },
        {
          "output_type": "display_data",
          "data": {
            "image/png": "[encoded data removed]",
            "text/plain": [
              "<Figure size 432x288 with 2 Axes>"
            ]
          },
          "metadata": {
            "tags": [],
            "needs_background": "light"
          }
        }
      ]
    },
    {
      "cell_type": "code",
      "metadata": {
        "id": "6bjK3dCDFXZZ",
        "colab_type": "code",
        "colab": {}
      },
      "source": [
        "# drop num_sad column as it is throughout 0\n",
        "train_df.drop(['num_sad'], axis = 1, inplace = True)"
      ],
      "execution_count": 0,
      "outputs": []
    },
    {
      "cell_type": "code",
      "metadata": {
        "id": "55V98yzQ5sQm",
        "colab_type": "code",
        "outputId": "3fd419ff-9a93-405c-faaa-5bbddd85bf78",
        "colab": {
          "base_uri": "https://localhost:8080/",
          "height": 451
        }
      },
      "source": [
        "num_cols = [x for x in train_df.columns if (train_df[x].dtype == 'int64' or train_df[x].dtype == 'float64') and x!= 'target']\n",
        "num_cols"
      ],
      "execution_count": 54,
      "outputs": [
        {
          "output_type": "execute_result",
          "data": {
            "text/plain": [
              "['length',\n",
              " 'capitals',\n",
              " 'caps_vs_length',\n",
              " 'num_words',\n",
              " 'num_unique_words',\n",
              " 'words_vs_unique',\n",
              " 'mean_word_len',\n",
              " 'num_exclamation_marks',\n",
              " 'num_question_marks',\n",
              " 'num_punctuation',\n",
              " 'num_symbols',\n",
              " 'punct_percent',\n",
              " 'num_smilies',\n",
              " 'count_words_title',\n",
              " 'num_hashtags',\n",
              " 'num_mentions',\n",
              " 'nouns',\n",
              " 'adjectives',\n",
              " 'verbs',\n",
              " 'nouns_vs_length',\n",
              " 'nouns_vs_words',\n",
              " 'adjectives_vs_length',\n",
              " 'adjectives_vs_words',\n",
              " 'verbs_vs_length',\n",
              " 'verbs_vs_words']"
            ]
          },
          "metadata": {
            "tags": []
          },
          "execution_count": 54
        }
      ]
    },
    {
      "cell_type": "markdown",
      "metadata": {
        "id": "x6ZbkVxfjjou",
        "colab_type": "text"
      },
      "source": [
        "### Preprocessing for Baseline Model"
      ]
    },
    {
      "cell_type": "code",
      "metadata": {
        "id": "oaftUQHo38lz",
        "colab_type": "code",
        "outputId": "88415d88-d254-4369-9f6d-5d80f6720768",
        "colab": {
          "base_uri": "https://localhost:8080/",
          "height": 395
        }
      },
      "source": [
        "train_df['preprocessed_text'] = np.array(tweet_corpus).T\n",
        "X = train_df.drop(['text', 'target'], axis = 1)\n",
        "X.head()"
      ],
      "execution_count": 55,
      "outputs": [
        {
          "output_type": "execute_result",
          "data": {
            "text/html": [
              "<div>\n",
              "<style scoped>\n",
              "    .dataframe tbody tr th:only-of-type {\n",
              "        vertical-align: middle;\n",
              "    }\n",
              "\n",
              "    .dataframe tbody tr th {\n",
              "        vertical-align: top;\n",
              "    }\n",
              "\n",
              "    .dataframe thead th {\n",
              "        text-align: right;\n",
              "    }\n",
              "</style>\n",
              "<table border=\"1\" class=\"dataframe\">\n",
              "  <thead>\n",
              "    <tr style=\"text-align: right;\">\n",
              "      <th></th>\n",
              "      <th>length</th>\n",
              "      <th>capitals</th>\n",
              "      <th>caps_vs_length</th>\n",
              "      <th>num_words</th>\n",
              "      <th>num_unique_words</th>\n",
              "      <th>words_vs_unique</th>\n",
              "      <th>mean_word_len</th>\n",
              "      <th>num_exclamation_marks</th>\n",
              "      <th>num_question_marks</th>\n",
              "      <th>num_punctuation</th>\n",
              "      <th>num_symbols</th>\n",
              "      <th>punct_percent</th>\n",
              "      <th>num_smilies</th>\n",
              "      <th>count_words_title</th>\n",
              "      <th>num_hashtags</th>\n",
              "      <th>num_mentions</th>\n",
              "      <th>nouns</th>\n",
              "      <th>adjectives</th>\n",
              "      <th>verbs</th>\n",
              "      <th>nouns_vs_length</th>\n",
              "      <th>nouns_vs_words</th>\n",
              "      <th>adjectives_vs_length</th>\n",
              "      <th>adjectives_vs_words</th>\n",
              "      <th>verbs_vs_length</th>\n",
              "      <th>verbs_vs_words</th>\n",
              "      <th>preprocessed_text</th>\n",
              "    </tr>\n",
              "  </thead>\n",
              "  <tbody>\n",
              "    <tr>\n",
              "      <th>0</th>\n",
              "      <td>69</td>\n",
              "      <td>10</td>\n",
              "      <td>0.144928</td>\n",
              "      <td>14</td>\n",
              "      <td>13</td>\n",
              "      <td>0.928571</td>\n",
              "      <td>4.384615</td>\n",
              "      <td>0</td>\n",
              "      <td>0</td>\n",
              "      <td>0</td>\n",
              "      <td>0</td>\n",
              "      <td>0.000000</td>\n",
              "      <td>0</td>\n",
              "      <td>5</td>\n",
              "      <td>1</td>\n",
              "      <td>0</td>\n",
              "      <td>6</td>\n",
              "      <td>0</td>\n",
              "      <td>1</td>\n",
              "      <td>0.086957</td>\n",
              "      <td>0.428571</td>\n",
              "      <td>0.000000</td>\n",
              "      <td>0.000000</td>\n",
              "      <td>0.014493</td>\n",
              "      <td>0.071429</td>\n",
              "      <td>deed reason earthquake may allah forgive u</td>\n",
              "    </tr>\n",
              "    <tr>\n",
              "      <th>1</th>\n",
              "      <td>38</td>\n",
              "      <td>5</td>\n",
              "      <td>0.131579</td>\n",
              "      <td>8</td>\n",
              "      <td>7</td>\n",
              "      <td>0.875000</td>\n",
              "      <td>4.571429</td>\n",
              "      <td>0</td>\n",
              "      <td>0</td>\n",
              "      <td>1</td>\n",
              "      <td>0</td>\n",
              "      <td>12.500000</td>\n",
              "      <td>0</td>\n",
              "      <td>5</td>\n",
              "      <td>0</td>\n",
              "      <td>0</td>\n",
              "      <td>6</td>\n",
              "      <td>0</td>\n",
              "      <td>0</td>\n",
              "      <td>0.157895</td>\n",
              "      <td>0.750000</td>\n",
              "      <td>0.000000</td>\n",
              "      <td>0.000000</td>\n",
              "      <td>0.000000</td>\n",
              "      <td>0.000000</td>\n",
              "      <td>forest fire near la ronge sask canada</td>\n",
              "    </tr>\n",
              "    <tr>\n",
              "      <th>2</th>\n",
              "      <td>133</td>\n",
              "      <td>2</td>\n",
              "      <td>0.015038</td>\n",
              "      <td>24</td>\n",
              "      <td>20</td>\n",
              "      <td>0.833333</td>\n",
              "      <td>5.090909</td>\n",
              "      <td>0</td>\n",
              "      <td>0</td>\n",
              "      <td>1</td>\n",
              "      <td>0</td>\n",
              "      <td>4.166667</td>\n",
              "      <td>0</td>\n",
              "      <td>2</td>\n",
              "      <td>0</td>\n",
              "      <td>0</td>\n",
              "      <td>8</td>\n",
              "      <td>1</td>\n",
              "      <td>7</td>\n",
              "      <td>0.060150</td>\n",
              "      <td>0.333333</td>\n",
              "      <td>0.007519</td>\n",
              "      <td>0.041667</td>\n",
              "      <td>0.052632</td>\n",
              "      <td>0.291667</td>\n",
              "      <td>resident asked shelter place notified officer evacuation shelter place order expected</td>\n",
              "    </tr>\n",
              "    <tr>\n",
              "      <th>3</th>\n",
              "      <td>65</td>\n",
              "      <td>1</td>\n",
              "      <td>0.015385</td>\n",
              "      <td>9</td>\n",
              "      <td>8</td>\n",
              "      <td>0.888889</td>\n",
              "      <td>7.125000</td>\n",
              "      <td>0</td>\n",
              "      <td>0</td>\n",
              "      <td>1</td>\n",
              "      <td>0</td>\n",
              "      <td>11.111111</td>\n",
              "      <td>0</td>\n",
              "      <td>1</td>\n",
              "      <td>1</td>\n",
              "      <td>0</td>\n",
              "      <td>5</td>\n",
              "      <td>1</td>\n",
              "      <td>0</td>\n",
              "      <td>0.076923</td>\n",
              "      <td>0.555556</td>\n",
              "      <td>0.015385</td>\n",
              "      <td>0.111111</td>\n",
              "      <td>0.000000</td>\n",
              "      <td>0.000000</td>\n",
              "      <td>13 000 people receive wildfire evacuation order california</td>\n",
              "    </tr>\n",
              "    <tr>\n",
              "      <th>4</th>\n",
              "      <td>88</td>\n",
              "      <td>3</td>\n",
              "      <td>0.034091</td>\n",
              "      <td>18</td>\n",
              "      <td>15</td>\n",
              "      <td>0.833333</td>\n",
              "      <td>4.500000</td>\n",
              "      <td>0</td>\n",
              "      <td>0</td>\n",
              "      <td>0</td>\n",
              "      <td>0</td>\n",
              "      <td>0.000000</td>\n",
              "      <td>0</td>\n",
              "      <td>3</td>\n",
              "      <td>2</td>\n",
              "      <td>0</td>\n",
              "      <td>6</td>\n",
              "      <td>0</td>\n",
              "      <td>3</td>\n",
              "      <td>0.068182</td>\n",
              "      <td>0.333333</td>\n",
              "      <td>0.000000</td>\n",
              "      <td>0.000000</td>\n",
              "      <td>0.034091</td>\n",
              "      <td>0.166667</td>\n",
              "      <td>got sent photo ruby alaska smoke wildfire pours school</td>\n",
              "    </tr>\n",
              "  </tbody>\n",
              "</table>\n",
              "</div>"
            ],
            "text/plain": [
              "   length  capitals  caps_vs_length  num_words  num_unique_words  \\\n",
              "0      69        10        0.144928         14                13   \n",
              "1      38         5        0.131579          8                 7   \n",
              "2     133         2        0.015038         24                20   \n",
              "3      65         1        0.015385          9                 8   \n",
              "4      88         3        0.034091         18                15   \n",
              "\n",
              "   words_vs_unique  mean_word_len  num_exclamation_marks  num_question_marks  \\\n",
              "0         0.928571       4.384615                      0                   0   \n",
              "1         0.875000       4.571429                      0                   0   \n",
              "2         0.833333       5.090909                      0                   0   \n",
              "3         0.888889       7.125000                      0                   0   \n",
              "4         0.833333       4.500000                      0                   0   \n",
              "\n",
              "   num_punctuation  num_symbols  punct_percent  num_smilies  \\\n",
              "0                0            0       0.000000            0   \n",
              "1                1            0      12.500000            0   \n",
              "2                1            0       4.166667            0   \n",
              "3                1            0      11.111111            0   \n",
              "4                0            0       0.000000            0   \n",
              "\n",
              "   count_words_title  num_hashtags  num_mentions  nouns  adjectives  verbs  \\\n",
              "0                  5             1             0      6           0      1   \n",
              "1                  5             0             0      6           0      0   \n",
              "2                  2             0             0      8           1      7   \n",
              "3                  1             1             0      5           1      0   \n",
              "4                  3             2             0      6           0      3   \n",
              "\n",
              "   nouns_vs_length  nouns_vs_words  adjectives_vs_length  adjectives_vs_words  \\\n",
              "0         0.086957        0.428571              0.000000             0.000000   \n",
              "1         0.157895        0.750000              0.000000             0.000000   \n",
              "2         0.060150        0.333333              0.007519             0.041667   \n",
              "3         0.076923        0.555556              0.015385             0.111111   \n",
              "4         0.068182        0.333333              0.000000             0.000000   \n",
              "\n",
              "   verbs_vs_length  verbs_vs_words  \\\n",
              "0         0.014493        0.071429   \n",
              "1         0.000000        0.000000   \n",
              "2         0.052632        0.291667   \n",
              "3         0.000000        0.000000   \n",
              "4         0.034091        0.166667   \n",
              "\n",
              "                                                                       preprocessed_text  \n",
              "0                                             deed reason earthquake may allah forgive u  \n",
              "1                                                  forest fire near la ronge sask canada  \n",
              "2  resident asked shelter place notified officer evacuation shelter place order expected  \n",
              "3                             13 000 people receive wildfire evacuation order california  \n",
              "4                                 got sent photo ruby alaska smoke wildfire pours school  "
            ]
          },
          "metadata": {
            "tags": []
          },
          "execution_count": 55
        }
      ]
    },
    {
      "cell_type": "code",
      "metadata": {
        "id": "XiAdt3Q40Obv",
        "colab_type": "code",
        "colab": {}
      },
      "source": [
        "# generate TF-IDF model while preserving trigrams\n",
        "vectorizer = TfidfVectorizer(max_features=2000, min_df=3, max_df=0.6, ngram_range = (1, 3))"
      ],
      "execution_count": 0,
      "outputs": []
    },
    {
      "cell_type": "code",
      "metadata": {
        "id": "wbiYgx681_AZ",
        "colab_type": "code",
        "colab": {}
      },
      "source": [
        "# split into training and validation sets\n",
        "X_train, X_val, y_train, y_val = train_test_split(X, y, test_size = 0.225, stratify = y)"
      ],
      "execution_count": 0,
      "outputs": []
    },
    {
      "cell_type": "code",
      "metadata": {
        "id": "I0G9gGl25BCH",
        "colab_type": "code",
        "colab": {}
      },
      "source": [
        "# generate separate FunctionTransformers for text and numeric data\n",
        "\n",
        "# FunctionTransformer for Text Data\n",
        "get_text_data = FunctionTransformer(lambda x: x['preprocessed_text'], validate = False)\n",
        "\n",
        "# Functiontransformer for Numeric Data\n",
        "get_numeric_data = FunctionTransformer(lambda x: x[num_cols], validate = False)"
      ],
      "execution_count": 0,
      "outputs": []
    },
    {
      "cell_type": "code",
      "metadata": {
        "id": "hiKbR-JB6XZd",
        "colab_type": "code",
        "colab": {}
      },
      "source": [
        "# generate numeric and text pipelines\n",
        "\n",
        "# Numeric Pipeline\n",
        "numeric_pipeline = Pipeline([('num_selector', get_numeric_data),\n",
        "                             ('selector', SelectKBest(f_classif, k = 4)),\n",
        "                             ('scaler', MinMaxScaler())])\n",
        "\n",
        "# Text Pipeline\n",
        "text_pipeline = Pipeline([('text_selector', get_text_data), \n",
        "                          ('vectorizer', vectorizer)])"
      ],
      "execution_count": 0,
      "outputs": []
    },
    {
      "cell_type": "code",
      "metadata": {
        "id": "QOcnrAo16-nf",
        "colab_type": "code",
        "outputId": "8cb53411-6a36-436c-e1dd-54a97b4030ce",
        "colab": {
          "base_uri": "https://localhost:8080/",
          "height": 557
        }
      },
      "source": [
        "# Generate final pipeline comprising of FeatureUnion and Classifier (Logistic Regression)\n",
        "pl = Pipeline([('union', FeatureUnion(\n",
        "    [('numeric', numeric_pipeline),\n",
        "     ('text', text_pipeline)])),\n",
        "     ('clf', LogisticRegression())])\n",
        "\n",
        "# Train pipeline on data\n",
        "pl.fit(X_train, y_train)"
      ],
      "execution_count": 62,
      "outputs": [
        {
          "output_type": "execute_result",
          "data": {
            "text/plain": [
              "Pipeline(memory=None,\n",
              "         steps=[('union',\n",
              "                 FeatureUnion(n_jobs=None,\n",
              "                              transformer_list=[('numeric',\n",
              "                                                 Pipeline(memory=None,\n",
              "                                                          steps=[('num_selector',\n",
              "                                                                  FunctionTransformer(accept_sparse=False,\n",
              "                                                                                      check_inverse=True,\n",
              "                                                                                      func=<function <lambda> at 0x7ff5f8869950>,\n",
              "                                                                                      inv_kw_args=None,\n",
              "                                                                                      inverse_func=None,\n",
              "                                                                                      kw_args=None,\n",
              "                                                                                      validate=False)),\n",
              "                                                                 ('selector',\n",
              "                                                                  SelectKBest(k=4,\n",
              "                                                                              score_func=<function f_c...\n",
              "                                                                                  tokenizer=None,\n",
              "                                                                                  use_idf=True,\n",
              "                                                                                  vocabulary=None))],\n",
              "                                                          verbose=False))],\n",
              "                              transformer_weights=None, verbose=False)),\n",
              "                ('clf',\n",
              "                 LogisticRegression(C=1.0, class_weight=None, dual=False,\n",
              "                                    fit_intercept=True, intercept_scaling=1,\n",
              "                                    l1_ratio=None, max_iter=100,\n",
              "                                    multi_class='auto', n_jobs=None,\n",
              "                                    penalty='l2', random_state=None,\n",
              "                                    solver='lbfgs', tol=0.0001, verbose=0,\n",
              "                                    warm_start=False))],\n",
              "         verbose=False)"
            ]
          },
          "metadata": {
            "tags": []
          },
          "execution_count": 62
        }
      ]
    },
    {
      "cell_type": "code",
      "metadata": {
        "id": "WyIlrULM75WZ",
        "colab_type": "code",
        "outputId": "d016e932-ba66-4439-b863-d0c1e995ed45",
        "colab": {
          "base_uri": "https://localhost:8080/",
          "height": 35
        }
      },
      "source": [
        "pl.score(X_val, y_val)"
      ],
      "execution_count": 63,
      "outputs": [
        {
          "output_type": "execute_result",
          "data": {
            "text/plain": [
              "0.8056042031523643"
            ]
          },
          "metadata": {
            "tags": []
          },
          "execution_count": 63
        }
      ]
    },
    {
      "cell_type": "code",
      "metadata": {
        "id": "m2mCUvt2qP_s",
        "colab_type": "code",
        "colab": {}
      },
      "source": [
        ""
      ],
      "execution_count": 0,
      "outputs": []
    }
  ]
}