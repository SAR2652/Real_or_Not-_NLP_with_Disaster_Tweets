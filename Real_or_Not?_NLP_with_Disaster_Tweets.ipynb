{
  "nbformat": 4,
  "nbformat_minor": 0,
  "metadata": {
    "colab": {
      "name": "Real or Not? NLP with Disaster Tweets.ipynb",
      "provenance": [],
      "collapsed_sections": [],
      "authorship_tag": "ABX9TyONJzmzUyyQdgkIsOGYoVYD",
      "include_colab_link": true
    },
    "kernelspec": {
      "name": "python3",
      "display_name": "Python 3"
    },
    "accelerator": "GPU"
  },
  "cells": [
    {
      "cell_type": "markdown",
      "metadata": {
        "id": "view-in-github",
        "colab_type": "text"
      },
      "source": [
        "<a href=\"https://colab.research.google.com/github/SAR2652/Real_or_Not-_NLP_with_Disaster_Tweets/blob/master/Real_or_Not%3F_NLP_with_Disaster_Tweets.ipynb\" target=\"_parent\"><img src=\"https://colab.research.google.com/assets/colab-badge.svg\" alt=\"Open In Colab\"/></a>"
      ]
    },
    {
      "cell_type": "code",
      "metadata": {
        "id": "qVTmoykMKAon",
        "colab_type": "code",
        "outputId": "07642b80-5430-4c66-b29c-7ba1168f524e",
        "colab": {
          "base_uri": "https://localhost:8080/",
          "height": 332
        }
      },
      "source": [
        "!nvidia-smi"
      ],
      "execution_count": 1,
      "outputs": [
        {
          "output_type": "stream",
          "text": [
            "Thu Jun  4 14:48:40 2020       \n",
            "+-----------------------------------------------------------------------------+\n",
            "| NVIDIA-SMI 440.82       Driver Version: 418.67       CUDA Version: 10.1     |\n",
            "|-------------------------------+----------------------+----------------------+\n",
            "| GPU  Name        Persistence-M| Bus-Id        Disp.A | Volatile Uncorr. ECC |\n",
            "| Fan  Temp  Perf  Pwr:Usage/Cap|         Memory-Usage | GPU-Util  Compute M. |\n",
            "|===============================+======================+======================|\n",
            "|   0  Tesla T4            Off  | 00000000:00:04.0 Off |                    0 |\n",
            "| N/A   66C    P8    11W /  70W |      0MiB / 15079MiB |      0%      Default |\n",
            "+-------------------------------+----------------------+----------------------+\n",
            "                                                                               \n",
            "+-----------------------------------------------------------------------------+\n",
            "| Processes:                                                       GPU Memory |\n",
            "|  GPU       PID   Type   Process name                             Usage      |\n",
            "|=============================================================================|\n",
            "|  No running processes found                                                 |\n",
            "+-----------------------------------------------------------------------------+\n"
          ],
          "name": "stdout"
        }
      ]
    },
    {
      "cell_type": "code",
      "metadata": {
        "id": "7P0Jg0Z4KY-t",
        "colab_type": "code",
        "outputId": "1843b95d-d02a-43b8-8114-77c8f60dd93d",
        "colab": {
          "base_uri": "https://localhost:8080/",
          "height": 124
        }
      },
      "source": [
        "from google.colab import drive\n",
        "drive.mount('/content/drive')"
      ],
      "execution_count": 2,
      "outputs": [
        {
          "output_type": "stream",
          "text": [
            "Go to this URL in a browser: https://accounts.google.com/o/oauth2/auth?client_id=947318989803-6bn6qk8qdgf4n4g3pfee6491hc0brc4i.apps.googleusercontent.com&redirect_uri=urn%3aietf%3awg%3aoauth%3a2.0%3aoob&response_type=code&scope=email%20https%3a%2f%2fwww.googleapis.com%2fauth%2fdocs.test%20https%3a%2f%2fwww.googleapis.com%2fauth%2fdrive%20https%3a%2f%2fwww.googleapis.com%2fauth%2fdrive.photos.readonly%20https%3a%2f%2fwww.googleapis.com%2fauth%2fpeopleapi.readonly\n",
            "\n",
            "Enter your authorization code:\n",
            "··········\n",
            "Mounted at /content/drive\n"
          ],
          "name": "stdout"
        }
      ]
    },
    {
      "cell_type": "code",
      "metadata": {
        "id": "Hm_uR__QKijJ",
        "colab_type": "code",
        "outputId": "6c53472a-5953-4a0a-f928-3070f4ad0ffc",
        "colab": {
          "base_uri": "https://localhost:8080/",
          "height": 835
        }
      },
      "source": [
        "!pip3 install kaggle tensorflow-gpu"
      ],
      "execution_count": 3,
      "outputs": [
        {
          "output_type": "stream",
          "text": [
            "Requirement already satisfied: kaggle in /usr/local/lib/python3.6/dist-packages (1.5.6)\n",
            "Collecting tensorflow-gpu\n",
            "\u001b[?25l  Downloading https://files.pythonhosted.org/packages/31/bf/c28971266ca854a64f4b26f07c4112ddd61f30b4d1f18108b954a746f8ea/tensorflow_gpu-2.2.0-cp36-cp36m-manylinux2010_x86_64.whl (516.2MB)\n",
            "\u001b[K     |████████████████████████████████| 516.2MB 34kB/s \n",
            "\u001b[?25hRequirement already satisfied: tqdm in /usr/local/lib/python3.6/dist-packages (from kaggle) (4.41.1)\n",
            "Requirement already satisfied: requests in /usr/local/lib/python3.6/dist-packages (from kaggle) (2.23.0)\n",
            "Requirement already satisfied: six>=1.10 in /usr/local/lib/python3.6/dist-packages (from kaggle) (1.12.0)\n",
            "Requirement already satisfied: python-dateutil in /usr/local/lib/python3.6/dist-packages (from kaggle) (2.8.1)\n",
            "Requirement already satisfied: certifi in /usr/local/lib/python3.6/dist-packages (from kaggle) (2020.4.5.1)\n",
            "Requirement already satisfied: urllib3<1.25,>=1.21.1 in /usr/local/lib/python3.6/dist-packages (from kaggle) (1.24.3)\n",
            "Requirement already satisfied: python-slugify in /usr/local/lib/python3.6/dist-packages (from kaggle) (4.0.0)\n",
            "Requirement already satisfied: opt-einsum>=2.3.2 in /usr/local/lib/python3.6/dist-packages (from tensorflow-gpu) (3.2.1)\n",
            "Requirement already satisfied: h5py<2.11.0,>=2.10.0 in /usr/local/lib/python3.6/dist-packages (from tensorflow-gpu) (2.10.0)\n",
            "Requirement already satisfied: absl-py>=0.7.0 in /usr/local/lib/python3.6/dist-packages (from tensorflow-gpu) (0.9.0)\n",
            "Requirement already satisfied: numpy<2.0,>=1.16.0 in /usr/local/lib/python3.6/dist-packages (from tensorflow-gpu) (1.18.4)\n",
            "Requirement already satisfied: gast==0.3.3 in /usr/local/lib/python3.6/dist-packages (from tensorflow-gpu) (0.3.3)\n",
            "Requirement already satisfied: termcolor>=1.1.0 in /usr/local/lib/python3.6/dist-packages (from tensorflow-gpu) (1.1.0)\n",
            "Requirement already satisfied: grpcio>=1.8.6 in /usr/local/lib/python3.6/dist-packages (from tensorflow-gpu) (1.29.0)\n",
            "Requirement already satisfied: astunparse==1.6.3 in /usr/local/lib/python3.6/dist-packages (from tensorflow-gpu) (1.6.3)\n",
            "Requirement already satisfied: keras-preprocessing>=1.1.0 in /usr/local/lib/python3.6/dist-packages (from tensorflow-gpu) (1.1.2)\n",
            "Requirement already satisfied: tensorflow-estimator<2.3.0,>=2.2.0 in /usr/local/lib/python3.6/dist-packages (from tensorflow-gpu) (2.2.0)\n",
            "Requirement already satisfied: scipy==1.4.1; python_version >= \"3\" in /usr/local/lib/python3.6/dist-packages (from tensorflow-gpu) (1.4.1)\n",
            "Requirement already satisfied: tensorboard<2.3.0,>=2.2.0 in /usr/local/lib/python3.6/dist-packages (from tensorflow-gpu) (2.2.2)\n",
            "Requirement already satisfied: wrapt>=1.11.1 in /usr/local/lib/python3.6/dist-packages (from tensorflow-gpu) (1.12.1)\n",
            "Requirement already satisfied: wheel>=0.26; python_version >= \"3\" in /usr/local/lib/python3.6/dist-packages (from tensorflow-gpu) (0.34.2)\n",
            "Requirement already satisfied: google-pasta>=0.1.8 in /usr/local/lib/python3.6/dist-packages (from tensorflow-gpu) (0.2.0)\n",
            "Requirement already satisfied: protobuf>=3.8.0 in /usr/local/lib/python3.6/dist-packages (from tensorflow-gpu) (3.10.0)\n",
            "Requirement already satisfied: idna<3,>=2.5 in /usr/local/lib/python3.6/dist-packages (from requests->kaggle) (2.9)\n",
            "Requirement already satisfied: chardet<4,>=3.0.2 in /usr/local/lib/python3.6/dist-packages (from requests->kaggle) (3.0.4)\n",
            "Requirement already satisfied: text-unidecode>=1.3 in /usr/local/lib/python3.6/dist-packages (from python-slugify->kaggle) (1.3)\n",
            "Requirement already satisfied: werkzeug>=0.11.15 in /usr/local/lib/python3.6/dist-packages (from tensorboard<2.3.0,>=2.2.0->tensorflow-gpu) (1.0.1)\n",
            "Requirement already satisfied: google-auth<2,>=1.6.3 in /usr/local/lib/python3.6/dist-packages (from tensorboard<2.3.0,>=2.2.0->tensorflow-gpu) (1.7.2)\n",
            "Requirement already satisfied: markdown>=2.6.8 in /usr/local/lib/python3.6/dist-packages (from tensorboard<2.3.0,>=2.2.0->tensorflow-gpu) (3.2.2)\n",
            "Requirement already satisfied: setuptools>=41.0.0 in /usr/local/lib/python3.6/dist-packages (from tensorboard<2.3.0,>=2.2.0->tensorflow-gpu) (47.1.1)\n",
            "Requirement already satisfied: tensorboard-plugin-wit>=1.6.0 in /usr/local/lib/python3.6/dist-packages (from tensorboard<2.3.0,>=2.2.0->tensorflow-gpu) (1.6.0.post3)\n",
            "Requirement already satisfied: google-auth-oauthlib<0.5,>=0.4.1 in /usr/local/lib/python3.6/dist-packages (from tensorboard<2.3.0,>=2.2.0->tensorflow-gpu) (0.4.1)\n",
            "Requirement already satisfied: pyasn1-modules>=0.2.1 in /usr/local/lib/python3.6/dist-packages (from google-auth<2,>=1.6.3->tensorboard<2.3.0,>=2.2.0->tensorflow-gpu) (0.2.8)\n",
            "Requirement already satisfied: cachetools<3.2,>=2.0.0 in /usr/local/lib/python3.6/dist-packages (from google-auth<2,>=1.6.3->tensorboard<2.3.0,>=2.2.0->tensorflow-gpu) (3.1.1)\n",
            "Requirement already satisfied: rsa<4.1,>=3.1.4 in /usr/local/lib/python3.6/dist-packages (from google-auth<2,>=1.6.3->tensorboard<2.3.0,>=2.2.0->tensorflow-gpu) (4.0)\n",
            "Requirement already satisfied: importlib-metadata; python_version < \"3.8\" in /usr/local/lib/python3.6/dist-packages (from markdown>=2.6.8->tensorboard<2.3.0,>=2.2.0->tensorflow-gpu) (1.6.0)\n",
            "Requirement already satisfied: requests-oauthlib>=0.7.0 in /usr/local/lib/python3.6/dist-packages (from google-auth-oauthlib<0.5,>=0.4.1->tensorboard<2.3.0,>=2.2.0->tensorflow-gpu) (1.3.0)\n",
            "Requirement already satisfied: pyasn1<0.5.0,>=0.4.6 in /usr/local/lib/python3.6/dist-packages (from pyasn1-modules>=0.2.1->google-auth<2,>=1.6.3->tensorboard<2.3.0,>=2.2.0->tensorflow-gpu) (0.4.8)\n",
            "Requirement already satisfied: zipp>=0.5 in /usr/local/lib/python3.6/dist-packages (from importlib-metadata; python_version < \"3.8\"->markdown>=2.6.8->tensorboard<2.3.0,>=2.2.0->tensorflow-gpu) (3.1.0)\n",
            "Requirement already satisfied: oauthlib>=3.0.0 in /usr/local/lib/python3.6/dist-packages (from requests-oauthlib>=0.7.0->google-auth-oauthlib<0.5,>=0.4.1->tensorboard<2.3.0,>=2.2.0->tensorflow-gpu) (3.1.0)\n",
            "Installing collected packages: tensorflow-gpu\n",
            "Successfully installed tensorflow-gpu-2.2.0\n"
          ],
          "name": "stdout"
        }
      ]
    },
    {
      "cell_type": "code",
      "metadata": {
        "id": "jtCINyUFK2lr",
        "colab_type": "code",
        "colab": {}
      },
      "source": [
        "!mkdir ~/.kaggle"
      ],
      "execution_count": 0,
      "outputs": []
    },
    {
      "cell_type": "code",
      "metadata": {
        "id": "nwOI6DDJK9pw",
        "colab_type": "code",
        "outputId": "bb8afbfd-3bf5-4622-b06d-087905c71758",
        "colab": {
          "base_uri": "https://localhost:8080/",
          "height": 35
        }
      },
      "source": [
        "!ls -a"
      ],
      "execution_count": 5,
      "outputs": [
        {
          "output_type": "stream",
          "text": [
            ".  ..  .config\tdrive  sample_data\n"
          ],
          "name": "stdout"
        }
      ]
    },
    {
      "cell_type": "code",
      "metadata": {
        "id": "90hcC0woNqzY",
        "colab_type": "code",
        "outputId": "46113b7f-de62-4435-b41a-6ec37b6f4b4b",
        "colab": {
          "base_uri": "https://localhost:8080/",
          "height": 35
        }
      },
      "source": [
        "%cd /content/drive/My Drive/Colab Notebooks/"
      ],
      "execution_count": 6,
      "outputs": [
        {
          "output_type": "stream",
          "text": [
            "/content/drive/My Drive/Colab Notebooks\n"
          ],
          "name": "stdout"
        }
      ]
    },
    {
      "cell_type": "code",
      "metadata": {
        "id": "lGfTIcCpNPa4",
        "colab_type": "code",
        "colab": {}
      },
      "source": [
        "!cp kaggle.json ~/.kaggle/kaggle.json"
      ],
      "execution_count": 0,
      "outputs": []
    },
    {
      "cell_type": "code",
      "metadata": {
        "id": "Z9I-6nZcOI7G",
        "colab_type": "code",
        "outputId": "3ef56151-418c-4daf-948f-d54f1067955e",
        "colab": {
          "base_uri": "https://localhost:8080/",
          "height": 35
        }
      },
      "source": [
        "%cd /content"
      ],
      "execution_count": 8,
      "outputs": [
        {
          "output_type": "stream",
          "text": [
            "/content\n"
          ],
          "name": "stdout"
        }
      ]
    },
    {
      "cell_type": "code",
      "metadata": {
        "id": "earKs4M8NL96",
        "colab_type": "code",
        "outputId": "9b72b804-7f06-480d-a0d9-2eb2b8724139",
        "colab": {
          "base_uri": "https://localhost:8080/",
          "height": 211
        }
      },
      "source": [
        "!kaggle competitions download -c nlp-getting-started"
      ],
      "execution_count": 9,
      "outputs": [
        {
          "output_type": "stream",
          "text": [
            "Warning: Looks like you're using an outdated API Version, please consider updating (server 1.5.6 / client 1.5.4)\n",
            "Downloading sample_submission.csv to /content\n",
            "  0% 0.00/22.2k [00:00<?, ?B/s]\n",
            "100% 22.2k/22.2k [00:00<00:00, 36.2MB/s]\n",
            "Downloading test.csv to /content\n",
            "  0% 0.00/411k [00:00<?, ?B/s]\n",
            "100% 411k/411k [00:00<00:00, 58.1MB/s]\n",
            "Downloading train.csv to /content\n",
            "  0% 0.00/965k [00:00<?, ?B/s]\n",
            "100% 965k/965k [00:00<00:00, 61.8MB/s]\n"
          ],
          "name": "stdout"
        }
      ]
    },
    {
      "cell_type": "code",
      "metadata": {
        "id": "Z6gxpwgROgxt",
        "colab_type": "code",
        "outputId": "d298b64d-4a7c-43a0-858d-3186b7836aa0",
        "colab": {
          "base_uri": "https://localhost:8080/",
          "height": 55
        }
      },
      "source": [
        "!ls -a"
      ],
      "execution_count": 10,
      "outputs": [
        {
          "output_type": "stream",
          "text": [
            ".  ..  .config\tdrive  sample_data  sample_submission.csv  test.csv  train.csv\n"
          ],
          "name": "stdout"
        }
      ]
    },
    {
      "cell_type": "markdown",
      "metadata": {
        "id": "-UlNWoPsUP4x",
        "colab_type": "text"
      },
      "source": [
        "# Real or Not? NLP with Disaster Tweets"
      ]
    },
    {
      "cell_type": "markdown",
      "metadata": {
        "id": "IY_rvGdYUUQg",
        "colab_type": "text"
      },
      "source": [
        "## ---- DEFINE ----"
      ]
    },
    {
      "cell_type": "markdown",
      "metadata": {
        "id": "aShKHWYIUZr_",
        "colab_type": "text"
      },
      "source": [
        "To analyze text data in the form of various tweets regarding natural disasters and predict whether the tweet is genuine with regards to the natural disaster or not."
      ]
    },
    {
      "cell_type": "markdown",
      "metadata": {
        "id": "hWT1OmCCpDPH",
        "colab_type": "text"
      },
      "source": [
        "## ---- DISCOVER ----"
      ]
    },
    {
      "cell_type": "code",
      "metadata": {
        "id": "W4PEDhOrO_eA",
        "colab_type": "code",
        "outputId": "c771a95f-8781-4f03-8d77-afb6f80f4629",
        "colab": {
          "base_uri": "https://localhost:8080/",
          "height": 191
        }
      },
      "source": [
        "# import the necessary libraries\n",
        "import re, pickle\n",
        "import numpy as np\n",
        "import pandas as pd\n",
        "pd.set_option('display.max_columns', 100)\n",
        "pd.set_option('display.max_colwidth', 100)\n",
        "import nltk, string\n",
        "nltk.download('punkt')\n",
        "nltk.download('stopwords')\n",
        "nltk.download('wordnet')\n",
        "nltk.download('averaged_perceptron_tagger')\n",
        "import matplotlib.pyplot as plt\n",
        "import seaborn as sns\n",
        "from wordcloud import WordCloud\n",
        "from sklearn.feature_extraction.text import TfidfVectorizer\n",
        "from sklearn.preprocessing import FunctionTransformer, MinMaxScaler\n",
        "from sklearn.feature_selection import SelectKBest, f_classif\n",
        "from nltk import word_tokenize, pos_tag, ne_chunk\n",
        "from nltk.corpus import stopwords\n",
        "from nltk.stem import WordNetLemmatizer\n",
        "from sklearn.model_selection import train_test_split\n",
        "from sklearn.linear_model import LogisticRegression\n",
        "from sklearn.naive_bayes import MultinomialNB\n",
        "from sklearn.pipeline import FeatureUnion, Pipeline\n",
        "from tensorflow.keras.preprocessing.sequence import pad_sequences\n",
        "from tensorflow.keras.models import Sequential\n",
        "from tensorflow.keras.layers import Dense, GlobalAveragePooling1D, GlobalMaxPooling1D, \\\n",
        "Embedding, LSTM, Input, SpatialDropout1D, Masking, BatchNormalization, Dropout"
      ],
      "execution_count": 86,
      "outputs": [
        {
          "output_type": "stream",
          "text": [
            "[nltk_data] Downloading package punkt to /root/nltk_data...\n",
            "[nltk_data]   Package punkt is already up-to-date!\n",
            "[nltk_data] Downloading package stopwords to /root/nltk_data...\n",
            "[nltk_data]   Package stopwords is already up-to-date!\n",
            "[nltk_data] Downloading package wordnet to /root/nltk_data...\n",
            "[nltk_data]   Package wordnet is already up-to-date!\n",
            "[nltk_data] Downloading package averaged_perceptron_tagger to\n",
            "[nltk_data]     /root/nltk_data...\n",
            "[nltk_data]   Package averaged_perceptron_tagger is already up-to-\n",
            "[nltk_data]       date!\n"
          ],
          "name": "stdout"
        }
      ]
    },
    {
      "cell_type": "code",
      "metadata": {
        "id": "FQwfTTeSGcDs",
        "colab_type": "code",
        "outputId": "5baf9a5d-255a-4ae9-ca11-521350d3d189",
        "colab": {
          "base_uri": "https://localhost:8080/",
          "height": 271
        }
      },
      "source": [
        "# load and examine the training data\n",
        "df = pd.read_csv('train.csv')\n",
        "df.head()"
      ],
      "execution_count": 12,
      "outputs": [
        {
          "output_type": "execute_result",
          "data": {
            "text/html": [
              "<div>\n",
              "<style scoped>\n",
              "    .dataframe tbody tr th:only-of-type {\n",
              "        vertical-align: middle;\n",
              "    }\n",
              "\n",
              "    .dataframe tbody tr th {\n",
              "        vertical-align: top;\n",
              "    }\n",
              "\n",
              "    .dataframe thead th {\n",
              "        text-align: right;\n",
              "    }\n",
              "</style>\n",
              "<table border=\"1\" class=\"dataframe\">\n",
              "  <thead>\n",
              "    <tr style=\"text-align: right;\">\n",
              "      <th></th>\n",
              "      <th>id</th>\n",
              "      <th>keyword</th>\n",
              "      <th>location</th>\n",
              "      <th>text</th>\n",
              "      <th>target</th>\n",
              "    </tr>\n",
              "  </thead>\n",
              "  <tbody>\n",
              "    <tr>\n",
              "      <th>0</th>\n",
              "      <td>1</td>\n",
              "      <td>NaN</td>\n",
              "      <td>NaN</td>\n",
              "      <td>Our Deeds are the Reason of this #earthquake May ALLAH Forgive us all</td>\n",
              "      <td>1</td>\n",
              "    </tr>\n",
              "    <tr>\n",
              "      <th>1</th>\n",
              "      <td>4</td>\n",
              "      <td>NaN</td>\n",
              "      <td>NaN</td>\n",
              "      <td>Forest fire near La Ronge Sask. Canada</td>\n",
              "      <td>1</td>\n",
              "    </tr>\n",
              "    <tr>\n",
              "      <th>2</th>\n",
              "      <td>5</td>\n",
              "      <td>NaN</td>\n",
              "      <td>NaN</td>\n",
              "      <td>All residents asked to 'shelter in place' are being notified by officers. No other evacuation or...</td>\n",
              "      <td>1</td>\n",
              "    </tr>\n",
              "    <tr>\n",
              "      <th>3</th>\n",
              "      <td>6</td>\n",
              "      <td>NaN</td>\n",
              "      <td>NaN</td>\n",
              "      <td>13,000 people receive #wildfires evacuation orders in California</td>\n",
              "      <td>1</td>\n",
              "    </tr>\n",
              "    <tr>\n",
              "      <th>4</th>\n",
              "      <td>7</td>\n",
              "      <td>NaN</td>\n",
              "      <td>NaN</td>\n",
              "      <td>Just got sent this photo from Ruby #Alaska as smoke from #wildfires pours into a school</td>\n",
              "      <td>1</td>\n",
              "    </tr>\n",
              "  </tbody>\n",
              "</table>\n",
              "</div>"
            ],
            "text/plain": [
              "   id keyword location  \\\n",
              "0   1     NaN      NaN   \n",
              "1   4     NaN      NaN   \n",
              "2   5     NaN      NaN   \n",
              "3   6     NaN      NaN   \n",
              "4   7     NaN      NaN   \n",
              "\n",
              "                                                                                                  text  \\\n",
              "0                                Our Deeds are the Reason of this #earthquake May ALLAH Forgive us all   \n",
              "1                                                               Forest fire near La Ronge Sask. Canada   \n",
              "2  All residents asked to 'shelter in place' are being notified by officers. No other evacuation or...   \n",
              "3                                    13,000 people receive #wildfires evacuation orders in California    \n",
              "4             Just got sent this photo from Ruby #Alaska as smoke from #wildfires pours into a school    \n",
              "\n",
              "   target  \n",
              "0       1  \n",
              "1       1  \n",
              "2       1  \n",
              "3       1  \n",
              "4       1  "
            ]
          },
          "metadata": {
            "tags": []
          },
          "execution_count": 12
        }
      ]
    },
    {
      "cell_type": "code",
      "metadata": {
        "id": "DxZT2pyZG4Xf",
        "colab_type": "code",
        "outputId": "b13e9bce-6720-4b3d-bfc8-79340c873229",
        "colab": {
          "base_uri": "https://localhost:8080/",
          "height": 219
        }
      },
      "source": [
        "# load and examine the testing data\n",
        "df_test = pd.read_csv('test.csv')\n",
        "df_test.head()"
      ],
      "execution_count": 13,
      "outputs": [
        {
          "output_type": "execute_result",
          "data": {
            "text/html": [
              "<div>\n",
              "<style scoped>\n",
              "    .dataframe tbody tr th:only-of-type {\n",
              "        vertical-align: middle;\n",
              "    }\n",
              "\n",
              "    .dataframe tbody tr th {\n",
              "        vertical-align: top;\n",
              "    }\n",
              "\n",
              "    .dataframe thead th {\n",
              "        text-align: right;\n",
              "    }\n",
              "</style>\n",
              "<table border=\"1\" class=\"dataframe\">\n",
              "  <thead>\n",
              "    <tr style=\"text-align: right;\">\n",
              "      <th></th>\n",
              "      <th>id</th>\n",
              "      <th>keyword</th>\n",
              "      <th>location</th>\n",
              "      <th>text</th>\n",
              "    </tr>\n",
              "  </thead>\n",
              "  <tbody>\n",
              "    <tr>\n",
              "      <th>0</th>\n",
              "      <td>0</td>\n",
              "      <td>NaN</td>\n",
              "      <td>NaN</td>\n",
              "      <td>Just happened a terrible car crash</td>\n",
              "    </tr>\n",
              "    <tr>\n",
              "      <th>1</th>\n",
              "      <td>2</td>\n",
              "      <td>NaN</td>\n",
              "      <td>NaN</td>\n",
              "      <td>Heard about #earthquake is different cities, stay safe everyone.</td>\n",
              "    </tr>\n",
              "    <tr>\n",
              "      <th>2</th>\n",
              "      <td>3</td>\n",
              "      <td>NaN</td>\n",
              "      <td>NaN</td>\n",
              "      <td>there is a forest fire at spot pond, geese are fleeing across the street, I cannot save them all</td>\n",
              "    </tr>\n",
              "    <tr>\n",
              "      <th>3</th>\n",
              "      <td>9</td>\n",
              "      <td>NaN</td>\n",
              "      <td>NaN</td>\n",
              "      <td>Apocalypse lighting. #Spokane #wildfires</td>\n",
              "    </tr>\n",
              "    <tr>\n",
              "      <th>4</th>\n",
              "      <td>11</td>\n",
              "      <td>NaN</td>\n",
              "      <td>NaN</td>\n",
              "      <td>Typhoon Soudelor kills 28 in China and Taiwan</td>\n",
              "    </tr>\n",
              "  </tbody>\n",
              "</table>\n",
              "</div>"
            ],
            "text/plain": [
              "   id keyword location  \\\n",
              "0   0     NaN      NaN   \n",
              "1   2     NaN      NaN   \n",
              "2   3     NaN      NaN   \n",
              "3   9     NaN      NaN   \n",
              "4  11     NaN      NaN   \n",
              "\n",
              "                                                                                               text  \n",
              "0                                                                Just happened a terrible car crash  \n",
              "1                                  Heard about #earthquake is different cities, stay safe everyone.  \n",
              "2  there is a forest fire at spot pond, geese are fleeing across the street, I cannot save them all  \n",
              "3                                                          Apocalypse lighting. #Spokane #wildfires  \n",
              "4                                                     Typhoon Soudelor kills 28 in China and Taiwan  "
            ]
          },
          "metadata": {
            "tags": []
          },
          "execution_count": 13
        }
      ]
    },
    {
      "cell_type": "code",
      "metadata": {
        "id": "GAZgF-p_HknG",
        "colab_type": "code",
        "colab": {}
      },
      "source": [
        "# drop 'id' column from training data\n",
        "df.drop(['id'], axis = 1, inplace = True)"
      ],
      "execution_count": 0,
      "outputs": []
    },
    {
      "cell_type": "markdown",
      "metadata": {
        "id": "o4PfsTj7LUOw",
        "colab_type": "text"
      },
      "source": [
        "### Exploratory Data Analysis (EDA)"
      ]
    },
    {
      "cell_type": "code",
      "metadata": {
        "id": "uDAZ5Nq5K436",
        "colab_type": "code",
        "outputId": "32a3a4f7-533d-46a5-f58f-50070da52407",
        "colab": {
          "base_uri": "https://localhost:8080/",
          "height": 297
        }
      },
      "source": [
        "sns.countplot(df['target'])"
      ],
      "execution_count": 15,
      "outputs": [
        {
          "output_type": "execute_result",
          "data": {
            "text/plain": [
              "<matplotlib.axes._subplots.AxesSubplot at 0x7f905bc7a4a8>"
            ]
          },
          "metadata": {
            "tags": []
          },
          "execution_count": 15
        },
        {
          "output_type": "display_data",
          "data": {
            "image/png": "[encoded data removed]",
            "text/plain": [
              "<Figure size 432x288 with 1 Axes>"
            ]
          },
          "metadata": {
            "tags": [],
            "needs_background": "light"
          }
        }
      ]
    },
    {
      "cell_type": "code",
      "metadata": {
        "id": "chcKlpKQTci9",
        "colab_type": "code",
        "colab": {}
      },
      "source": [
        "# convert column \n",
        "tweets_text = df['text'].values.tolist()"
      ],
      "execution_count": 0,
      "outputs": []
    },
    {
      "cell_type": "markdown",
      "metadata": {
        "id": "u4N2syD-UK8F",
        "colab_type": "text"
      },
      "source": [
        "**Perform Basic Text Preprocessing** "
      ]
    },
    {
      "cell_type": "code",
      "metadata": {
        "id": "Q0N4Y22QT6uW",
        "colab_type": "code",
        "colab": {}
      },
      "source": [
        "# create a set of stopwords\n",
        "stop_words = set(stopwords.words('english'))\n",
        "\n",
        "def preprocess_text(tweets):\n",
        "\n",
        "    # create an empty list to store preprocessed tweets\n",
        "    tweet_corpus = []\n",
        "\n",
        "    # create word corpus to check frequency distribution for words\n",
        "    word_corpus = []\n",
        "\n",
        "    # create word corpus to check frequency distribution for lemmatized words\n",
        "    lemmatized_word_corpus = []\n",
        "\n",
        "    for tweet in tweets:\n",
        "        \n",
        "        # remove non-word characters\n",
        "        preprocessed_tweet = re.sub(r'\\W', ' ', tweet)\n",
        "\n",
        "        # eliminate single alphabetic characters\n",
        "        preprocessed_tweet = re.sub(r'\\s+[a-z]\\s+', ' ', preprocessed_tweet)\n",
        "\n",
        "        # convert all words to lowercase\n",
        "        preprocessed_tweet = preprocessed_tweet.lower()\n",
        "\n",
        "        # eliminate punctuation\n",
        "        preprocessed_tweet = re.sub(r'^[a-z]\\s+', ' ', preprocessed_tweet)\n",
        "\n",
        "        # eliminate 1 or more spaces\n",
        "        preprocessed_tweet = re.sub(r'\\s+', ' ', preprocessed_tweet)\n",
        "\n",
        "        # remove stopwords\n",
        "        words = word_tokenize(preprocessed_tweet)\n",
        "        tokens = [word for word in words if word not in stop_words]\n",
        "        filtered_tweet = ' '.join(tokens)\n",
        "\n",
        "        # Perform lemmatization upon each token\n",
        "        lemmatizer = WordNetLemmatizer()\n",
        "        lemmatized_tokens = [lemmatizer.lemmatize(token) for token in tokens]\n",
        "        lemmatized_filtered_tweet = ' '.join(lemmatized_tokens)\n",
        "\n",
        "        # add tokens to word corpus to generate frequency distribution\n",
        "        word_corpus.append(tokens)\n",
        "\n",
        "        # add lemmatized tokens to lemmatized word corpus to generate frequency distribution\n",
        "        lemmatized_word_corpus.append(lemmatized_tokens)\n",
        "\n",
        "        tweet_corpus.append(lemmatized_filtered_tweet)\n",
        "        # tweet_corpus.append(filtered_tweet)\n",
        "    \n",
        "    return tweet_corpus, lemmatized_word_corpus\n",
        "\n",
        "train_tweet_corpus, lemmatized_word_corpus = preprocess_text(tweets_text)"
      ],
      "execution_count": 0,
      "outputs": []
    },
    {
      "cell_type": "code",
      "metadata": {
        "id": "jwLlcs6eW1KS",
        "colab_type": "code",
        "outputId": "bffa8efd-93ab-44c4-c283-448e22f73d17",
        "colab": {
          "base_uri": "https://localhost:8080/",
          "height": 124
        }
      },
      "source": [
        "train_tweet_corpus[:5]"
      ],
      "execution_count": 18,
      "outputs": [
        {
          "output_type": "execute_result",
          "data": {
            "text/plain": [
              "['deed reason earthquake may allah forgive u',\n",
              " 'forest fire near la ronge sask canada',\n",
              " 'resident asked shelter place notified officer evacuation shelter place order expected',\n",
              " '13 000 people receive wildfire evacuation order california',\n",
              " 'got sent photo ruby alaska smoke wildfire pours school']"
            ]
          },
          "metadata": {
            "tags": []
          },
          "execution_count": 18
        }
      ]
    },
    {
      "cell_type": "code",
      "metadata": {
        "id": "f6Guq5HBWd9t",
        "colab_type": "code",
        "outputId": "aa06b923-e573-4a32-e579-a32d266c3a5d",
        "colab": {
          "base_uri": "https://localhost:8080/",
          "height": 451
        }
      },
      "source": [
        "# flatten word corpus from 2D to 1D\n",
        "word_dist = sum(lemmatized_word_corpus, [])\n",
        "\n",
        "# Obtain 25 most frequent words in the corpus\n",
        "frequency_dist = nltk.FreqDist(word_dist)\n",
        "sorted(frequency_dist,key=frequency_dist.__getitem__, reverse=True)[0:25]"
      ],
      "execution_count": 19,
      "outputs": [
        {
          "output_type": "execute_result",
          "data": {
            "text/plain": [
              "['co',\n",
              " 'http',\n",
              " 'fire',\n",
              " 'like',\n",
              " 'û_',\n",
              " 'amp',\n",
              " 'get',\n",
              " 'new',\n",
              " 'via',\n",
              " '2',\n",
              " 'one',\n",
              " 'people',\n",
              " 'news',\n",
              " 'u',\n",
              " 'year',\n",
              " 'video',\n",
              " 'time',\n",
              " 'disaster',\n",
              " 'emergency',\n",
              " 'body',\n",
              " 'day',\n",
              " 'police',\n",
              " 'home',\n",
              " 'building',\n",
              " 'would']"
            ]
          },
          "metadata": {
            "tags": []
          },
          "execution_count": 19
        }
      ]
    },
    {
      "cell_type": "code",
      "metadata": {
        "id": "WH7vz3Z8W0Q6",
        "colab_type": "code",
        "outputId": "9fd17ac2-1f40-4e4e-80d4-8e2ed622bfe3",
        "colab": {
          "base_uri": "https://localhost:8080/",
          "height": 198
        }
      },
      "source": [
        "# generate Word Cloud\n",
        "wordcloud = WordCloud().generate_from_frequencies(frequency_dist)\n",
        "plt.imshow(wordcloud)\n",
        "plt.axis(\"off\")\n",
        "plt.show()"
      ],
      "execution_count": 20,
      "outputs": [
        {
          "output_type": "display_data",
          "data": {
            "image/png": "[encoded data removed]",
            "text/plain": [
              "<Figure size 432x288 with 1 Axes>"
            ]
          },
          "metadata": {
            "tags": [],
            "needs_background": "light"
          }
        }
      ]
    },
    {
      "cell_type": "markdown",
      "metadata": {
        "id": "jmPocgT7ioL3",
        "colab_type": "text"
      },
      "source": [
        "#### N-Gram Analyses (All tweets)"
      ]
    },
    {
      "cell_type": "code",
      "metadata": {
        "id": "11VILwggscWm",
        "colab_type": "code",
        "colab": {}
      },
      "source": [
        "def generate_ngram_df(n, docs):\n",
        "    ngstr = ''\n",
        "    if n == 1:\n",
        "        ngstr = 'Unigrams' \n",
        "    elif n == 2:\n",
        "        ngstr = 'Bigrams'\n",
        "    elif n == 3:\n",
        "        ngstr = 'Trigrams'\n",
        "    else:\n",
        "        ngstr == 'N-grams'\n",
        "    ngrams = dict()\n",
        "    for doc in docs:\n",
        "        \n",
        "        # remove single hyphens \n",
        "        # clean_doc = re.sub(r'[-]', ' ', doc)\n",
        "        \n",
        "        # eliminate trailing whitespaces\n",
        "        clean_doc = re.sub(r'\\s+', ' ', doc)\n",
        "\n",
        "        words = clean_doc.split(' ')\n",
        "        tokens = [word for word in words if word not in stop_words]\n",
        "        for i in range(len(tokens) - n):\n",
        "            gram = ' '.join(tokens[i:i + n])\n",
        "            if gram not in ngrams.keys():\n",
        "                ngrams[gram] = 1\n",
        "            else:\n",
        "                ngrams[gram] += 1\n",
        "    ngram_df = pd.DataFrame(list(ngrams.items()), columns = [ngstr, 'count'])\n",
        "    return ngram_df"
      ],
      "execution_count": 0,
      "outputs": []
    },
    {
      "cell_type": "markdown",
      "metadata": {
        "id": "OLaTO7ysc0N9",
        "colab_type": "text"
      },
      "source": [
        "**Bigram Analysis**"
      ]
    },
    {
      "cell_type": "code",
      "metadata": {
        "id": "k_-nvy4yaja-",
        "colab_type": "code",
        "outputId": "c68c779b-4cae-4920-a0a1-bdfc22768cde",
        "colab": {
          "base_uri": "https://localhost:8080/",
          "height": 355
        }
      },
      "source": [
        "n = 2\n",
        "bigram_df = generate_ngram_df(n, tweets_text)\n",
        "bigram_df.sort_values(by = 'count', ascending = False, inplace = True, ignore_index = True)\n",
        "bigram_df.head(10)"
      ],
      "execution_count": 22,
      "outputs": [
        {
          "output_type": "execute_result",
          "data": {
            "text/html": [
              "<div>\n",
              "<style scoped>\n",
              "    .dataframe tbody tr th:only-of-type {\n",
              "        vertical-align: middle;\n",
              "    }\n",
              "\n",
              "    .dataframe tbody tr th {\n",
              "        vertical-align: top;\n",
              "    }\n",
              "\n",
              "    .dataframe thead th {\n",
              "        text-align: right;\n",
              "    }\n",
              "</style>\n",
              "<table border=\"1\" class=\"dataframe\">\n",
              "  <thead>\n",
              "    <tr style=\"text-align: right;\">\n",
              "      <th></th>\n",
              "      <th>Bigrams</th>\n",
              "      <th>count</th>\n",
              "    </tr>\n",
              "  </thead>\n",
              "  <tbody>\n",
              "    <tr>\n",
              "      <th>0</th>\n",
              "      <td>- Full</td>\n",
              "      <td>66</td>\n",
              "    </tr>\n",
              "    <tr>\n",
              "      <th>1</th>\n",
              "      <td>I liked</td>\n",
              "      <td>42</td>\n",
              "    </tr>\n",
              "    <tr>\n",
              "      <th>2</th>\n",
              "      <td>liked @YouTube</td>\n",
              "      <td>41</td>\n",
              "    </tr>\n",
              "    <tr>\n",
              "      <th>3</th>\n",
              "      <td>@YouTube video</td>\n",
              "      <td>41</td>\n",
              "    </tr>\n",
              "    <tr>\n",
              "      <th>4</th>\n",
              "      <td>burning buildings</td>\n",
              "      <td>40</td>\n",
              "    </tr>\n",
              "    <tr>\n",
              "      <th>5</th>\n",
              "      <td>suicide bomber</td>\n",
              "      <td>37</td>\n",
              "    </tr>\n",
              "    <tr>\n",
              "      <th>6</th>\n",
              "      <td>Northern California</td>\n",
              "      <td>36</td>\n",
              "    </tr>\n",
              "    <tr>\n",
              "      <th>7</th>\n",
              "      <td>I think</td>\n",
              "      <td>33</td>\n",
              "    </tr>\n",
              "    <tr>\n",
              "      <th>8</th>\n",
              "      <td>Cross Body</td>\n",
              "      <td>32</td>\n",
              "    </tr>\n",
              "    <tr>\n",
              "      <th>9</th>\n",
              "      <td>I feel</td>\n",
              "      <td>31</td>\n",
              "    </tr>\n",
              "  </tbody>\n",
              "</table>\n",
              "</div>"
            ],
            "text/plain": [
              "               Bigrams  count\n",
              "0               - Full     66\n",
              "1              I liked     42\n",
              "2       liked @YouTube     41\n",
              "3       @YouTube video     41\n",
              "4    burning buildings     40\n",
              "5       suicide bomber     37\n",
              "6  Northern California     36\n",
              "7              I think     33\n",
              "8           Cross Body     32\n",
              "9               I feel     31"
            ]
          },
          "metadata": {
            "tags": []
          },
          "execution_count": 22
        }
      ]
    },
    {
      "cell_type": "code",
      "metadata": {
        "id": "fz01vBJiXxSW",
        "colab_type": "code",
        "outputId": "4b62cb1f-d8f1-4619-9e19-44f67faac847",
        "colab": {
          "base_uri": "https://localhost:8080/",
          "height": 827
        }
      },
      "source": [
        "fig = plt.figure(figsize = (15, 10))\n",
        "chart = sns.barplot(x = bigram_df['Bigrams'].head(20), y = bigram_df['count'].head(20))\n",
        "chart.set_xticklabels(chart.get_xticklabels(), rotation = 45)"
      ],
      "execution_count": 23,
      "outputs": [
        {
          "output_type": "execute_result",
          "data": {
            "text/plain": [
              "[Text(0, 0, '- Full'),\n",
              " Text(0, 0, 'I liked'),\n",
              " Text(0, 0, 'liked @YouTube'),\n",
              " Text(0, 0, '@YouTube video'),\n",
              " Text(0, 0, 'burning buildings'),\n",
              " Text(0, 0, 'suicide bomber'),\n",
              " Text(0, 0, 'Northern California'),\n",
              " Text(0, 0, 'I think'),\n",
              " Text(0, 0, 'Cross Body'),\n",
              " Text(0, 0, 'I feel'),\n",
              " Text(0, 0, 'The Latest:'),\n",
              " Text(0, 0, 'bomber detonated'),\n",
              " Text(0, 0, 'PKK suicide'),\n",
              " Text(0, 0, 'Latest: More'),\n",
              " Text(0, 0, 'oil spill'),\n",
              " Text(0, 0, '16yr old'),\n",
              " Text(0, 0, 'detonated bomb'),\n",
              " Text(0, 0, 'I know'),\n",
              " Text(0, 0, '- The'),\n",
              " Text(0, 0, \"I can't\")]"
            ]
          },
          "metadata": {
            "tags": []
          },
          "execution_count": 23
        },
        {
          "output_type": "display_data",
          "data": {
            "image/png": "[encoded data removed]",
            "text/plain": [
              "<Figure size 1080x720 with 1 Axes>"
            ]
          },
          "metadata": {
            "tags": [],
            "needs_background": "light"
          }
        }
      ]
    },
    {
      "cell_type": "markdown",
      "metadata": {
        "colab_type": "text",
        "id": "2IjDm85zeK0A"
      },
      "source": [
        "**Trigram Analysis**"
      ]
    },
    {
      "cell_type": "code",
      "metadata": {
        "id": "cSSB29H5con5",
        "colab_type": "code",
        "outputId": "1b05d677-0705-42f3-e6e0-63859c97ab70",
        "colab": {
          "base_uri": "https://localhost:8080/",
          "height": 355
        }
      },
      "source": [
        "n = 3\n",
        "trigram_df = generate_ngram_df(n, tweets_text)\n",
        "trigram_df.sort_values(by = 'count', ascending = False, inplace = True, ignore_index = True)\n",
        "trigram_df.head(10)"
      ],
      "execution_count": 24,
      "outputs": [
        {
          "output_type": "execute_result",
          "data": {
            "text/html": [
              "<div>\n",
              "<style scoped>\n",
              "    .dataframe tbody tr th:only-of-type {\n",
              "        vertical-align: middle;\n",
              "    }\n",
              "\n",
              "    .dataframe tbody tr th {\n",
              "        vertical-align: top;\n",
              "    }\n",
              "\n",
              "    .dataframe thead th {\n",
              "        text-align: right;\n",
              "    }\n",
              "</style>\n",
              "<table border=\"1\" class=\"dataframe\">\n",
              "  <thead>\n",
              "    <tr style=\"text-align: right;\">\n",
              "      <th></th>\n",
              "      <th>Trigrams</th>\n",
              "      <th>count</th>\n",
              "    </tr>\n",
              "  </thead>\n",
              "  <tbody>\n",
              "    <tr>\n",
              "      <th>0</th>\n",
              "      <td>I liked @YouTube</td>\n",
              "      <td>41</td>\n",
              "    </tr>\n",
              "    <tr>\n",
              "      <th>1</th>\n",
              "      <td>liked @YouTube video</td>\n",
              "      <td>41</td>\n",
              "    </tr>\n",
              "    <tr>\n",
              "      <th>2</th>\n",
              "      <td>suicide bomber detonated</td>\n",
              "      <td>30</td>\n",
              "    </tr>\n",
              "    <tr>\n",
              "      <th>3</th>\n",
              "      <td>The Latest: More</td>\n",
              "      <td>28</td>\n",
              "    </tr>\n",
              "    <tr>\n",
              "      <th>4</th>\n",
              "      <td>bomber detonated bomb</td>\n",
              "      <td>28</td>\n",
              "    </tr>\n",
              "    <tr>\n",
              "      <th>5</th>\n",
              "      <td>PKK suicide bomber</td>\n",
              "      <td>28</td>\n",
              "    </tr>\n",
              "    <tr>\n",
              "      <th>6</th>\n",
              "      <td>- Full reÛ_</td>\n",
              "      <td>27</td>\n",
              "    </tr>\n",
              "    <tr>\n",
              "      <th>7</th>\n",
              "      <td>old PKK suicide</td>\n",
              "      <td>27</td>\n",
              "    </tr>\n",
              "    <tr>\n",
              "      <th>8</th>\n",
              "      <td>16yr old PKK</td>\n",
              "      <td>27</td>\n",
              "    </tr>\n",
              "    <tr>\n",
              "      <th>9</th>\n",
              "      <td>affected fatal outbreak</td>\n",
              "      <td>26</td>\n",
              "    </tr>\n",
              "  </tbody>\n",
              "</table>\n",
              "</div>"
            ],
            "text/plain": [
              "                   Trigrams  count\n",
              "0          I liked @YouTube     41\n",
              "1      liked @YouTube video     41\n",
              "2  suicide bomber detonated     30\n",
              "3          The Latest: More     28\n",
              "4     bomber detonated bomb     28\n",
              "5        PKK suicide bomber     28\n",
              "6              - Full reÛ_     27\n",
              "7           old PKK suicide     27\n",
              "8              16yr old PKK     27\n",
              "9   affected fatal outbreak     26"
            ]
          },
          "metadata": {
            "tags": []
          },
          "execution_count": 24
        }
      ]
    },
    {
      "cell_type": "code",
      "metadata": {
        "id": "cuzm8IBBhOf2",
        "colab_type": "code",
        "outputId": "3166ee0c-4b47-4e35-fd60-c00db43e45be",
        "colab": {
          "base_uri": "https://localhost:8080/",
          "height": 918
        }
      },
      "source": [
        "fig = plt.figure(figsize = (15, 10))\n",
        "chart = sns.barplot(x = trigram_df['Trigrams'].head(20), y = trigram_df['count'].head(20))\n",
        "chart.set_xticklabels(chart.get_xticklabels(), rotation = 45)"
      ],
      "execution_count": 25,
      "outputs": [
        {
          "output_type": "execute_result",
          "data": {
            "text/plain": [
              "[Text(0, 0, 'I liked @YouTube'),\n",
              " Text(0, 0, 'liked @YouTube video'),\n",
              " Text(0, 0, 'suicide bomber detonated'),\n",
              " Text(0, 0, 'The Latest: More'),\n",
              " Text(0, 0, 'bomber detonated bomb'),\n",
              " Text(0, 0, 'PKK suicide bomber'),\n",
              " Text(0, 0, '- Full re\\x89Û_'),\n",
              " Text(0, 0, 'old PKK suicide'),\n",
              " Text(0, 0, '16yr old PKK'),\n",
              " Text(0, 0, 'affected fatal outbreak'),\n",
              " Text(0, 0, 'families affected fatal'),\n",
              " Text(0, 0, '40 families affected'),\n",
              " Text(0, 0, 'More 40 families'),\n",
              " Text(0, 0, '- Full read'),\n",
              " Text(0, 0, 'sue Legionnaires: More'),\n",
              " Text(0, 0, 'Legionnaires: More 40'),\n",
              " Text(0, 0, 'Families sue Legionnaires:'),\n",
              " Text(0, 0, 'In Under A'),\n",
              " Text(0, 0, 'Sandstorm In Under'),\n",
              " Text(0, 0, 'Up By A')]"
            ]
          },
          "metadata": {
            "tags": []
          },
          "execution_count": 25
        },
        {
          "output_type": "stream",
          "text": [
            "/usr/local/lib/python3.6/dist-packages/matplotlib/backends/backend_agg.py:214: RuntimeWarning: Glyph 137 missing from current font.\n",
            "  font.set_text(s, 0.0, flags=flags)\n",
            "/usr/local/lib/python3.6/dist-packages/matplotlib/backends/backend_agg.py:183: RuntimeWarning: Glyph 137 missing from current font.\n",
            "  font.set_text(s, 0, flags=flags)\n"
          ],
          "name": "stderr"
        },
        {
          "output_type": "display_data",
          "data": {
            "image/png": "[encoded data removed]",
            "text/plain": [
              "<Figure size 1080x720 with 1 Axes>"
            ]
          },
          "metadata": {
            "tags": [],
            "needs_background": "light"
          }
        }
      ]
    },
    {
      "cell_type": "markdown",
      "metadata": {
        "id": "6hZvRABAf4G8",
        "colab_type": "text"
      },
      "source": [
        "N-Gram Analyses for Real Disaster Tweets (target = 1)"
      ]
    },
    {
      "cell_type": "code",
      "metadata": {
        "id": "OQAqGKDxeVXc",
        "colab_type": "code",
        "outputId": "3764ef91-145d-4318-ec23-2d83af886a77",
        "colab": {
          "base_uri": "https://localhost:8080/",
          "height": 271
        }
      },
      "source": [
        "real_df = df[df['target'] == 1]\n",
        "real_tweets = real_df['text'].values.tolist()\n",
        "real_df.head()"
      ],
      "execution_count": 26,
      "outputs": [
        {
          "output_type": "execute_result",
          "data": {
            "text/html": [
              "<div>\n",
              "<style scoped>\n",
              "    .dataframe tbody tr th:only-of-type {\n",
              "        vertical-align: middle;\n",
              "    }\n",
              "\n",
              "    .dataframe tbody tr th {\n",
              "        vertical-align: top;\n",
              "    }\n",
              "\n",
              "    .dataframe thead th {\n",
              "        text-align: right;\n",
              "    }\n",
              "</style>\n",
              "<table border=\"1\" class=\"dataframe\">\n",
              "  <thead>\n",
              "    <tr style=\"text-align: right;\">\n",
              "      <th></th>\n",
              "      <th>keyword</th>\n",
              "      <th>location</th>\n",
              "      <th>text</th>\n",
              "      <th>target</th>\n",
              "    </tr>\n",
              "  </thead>\n",
              "  <tbody>\n",
              "    <tr>\n",
              "      <th>0</th>\n",
              "      <td>NaN</td>\n",
              "      <td>NaN</td>\n",
              "      <td>Our Deeds are the Reason of this #earthquake May ALLAH Forgive us all</td>\n",
              "      <td>1</td>\n",
              "    </tr>\n",
              "    <tr>\n",
              "      <th>1</th>\n",
              "      <td>NaN</td>\n",
              "      <td>NaN</td>\n",
              "      <td>Forest fire near La Ronge Sask. Canada</td>\n",
              "      <td>1</td>\n",
              "    </tr>\n",
              "    <tr>\n",
              "      <th>2</th>\n",
              "      <td>NaN</td>\n",
              "      <td>NaN</td>\n",
              "      <td>All residents asked to 'shelter in place' are being notified by officers. No other evacuation or...</td>\n",
              "      <td>1</td>\n",
              "    </tr>\n",
              "    <tr>\n",
              "      <th>3</th>\n",
              "      <td>NaN</td>\n",
              "      <td>NaN</td>\n",
              "      <td>13,000 people receive #wildfires evacuation orders in California</td>\n",
              "      <td>1</td>\n",
              "    </tr>\n",
              "    <tr>\n",
              "      <th>4</th>\n",
              "      <td>NaN</td>\n",
              "      <td>NaN</td>\n",
              "      <td>Just got sent this photo from Ruby #Alaska as smoke from #wildfires pours into a school</td>\n",
              "      <td>1</td>\n",
              "    </tr>\n",
              "  </tbody>\n",
              "</table>\n",
              "</div>"
            ],
            "text/plain": [
              "  keyword location  \\\n",
              "0     NaN      NaN   \n",
              "1     NaN      NaN   \n",
              "2     NaN      NaN   \n",
              "3     NaN      NaN   \n",
              "4     NaN      NaN   \n",
              "\n",
              "                                                                                                  text  \\\n",
              "0                                Our Deeds are the Reason of this #earthquake May ALLAH Forgive us all   \n",
              "1                                                               Forest fire near La Ronge Sask. Canada   \n",
              "2  All residents asked to 'shelter in place' are being notified by officers. No other evacuation or...   \n",
              "3                                    13,000 people receive #wildfires evacuation orders in California    \n",
              "4             Just got sent this photo from Ruby #Alaska as smoke from #wildfires pours into a school    \n",
              "\n",
              "   target  \n",
              "0       1  \n",
              "1       1  \n",
              "2       1  \n",
              "3       1  \n",
              "4       1  "
            ]
          },
          "metadata": {
            "tags": []
          },
          "execution_count": 26
        }
      ]
    },
    {
      "cell_type": "markdown",
      "metadata": {
        "id": "RY0JY2nrgSxn",
        "colab_type": "text"
      },
      "source": [
        "**Bigram Analysis**"
      ]
    },
    {
      "cell_type": "code",
      "metadata": {
        "id": "aioFwJqjgxP5",
        "colab_type": "code",
        "outputId": "4d8afe02-70b1-44b8-f05e-8058252d5f55",
        "colab": {
          "base_uri": "https://localhost:8080/",
          "height": 355
        }
      },
      "source": [
        "n = 2\n",
        "real_bigram_df = generate_ngram_df(n, real_tweets)\n",
        "real_bigram_df.sort_values(by = 'count', ascending = False, inplace = True, ignore_index = True)\n",
        "real_bigram_df.head(10)"
      ],
      "execution_count": 27,
      "outputs": [
        {
          "output_type": "execute_result",
          "data": {
            "text/html": [
              "<div>\n",
              "<style scoped>\n",
              "    .dataframe tbody tr th:only-of-type {\n",
              "        vertical-align: middle;\n",
              "    }\n",
              "\n",
              "    .dataframe tbody tr th {\n",
              "        vertical-align: top;\n",
              "    }\n",
              "\n",
              "    .dataframe thead th {\n",
              "        text-align: right;\n",
              "    }\n",
              "</style>\n",
              "<table border=\"1\" class=\"dataframe\">\n",
              "  <thead>\n",
              "    <tr style=\"text-align: right;\">\n",
              "      <th></th>\n",
              "      <th>Bigrams</th>\n",
              "      <th>count</th>\n",
              "    </tr>\n",
              "  </thead>\n",
              "  <tbody>\n",
              "    <tr>\n",
              "      <th>0</th>\n",
              "      <td>suicide bomber</td>\n",
              "      <td>37</td>\n",
              "    </tr>\n",
              "    <tr>\n",
              "      <th>1</th>\n",
              "      <td>Northern California</td>\n",
              "      <td>36</td>\n",
              "    </tr>\n",
              "    <tr>\n",
              "      <th>2</th>\n",
              "      <td>The Latest:</td>\n",
              "      <td>30</td>\n",
              "    </tr>\n",
              "    <tr>\n",
              "      <th>3</th>\n",
              "      <td>bomber detonated</td>\n",
              "      <td>30</td>\n",
              "    </tr>\n",
              "    <tr>\n",
              "      <th>4</th>\n",
              "      <td>Latest: More</td>\n",
              "      <td>28</td>\n",
              "    </tr>\n",
              "    <tr>\n",
              "      <th>5</th>\n",
              "      <td>detonated bomb</td>\n",
              "      <td>28</td>\n",
              "    </tr>\n",
              "    <tr>\n",
              "      <th>6</th>\n",
              "      <td>PKK suicide</td>\n",
              "      <td>28</td>\n",
              "    </tr>\n",
              "    <tr>\n",
              "      <th>7</th>\n",
              "      <td>oil spill</td>\n",
              "      <td>28</td>\n",
              "    </tr>\n",
              "    <tr>\n",
              "      <th>8</th>\n",
              "      <td>16yr old</td>\n",
              "      <td>28</td>\n",
              "    </tr>\n",
              "    <tr>\n",
              "      <th>9</th>\n",
              "      <td>old PKK</td>\n",
              "      <td>27</td>\n",
              "    </tr>\n",
              "  </tbody>\n",
              "</table>\n",
              "</div>"
            ],
            "text/plain": [
              "               Bigrams  count\n",
              "0       suicide bomber     37\n",
              "1  Northern California     36\n",
              "2          The Latest:     30\n",
              "3     bomber detonated     30\n",
              "4         Latest: More     28\n",
              "5       detonated bomb     28\n",
              "6          PKK suicide     28\n",
              "7            oil spill     28\n",
              "8             16yr old     28\n",
              "9              old PKK     27"
            ]
          },
          "metadata": {
            "tags": []
          },
          "execution_count": 27
        }
      ]
    },
    {
      "cell_type": "code",
      "metadata": {
        "id": "6jnBcMCKhHty",
        "colab_type": "code",
        "outputId": "315e9938-d24a-4f25-84ea-f95a6bb0627f",
        "colab": {
          "base_uri": "https://localhost:8080/",
          "height": 826
        }
      },
      "source": [
        "fig = plt.figure(figsize = (15, 10))\n",
        "chart = sns.barplot(x = real_bigram_df['Bigrams'].head(20), y = real_bigram_df['count'].head(20))\n",
        "chart.set_xticklabels(chart.get_xticklabels(), rotation = 45)"
      ],
      "execution_count": 28,
      "outputs": [
        {
          "output_type": "execute_result",
          "data": {
            "text/plain": [
              "[Text(0, 0, 'suicide bomber'),\n",
              " Text(0, 0, 'Northern California'),\n",
              " Text(0, 0, 'The Latest:'),\n",
              " Text(0, 0, 'bomber detonated'),\n",
              " Text(0, 0, 'Latest: More'),\n",
              " Text(0, 0, 'detonated bomb'),\n",
              " Text(0, 0, 'PKK suicide'),\n",
              " Text(0, 0, 'oil spill'),\n",
              " Text(0, 0, '16yr old'),\n",
              " Text(0, 0, 'old PKK'),\n",
              " Text(0, 0, 'Families sue'),\n",
              " Text(0, 0, 'affected fatal'),\n",
              " Text(0, 0, 'families affected'),\n",
              " Text(0, 0, '40 families'),\n",
              " Text(0, 0, 'More 40'),\n",
              " Text(0, 0, 'fatal outbreak'),\n",
              " Text(0, 0, 'suicide bombing'),\n",
              " Text(0, 0, 'sue Legionnaires:'),\n",
              " Text(0, 0, 'Legionnaires: More'),\n",
              " Text(0, 0, 'Watch This')]"
            ]
          },
          "metadata": {
            "tags": []
          },
          "execution_count": 28
        },
        {
          "output_type": "display_data",
          "data": {
            "image/png": "[encoded data removed]",
            "text/plain": [
              "<Figure size 1080x720 with 1 Axes>"
            ]
          },
          "metadata": {
            "tags": [],
            "needs_background": "light"
          }
        }
      ]
    },
    {
      "cell_type": "markdown",
      "metadata": {
        "id": "d86ha2c5htgt",
        "colab_type": "text"
      },
      "source": [
        "**Trigram Analysis** "
      ]
    },
    {
      "cell_type": "code",
      "metadata": {
        "id": "G1jaAv-Ehiqv",
        "colab_type": "code",
        "outputId": "108bddc1-6b49-4407-e7c4-5625238c50af",
        "colab": {
          "base_uri": "https://localhost:8080/",
          "height": 355
        }
      },
      "source": [
        "n = 3\n",
        "real_trigram_df = generate_ngram_df(n, real_tweets)\n",
        "real_trigram_df.sort_values(by = 'count', ascending = False, inplace = True, ignore_index = True)\n",
        "real_trigram_df.head(10)"
      ],
      "execution_count": 29,
      "outputs": [
        {
          "output_type": "execute_result",
          "data": {
            "text/html": [
              "<div>\n",
              "<style scoped>\n",
              "    .dataframe tbody tr th:only-of-type {\n",
              "        vertical-align: middle;\n",
              "    }\n",
              "\n",
              "    .dataframe tbody tr th {\n",
              "        vertical-align: top;\n",
              "    }\n",
              "\n",
              "    .dataframe thead th {\n",
              "        text-align: right;\n",
              "    }\n",
              "</style>\n",
              "<table border=\"1\" class=\"dataframe\">\n",
              "  <thead>\n",
              "    <tr style=\"text-align: right;\">\n",
              "      <th></th>\n",
              "      <th>Trigrams</th>\n",
              "      <th>count</th>\n",
              "    </tr>\n",
              "  </thead>\n",
              "  <tbody>\n",
              "    <tr>\n",
              "      <th>0</th>\n",
              "      <td>suicide bomber detonated</td>\n",
              "      <td>30</td>\n",
              "    </tr>\n",
              "    <tr>\n",
              "      <th>1</th>\n",
              "      <td>The Latest: More</td>\n",
              "      <td>28</td>\n",
              "    </tr>\n",
              "    <tr>\n",
              "      <th>2</th>\n",
              "      <td>PKK suicide bomber</td>\n",
              "      <td>28</td>\n",
              "    </tr>\n",
              "    <tr>\n",
              "      <th>3</th>\n",
              "      <td>bomber detonated bomb</td>\n",
              "      <td>28</td>\n",
              "    </tr>\n",
              "    <tr>\n",
              "      <th>4</th>\n",
              "      <td>16yr old PKK</td>\n",
              "      <td>27</td>\n",
              "    </tr>\n",
              "    <tr>\n",
              "      <th>5</th>\n",
              "      <td>old PKK suicide</td>\n",
              "      <td>27</td>\n",
              "    </tr>\n",
              "    <tr>\n",
              "      <th>6</th>\n",
              "      <td>affected fatal outbreak</td>\n",
              "      <td>26</td>\n",
              "    </tr>\n",
              "    <tr>\n",
              "      <th>7</th>\n",
              "      <td>More 40 families</td>\n",
              "      <td>26</td>\n",
              "    </tr>\n",
              "    <tr>\n",
              "      <th>8</th>\n",
              "      <td>40 families affected</td>\n",
              "      <td>26</td>\n",
              "    </tr>\n",
              "    <tr>\n",
              "      <th>9</th>\n",
              "      <td>families affected fatal</td>\n",
              "      <td>26</td>\n",
              "    </tr>\n",
              "  </tbody>\n",
              "</table>\n",
              "</div>"
            ],
            "text/plain": [
              "                   Trigrams  count\n",
              "0  suicide bomber detonated     30\n",
              "1          The Latest: More     28\n",
              "2        PKK suicide bomber     28\n",
              "3     bomber detonated bomb     28\n",
              "4              16yr old PKK     27\n",
              "5           old PKK suicide     27\n",
              "6   affected fatal outbreak     26\n",
              "7          More 40 families     26\n",
              "8      40 families affected     26\n",
              "9   families affected fatal     26"
            ]
          },
          "metadata": {
            "tags": []
          },
          "execution_count": 29
        }
      ]
    },
    {
      "cell_type": "code",
      "metadata": {
        "id": "pyUStKsqh-fX",
        "colab_type": "code",
        "outputId": "67492699-5b0e-47b6-a578-755f5824f62e",
        "colab": {
          "base_uri": "https://localhost:8080/",
          "height": 838
        }
      },
      "source": [
        "fig = plt.figure(figsize = (15, 10))\n",
        "chart = sns.barplot(x = real_trigram_df['Trigrams'].head(20), y = real_trigram_df['count'].head(20))\n",
        "chart.set_xticklabels(chart.get_xticklabels(), rotation = 45)"
      ],
      "execution_count": 30,
      "outputs": [
        {
          "output_type": "execute_result",
          "data": {
            "text/plain": [
              "[Text(0, 0, 'suicide bomber detonated'),\n",
              " Text(0, 0, 'The Latest: More'),\n",
              " Text(0, 0, 'PKK suicide bomber'),\n",
              " Text(0, 0, 'bomber detonated bomb'),\n",
              " Text(0, 0, '16yr old PKK'),\n",
              " Text(0, 0, 'old PKK suicide'),\n",
              " Text(0, 0, 'affected fatal outbreak'),\n",
              " Text(0, 0, 'More 40 families'),\n",
              " Text(0, 0, '40 families affected'),\n",
              " Text(0, 0, 'families affected fatal'),\n",
              " Text(0, 0, 'Families sue Legionnaires:'),\n",
              " Text(0, 0, 'sue Legionnaires: More'),\n",
              " Text(0, 0, 'Legionnaires: More 40'),\n",
              " Text(0, 0, 'Get Swallowed Up'),\n",
              " Text(0, 0, 'Sandstorm In Under'),\n",
              " Text(0, 0, 'Airport Get Swallowed'),\n",
              " Text(0, 0, 'A Sandstorm In'),\n",
              " Text(0, 0, 'By A Sandstorm'),\n",
              " Text(0, 0, 'Under A Minute'),\n",
              " Text(0, 0, 'Watch This Airport')]"
            ]
          },
          "metadata": {
            "tags": []
          },
          "execution_count": 30
        },
        {
          "output_type": "display_data",
          "data": {
            "image/png": "[encoded data removed]",
            "text/plain": [
              "<Figure size 1080x720 with 1 Axes>"
            ]
          },
          "metadata": {
            "tags": [],
            "needs_background": "light"
          }
        }
      ]
    },
    {
      "cell_type": "markdown",
      "metadata": {
        "id": "LVqwhbmfi4rw",
        "colab_type": "text"
      },
      "source": [
        "N-Gram Analyses for Fake Disaster Tweets (target = 0)"
      ]
    },
    {
      "cell_type": "code",
      "metadata": {
        "id": "xWvBzlrQiLtj",
        "colab_type": "code",
        "outputId": "540f57ad-c5ef-4edc-de15-0379e4a164ad",
        "colab": {
          "base_uri": "https://localhost:8080/",
          "height": 202
        }
      },
      "source": [
        "fake_df = df[df['target'] == 0]\n",
        "fake_tweets = fake_df['text'].values.tolist()\n",
        "fake_df.head()"
      ],
      "execution_count": 31,
      "outputs": [
        {
          "output_type": "execute_result",
          "data": {
            "text/html": [
              "<div>\n",
              "<style scoped>\n",
              "    .dataframe tbody tr th:only-of-type {\n",
              "        vertical-align: middle;\n",
              "    }\n",
              "\n",
              "    .dataframe tbody tr th {\n",
              "        vertical-align: top;\n",
              "    }\n",
              "\n",
              "    .dataframe thead th {\n",
              "        text-align: right;\n",
              "    }\n",
              "</style>\n",
              "<table border=\"1\" class=\"dataframe\">\n",
              "  <thead>\n",
              "    <tr style=\"text-align: right;\">\n",
              "      <th></th>\n",
              "      <th>keyword</th>\n",
              "      <th>location</th>\n",
              "      <th>text</th>\n",
              "      <th>target</th>\n",
              "    </tr>\n",
              "  </thead>\n",
              "  <tbody>\n",
              "    <tr>\n",
              "      <th>15</th>\n",
              "      <td>NaN</td>\n",
              "      <td>NaN</td>\n",
              "      <td>What's up man?</td>\n",
              "      <td>0</td>\n",
              "    </tr>\n",
              "    <tr>\n",
              "      <th>16</th>\n",
              "      <td>NaN</td>\n",
              "      <td>NaN</td>\n",
              "      <td>I love fruits</td>\n",
              "      <td>0</td>\n",
              "    </tr>\n",
              "    <tr>\n",
              "      <th>17</th>\n",
              "      <td>NaN</td>\n",
              "      <td>NaN</td>\n",
              "      <td>Summer is lovely</td>\n",
              "      <td>0</td>\n",
              "    </tr>\n",
              "    <tr>\n",
              "      <th>18</th>\n",
              "      <td>NaN</td>\n",
              "      <td>NaN</td>\n",
              "      <td>My car is so fast</td>\n",
              "      <td>0</td>\n",
              "    </tr>\n",
              "    <tr>\n",
              "      <th>19</th>\n",
              "      <td>NaN</td>\n",
              "      <td>NaN</td>\n",
              "      <td>What a goooooooaaaaaal!!!!!!</td>\n",
              "      <td>0</td>\n",
              "    </tr>\n",
              "  </tbody>\n",
              "</table>\n",
              "</div>"
            ],
            "text/plain": [
              "   keyword location                          text  target\n",
              "15     NaN      NaN                What's up man?       0\n",
              "16     NaN      NaN                 I love fruits       0\n",
              "17     NaN      NaN              Summer is lovely       0\n",
              "18     NaN      NaN             My car is so fast       0\n",
              "19     NaN      NaN  What a goooooooaaaaaal!!!!!!       0"
            ]
          },
          "metadata": {
            "tags": []
          },
          "execution_count": 31
        }
      ]
    },
    {
      "cell_type": "markdown",
      "metadata": {
        "id": "6eYBWE9Hj60G",
        "colab_type": "text"
      },
      "source": [
        "**Bigram Analysis**"
      ]
    },
    {
      "cell_type": "code",
      "metadata": {
        "id": "Sl5ZwOB8jyVh",
        "colab_type": "code",
        "outputId": "6e1e8c4f-ebe6-4850-a0ad-a66df122949b",
        "colab": {
          "base_uri": "https://localhost:8080/",
          "height": 355
        }
      },
      "source": [
        "n = 2\n",
        "fake_bigram_df = generate_ngram_df(n, fake_tweets)\n",
        "fake_bigram_df.sort_values(by = 'count', ascending = False, inplace = True, ignore_index = True)\n",
        "fake_bigram_df.head(10)"
      ],
      "execution_count": 32,
      "outputs": [
        {
          "output_type": "execute_result",
          "data": {
            "text/html": [
              "<div>\n",
              "<style scoped>\n",
              "    .dataframe tbody tr th:only-of-type {\n",
              "        vertical-align: middle;\n",
              "    }\n",
              "\n",
              "    .dataframe tbody tr th {\n",
              "        vertical-align: top;\n",
              "    }\n",
              "\n",
              "    .dataframe thead th {\n",
              "        text-align: right;\n",
              "    }\n",
              "</style>\n",
              "<table border=\"1\" class=\"dataframe\">\n",
              "  <thead>\n",
              "    <tr style=\"text-align: right;\">\n",
              "      <th></th>\n",
              "      <th>Bigrams</th>\n",
              "      <th>count</th>\n",
              "    </tr>\n",
              "  </thead>\n",
              "  <tbody>\n",
              "    <tr>\n",
              "      <th>0</th>\n",
              "      <td>- Full</td>\n",
              "      <td>60</td>\n",
              "    </tr>\n",
              "    <tr>\n",
              "      <th>1</th>\n",
              "      <td>I liked</td>\n",
              "      <td>35</td>\n",
              "    </tr>\n",
              "    <tr>\n",
              "      <th>2</th>\n",
              "      <td>@YouTube video</td>\n",
              "      <td>34</td>\n",
              "    </tr>\n",
              "    <tr>\n",
              "      <th>3</th>\n",
              "      <td>liked @YouTube</td>\n",
              "      <td>34</td>\n",
              "    </tr>\n",
              "    <tr>\n",
              "      <th>4</th>\n",
              "      <td>Cross Body</td>\n",
              "      <td>31</td>\n",
              "    </tr>\n",
              "    <tr>\n",
              "      <th>5</th>\n",
              "      <td>I feel</td>\n",
              "      <td>25</td>\n",
              "    </tr>\n",
              "    <tr>\n",
              "      <th>6</th>\n",
              "      <td>I think</td>\n",
              "      <td>25</td>\n",
              "    </tr>\n",
              "    <tr>\n",
              "      <th>7</th>\n",
              "      <td>Full reÛ_</td>\n",
              "      <td>25</td>\n",
              "    </tr>\n",
              "    <tr>\n",
              "      <th>8</th>\n",
              "      <td>Full read</td>\n",
              "      <td>22</td>\n",
              "    </tr>\n",
              "    <tr>\n",
              "      <th>9</th>\n",
              "      <td>I can't</td>\n",
              "      <td>22</td>\n",
              "    </tr>\n",
              "  </tbody>\n",
              "</table>\n",
              "</div>"
            ],
            "text/plain": [
              "          Bigrams  count\n",
              "0          - Full     60\n",
              "1         I liked     35\n",
              "2  @YouTube video     34\n",
              "3  liked @YouTube     34\n",
              "4      Cross Body     31\n",
              "5          I feel     25\n",
              "6         I think     25\n",
              "7      Full reÛ_     25\n",
              "8       Full read     22\n",
              "9         I can't     22"
            ]
          },
          "metadata": {
            "tags": []
          },
          "execution_count": 32
        }
      ]
    },
    {
      "cell_type": "code",
      "metadata": {
        "id": "Mlxk8ofMkz1Q",
        "colab_type": "code",
        "outputId": "29aa4024-ebc0-447f-d4ca-7cc9c3a7f2cb",
        "colab": {
          "base_uri": "https://localhost:8080/",
          "height": 892
        }
      },
      "source": [
        "fig = plt.figure(figsize = (15, 10))\n",
        "chart = sns.barplot(x = fake_bigram_df['Bigrams'].head(20), y = fake_bigram_df['count'].head(20))\n",
        "chart.set_xticklabels(chart.get_xticklabels(), rotation = 45)"
      ],
      "execution_count": 33,
      "outputs": [
        {
          "output_type": "execute_result",
          "data": {
            "text/plain": [
              "[Text(0, 0, '- Full'),\n",
              " Text(0, 0, 'I liked'),\n",
              " Text(0, 0, '@YouTube video'),\n",
              " Text(0, 0, 'liked @YouTube'),\n",
              " Text(0, 0, 'Cross Body'),\n",
              " Text(0, 0, 'I feel'),\n",
              " Text(0, 0, 'I think'),\n",
              " Text(0, 0, 'Full re\\x89Û_'),\n",
              " Text(0, 0, 'Full read'),\n",
              " Text(0, 0, \"I can't\"),\n",
              " Text(0, 0, 'I get'),\n",
              " Text(0, 0, 'content policy'),\n",
              " Text(0, 0, '.: .:'),\n",
              " Text(0, 0, 'I want'),\n",
              " Text(0, 0, 'I know'),\n",
              " Text(0, 0, 'feel like'),\n",
              " Text(0, 0, 'Will Now'),\n",
              " Text(0, 0, 'Now Quarantine'),\n",
              " Text(0, 0, 'I love'),\n",
              " Text(0, 0, 'Fan Army')]"
            ]
          },
          "metadata": {
            "tags": []
          },
          "execution_count": 33
        },
        {
          "output_type": "stream",
          "text": [
            "/usr/local/lib/python3.6/dist-packages/matplotlib/backends/backend_agg.py:214: RuntimeWarning: Glyph 137 missing from current font.\n",
            "  font.set_text(s, 0.0, flags=flags)\n",
            "/usr/local/lib/python3.6/dist-packages/matplotlib/backends/backend_agg.py:183: RuntimeWarning: Glyph 137 missing from current font.\n",
            "  font.set_text(s, 0, flags=flags)\n"
          ],
          "name": "stderr"
        },
        {
          "output_type": "display_data",
          "data": {
            "image/png": "[encoded data removed]",
            "text/plain": [
              "<Figure size 1080x720 with 1 Axes>"
            ]
          },
          "metadata": {
            "tags": [],
            "needs_background": "light"
          }
        }
      ]
    },
    {
      "cell_type": "markdown",
      "metadata": {
        "id": "hiMU72gZk_Zm",
        "colab_type": "text"
      },
      "source": [
        "**Trigram Analysis**"
      ]
    },
    {
      "cell_type": "code",
      "metadata": {
        "id": "fS9Hykdtk-jy",
        "colab_type": "code",
        "outputId": "65455b22-32b3-47f9-99ec-ba61a67fb1b9",
        "colab": {
          "base_uri": "https://localhost:8080/",
          "height": 355
        }
      },
      "source": [
        "n = 3\n",
        "fake_trigram_df = generate_ngram_df(n, fake_tweets)\n",
        "fake_trigram_df.sort_values(by = 'count', ascending = False, inplace = True, ignore_index = True)\n",
        "fake_trigram_df.head(10)"
      ],
      "execution_count": 34,
      "outputs": [
        {
          "output_type": "execute_result",
          "data": {
            "text/html": [
              "<div>\n",
              "<style scoped>\n",
              "    .dataframe tbody tr th:only-of-type {\n",
              "        vertical-align: middle;\n",
              "    }\n",
              "\n",
              "    .dataframe tbody tr th {\n",
              "        vertical-align: top;\n",
              "    }\n",
              "\n",
              "    .dataframe thead th {\n",
              "        text-align: right;\n",
              "    }\n",
              "</style>\n",
              "<table border=\"1\" class=\"dataframe\">\n",
              "  <thead>\n",
              "    <tr style=\"text-align: right;\">\n",
              "      <th></th>\n",
              "      <th>Trigrams</th>\n",
              "      <th>count</th>\n",
              "    </tr>\n",
              "  </thead>\n",
              "  <tbody>\n",
              "    <tr>\n",
              "      <th>0</th>\n",
              "      <td>I liked @YouTube</td>\n",
              "      <td>34</td>\n",
              "    </tr>\n",
              "    <tr>\n",
              "      <th>1</th>\n",
              "      <td>liked @YouTube video</td>\n",
              "      <td>34</td>\n",
              "    </tr>\n",
              "    <tr>\n",
              "      <th>2</th>\n",
              "      <td>- Full reÛ_</td>\n",
              "      <td>25</td>\n",
              "    </tr>\n",
              "    <tr>\n",
              "      <th>3</th>\n",
              "      <td>- Full read</td>\n",
              "      <td>22</td>\n",
              "    </tr>\n",
              "    <tr>\n",
              "      <th>4</th>\n",
              "      <td>.: .: .:</td>\n",
              "      <td>19</td>\n",
              "    </tr>\n",
              "    <tr>\n",
              "      <th>5</th>\n",
              "      <td>Will Now Quarantine</td>\n",
              "      <td>18</td>\n",
              "    </tr>\n",
              "    <tr>\n",
              "      <th>6</th>\n",
              "      <td>Reddit Will Now</td>\n",
              "      <td>16</td>\n",
              "    </tr>\n",
              "    <tr>\n",
              "      <th>7</th>\n",
              "      <td>new content policy</td>\n",
              "      <td>16</td>\n",
              "    </tr>\n",
              "    <tr>\n",
              "      <th>8</th>\n",
              "      <td>Reddit's new content</td>\n",
              "      <td>16</td>\n",
              "    </tr>\n",
              "    <tr>\n",
              "      <th>9</th>\n",
              "      <td>Now Quarantine Offensive</td>\n",
              "      <td>15</td>\n",
              "    </tr>\n",
              "  </tbody>\n",
              "</table>\n",
              "</div>"
            ],
            "text/plain": [
              "                   Trigrams  count\n",
              "0          I liked @YouTube     34\n",
              "1      liked @YouTube video     34\n",
              "2              - Full reÛ_     25\n",
              "3               - Full read     22\n",
              "4                  .: .: .:     19\n",
              "5       Will Now Quarantine     18\n",
              "6           Reddit Will Now     16\n",
              "7        new content policy     16\n",
              "8      Reddit's new content     16\n",
              "9  Now Quarantine Offensive     15"
            ]
          },
          "metadata": {
            "tags": []
          },
          "execution_count": 34
        }
      ]
    },
    {
      "cell_type": "code",
      "metadata": {
        "id": "fYYnBDOhlOSI",
        "colab_type": "code",
        "outputId": "a24c608a-fb99-41c3-939c-8afdd2531ed8",
        "colab": {
          "base_uri": "https://localhost:8080/",
          "height": 925
        }
      },
      "source": [
        "fig = plt.figure(figsize = (15, 10))\n",
        "chart = sns.barplot(x = fake_trigram_df['Trigrams'].head(20), y = fake_trigram_df['count'].head(20))\n",
        "chart.set_xticklabels(chart.get_xticklabels(), rotation = 45)"
      ],
      "execution_count": 35,
      "outputs": [
        {
          "output_type": "execute_result",
          "data": {
            "text/plain": [
              "[Text(0, 0, 'I liked @YouTube'),\n",
              " Text(0, 0, 'liked @YouTube video'),\n",
              " Text(0, 0, '- Full re\\x89Û_'),\n",
              " Text(0, 0, '- Full read'),\n",
              " Text(0, 0, '.: .: .:'),\n",
              " Text(0, 0, 'Will Now Quarantine'),\n",
              " Text(0, 0, 'Reddit Will Now'),\n",
              " Text(0, 0, 'new content policy'),\n",
              " Text(0, 0, \"Reddit's new content\"),\n",
              " Text(0, 0, 'Now Quarantine Offensive'),\n",
              " Text(0, 0, 'Full read eBay'),\n",
              " Text(0, 0, 'subreddits banned quarantined'),\n",
              " Text(0, 0, 'horrible subreddits banned'),\n",
              " Text(0, 0, 'Ignition Knock (Detonation)'),\n",
              " Text(0, 0, 'policy goes effect'),\n",
              " Text(0, 0, 'many horrible subreddits'),\n",
              " Text(0, 0, 'effect many horrible'),\n",
              " Text(0, 0, 'goes effect many'),\n",
              " Text(0, 0, 'content policy goes'),\n",
              " Text(0, 0, 'Cross Body Bag')]"
            ]
          },
          "metadata": {
            "tags": []
          },
          "execution_count": 35
        },
        {
          "output_type": "stream",
          "text": [
            "/usr/local/lib/python3.6/dist-packages/matplotlib/backends/backend_agg.py:214: RuntimeWarning: Glyph 137 missing from current font.\n",
            "  font.set_text(s, 0.0, flags=flags)\n",
            "/usr/local/lib/python3.6/dist-packages/matplotlib/backends/backend_agg.py:183: RuntimeWarning: Glyph 137 missing from current font.\n",
            "  font.set_text(s, 0, flags=flags)\n"
          ],
          "name": "stderr"
        },
        {
          "output_type": "display_data",
          "data": {
            "image/png": "[encoded data removed]",
            "text/plain": [
              "<Figure size 1080x720 with 1 Axes>"
            ]
          },
          "metadata": {
            "tags": [],
            "needs_background": "light"
          }
        }
      ]
    },
    {
      "cell_type": "markdown",
      "metadata": {
        "id": "B6G37QQ2qNPn",
        "colab_type": "text"
      },
      "source": [
        "### Feature Engineering"
      ]
    },
    {
      "cell_type": "markdown",
      "metadata": {
        "id": "SfWucNgnphip",
        "colab_type": "text"
      },
      "source": [
        "#### Phase 1: Feature Engineering to generate Count Based and Demographical Features"
      ]
    },
    {
      "cell_type": "markdown",
      "metadata": {
        "id": "Hu6-ezvUqeWt",
        "colab_type": "text"
      },
      "source": [
        "In this method, we perform Feature Engineering on the questions. Some of the methods used for the same are :\n",
        "1. Finding Length (number of characters including whitespaces) for each tweet.\n",
        "2. Number of Capital Letters.\n",
        "3. Ratio of the Number of Capital Letters to the Length of the tweet.\n",
        "4. Number of Question (?) Marks\n",
        "4. Number of Exclamation (!) Marks\n",
        "5. Number of Other Punctuation marks\n",
        "6. Number of Symbols\n",
        "7. Number of Words\n",
        "8. Number of Unique Words\n",
        "9. Total Number of Words vs the Number of Unique Words\n",
        "10. Mean Length of words per question. \n",
        "\n",
        "Other Unorthodox Methods :\n",
        "1. Counting the Number of Smilies (for eg. ':-)')\n",
        "2. Counting the Number of Sad Faces (for eg. ':-<')\n",
        "3. Checking if a word in a title is a title or not.\n",
        "4. Counting number of hashtags (#)\n",
        "5. Counting number of mentions (@)"
      ]
    },
    {
      "cell_type": "code",
      "metadata": {
        "id": "u2rXXKgMlXhG",
        "colab_type": "code",
        "outputId": "ebbbe105-e926-4628-b012-eda1d676a5a0",
        "colab": {
          "base_uri": "https://localhost:8080/",
          "height": 35
        }
      },
      "source": [
        "# copy data to another dataframe\n",
        "train_df = df.copy()\n",
        "\n",
        "# drop 'keyword' and 'location' columns\n",
        "train_df.drop(['location', 'keyword'], axis = 1, inplace = True)\n",
        "\n",
        "# extract 'target' column separately from training data\n",
        "y = train_df.drop(['text'], axis = 1).values.tolist()\n",
        "y = np.array(sum(y, []))\n",
        "\n",
        "y[:10]"
      ],
      "execution_count": 36,
      "outputs": [
        {
          "output_type": "execute_result",
          "data": {
            "text/plain": [
              "array([1, 1, 1, 1, 1, 1, 1, 1, 1, 1])"
            ]
          },
          "metadata": {
            "tags": []
          },
          "execution_count": 36
        }
      ]
    },
    {
      "cell_type": "markdown",
      "metadata": {
        "id": "7tPFv4kVOFRr",
        "colab_type": "text"
      },
      "source": [
        "**Note : Pandas passes DataFrame to function via Call by Reference instead of Call By Value so, we must perform feature generation directly without using function**"
      ]
    },
    {
      "cell_type": "code",
      "metadata": {
        "id": "EH_VWqdy3tRv",
        "colab_type": "code",
        "colab": {}
      },
      "source": [
        "# Generate demographic and count based features\n",
        "\n",
        "# Finding Length of each tweet\n",
        "train_df['length'] = train_df['text'].apply(lambda x: len(x))\n",
        "\n",
        "# Analyzing Capital Letters in each tweet\n",
        "train_df['capitals'] = train_df['text'].apply(lambda tweet: sum(1 for c in tweet if c.isupper()))\n",
        "train_df['caps_vs_length'] = train_df['capitals'] / train_df['length']\n",
        "\n",
        "# Exploring number of words and their uniqueness in each tweet as well as mean length of all words in a tweet\n",
        "train_df['num_words'] = train_df['text'].apply(lambda tweet: len(word_tokenize(tweet)))\n",
        "train_df['num_unique_words'] = train_df['text'].apply(lambda tweet: len(set(w for w in tweet.split())))\n",
        "train_df['words_vs_unique'] = train_df['num_unique_words'] / train_df['num_words']\n",
        "train_df[\"mean_word_len\"] = train_df[\"text\"].apply(lambda x: np.mean([len(w) for w in str(x).split()]))\n",
        "\n",
        "# Generating features from punctuation\n",
        "train_df['num_exclamation_marks'] = train_df['text'].apply(lambda tweet: tweet.count('!'))\n",
        "train_df['num_question_marks'] = train_df['text'].apply(lambda tweet: tweet.count('?'))\n",
        "train_df['num_punctuation'] = train_df['text'].apply(lambda tweet: sum(tweet.count(w) for w in '.,;:'))\n",
        "train_df['num_symbols'] = train_df['text'].apply(lambda tweet: sum(tweet.count(w) for w in '*&$%'))\n",
        "train_df['punct_percent']= train_df['num_punctuation'] * 100 / train_df['num_words']\n",
        "\n",
        "# Checking the presence of emojis in each tweet\n",
        "train_df['num_smilies'] = train_df['text'].apply(lambda tweet: sum(tweet.count(w) for w in (':-)', ':)', ';-)', ';)')))\n",
        "train_df['num_sad'] = train_df['text'].apply(lambda tweet: sum(tweet.count(w) for w in (':-<', ':()', ';-()', ';(')))\n",
        "\n",
        "# Checking if a particular word is a title within a tweet\n",
        "train_df[\"count_words_title\"] = train_df['text'].apply(lambda x: len([w for w in str(x).split() if w.istitle()]))\n",
        "\n",
        "# Function to count the number of hashtags and mentions in each tweet\n",
        "def count_symbol(x, symbol):\n",
        "    pattern = r'{}'.format(symbol + '(\\w+)')\n",
        "    count = 0\n",
        "    for match in re.finditer(pattern, x):\n",
        "        count += 1\n",
        "    return count\n",
        "\n",
        "# Count the number of hashtags and mentions in each tweet\n",
        "train_df['num_hashtags'] = train_df['text'].apply(count_symbol, args = ('#',))\n",
        "train_df['num_mentions'] = train_df['text'].apply(count_symbol, args = ('@',))"
      ],
      "execution_count": 0,
      "outputs": []
    },
    {
      "cell_type": "code",
      "metadata": {
        "id": "5_XQ3h5j7FvQ",
        "colab_type": "code",
        "outputId": "73b2efd3-92cd-422d-baea-e73508b5b20a",
        "colab": {
          "base_uri": "https://localhost:8080/",
          "height": 811
        }
      },
      "source": [
        "train_df.head()"
      ],
      "execution_count": 38,
      "outputs": [
        {
          "output_type": "execute_result",
          "data": {
            "text/html": [
              "<div>\n",
              "<style scoped>\n",
              "    .dataframe tbody tr th:only-of-type {\n",
              "        vertical-align: middle;\n",
              "    }\n",
              "\n",
              "    .dataframe tbody tr th {\n",
              "        vertical-align: top;\n",
              "    }\n",
              "\n",
              "    .dataframe thead th {\n",
              "        text-align: right;\n",
              "    }\n",
              "</style>\n",
              "<table border=\"1\" class=\"dataframe\">\n",
              "  <thead>\n",
              "    <tr style=\"text-align: right;\">\n",
              "      <th></th>\n",
              "      <th>text</th>\n",
              "      <th>target</th>\n",
              "      <th>length</th>\n",
              "      <th>capitals</th>\n",
              "      <th>caps_vs_length</th>\n",
              "      <th>num_words</th>\n",
              "      <th>num_unique_words</th>\n",
              "      <th>words_vs_unique</th>\n",
              "      <th>mean_word_len</th>\n",
              "      <th>num_exclamation_marks</th>\n",
              "      <th>num_question_marks</th>\n",
              "      <th>num_punctuation</th>\n",
              "      <th>num_symbols</th>\n",
              "      <th>punct_percent</th>\n",
              "      <th>num_smilies</th>\n",
              "      <th>num_sad</th>\n",
              "      <th>count_words_title</th>\n",
              "      <th>num_hashtags</th>\n",
              "      <th>num_mentions</th>\n",
              "    </tr>\n",
              "  </thead>\n",
              "  <tbody>\n",
              "    <tr>\n",
              "      <th>0</th>\n",
              "      <td>Our Deeds are the Reason of this #earthquake May ALLAH Forgive us all</td>\n",
              "      <td>1</td>\n",
              "      <td>69</td>\n",
              "      <td>10</td>\n",
              "      <td>0.144928</td>\n",
              "      <td>14</td>\n",
              "      <td>13</td>\n",
              "      <td>0.928571</td>\n",
              "      <td>4.384615</td>\n",
              "      <td>0</td>\n",
              "      <td>0</td>\n",
              "      <td>0</td>\n",
              "      <td>0</td>\n",
              "      <td>0.000000</td>\n",
              "      <td>0</td>\n",
              "      <td>0</td>\n",
              "      <td>5</td>\n",
              "      <td>1</td>\n",
              "      <td>0</td>\n",
              "    </tr>\n",
              "    <tr>\n",
              "      <th>1</th>\n",
              "      <td>Forest fire near La Ronge Sask. Canada</td>\n",
              "      <td>1</td>\n",
              "      <td>38</td>\n",
              "      <td>5</td>\n",
              "      <td>0.131579</td>\n",
              "      <td>8</td>\n",
              "      <td>7</td>\n",
              "      <td>0.875000</td>\n",
              "      <td>4.571429</td>\n",
              "      <td>0</td>\n",
              "      <td>0</td>\n",
              "      <td>1</td>\n",
              "      <td>0</td>\n",
              "      <td>12.500000</td>\n",
              "      <td>0</td>\n",
              "      <td>0</td>\n",
              "      <td>5</td>\n",
              "      <td>0</td>\n",
              "      <td>0</td>\n",
              "    </tr>\n",
              "    <tr>\n",
              "      <th>2</th>\n",
              "      <td>All residents asked to 'shelter in place' are being notified by officers. No other evacuation or...</td>\n",
              "      <td>1</td>\n",
              "      <td>133</td>\n",
              "      <td>2</td>\n",
              "      <td>0.015038</td>\n",
              "      <td>24</td>\n",
              "      <td>20</td>\n",
              "      <td>0.833333</td>\n",
              "      <td>5.090909</td>\n",
              "      <td>0</td>\n",
              "      <td>0</td>\n",
              "      <td>1</td>\n",
              "      <td>0</td>\n",
              "      <td>4.166667</td>\n",
              "      <td>0</td>\n",
              "      <td>0</td>\n",
              "      <td>2</td>\n",
              "      <td>0</td>\n",
              "      <td>0</td>\n",
              "    </tr>\n",
              "    <tr>\n",
              "      <th>3</th>\n",
              "      <td>13,000 people receive #wildfires evacuation orders in California</td>\n",
              "      <td>1</td>\n",
              "      <td>65</td>\n",
              "      <td>1</td>\n",
              "      <td>0.015385</td>\n",
              "      <td>9</td>\n",
              "      <td>8</td>\n",
              "      <td>0.888889</td>\n",
              "      <td>7.125000</td>\n",
              "      <td>0</td>\n",
              "      <td>0</td>\n",
              "      <td>1</td>\n",
              "      <td>0</td>\n",
              "      <td>11.111111</td>\n",
              "      <td>0</td>\n",
              "      <td>0</td>\n",
              "      <td>1</td>\n",
              "      <td>1</td>\n",
              "      <td>0</td>\n",
              "    </tr>\n",
              "    <tr>\n",
              "      <th>4</th>\n",
              "      <td>Just got sent this photo from Ruby #Alaska as smoke from #wildfires pours into a school</td>\n",
              "      <td>1</td>\n",
              "      <td>88</td>\n",
              "      <td>3</td>\n",
              "      <td>0.034091</td>\n",
              "      <td>18</td>\n",
              "      <td>15</td>\n",
              "      <td>0.833333</td>\n",
              "      <td>4.500000</td>\n",
              "      <td>0</td>\n",
              "      <td>0</td>\n",
              "      <td>0</td>\n",
              "      <td>0</td>\n",
              "      <td>0.000000</td>\n",
              "      <td>0</td>\n",
              "      <td>0</td>\n",
              "      <td>3</td>\n",
              "      <td>2</td>\n",
              "      <td>0</td>\n",
              "    </tr>\n",
              "  </tbody>\n",
              "</table>\n",
              "</div>"
            ],
            "text/plain": [
              "                                                                                                  text  \\\n",
              "0                                Our Deeds are the Reason of this #earthquake May ALLAH Forgive us all   \n",
              "1                                                               Forest fire near La Ronge Sask. Canada   \n",
              "2  All residents asked to 'shelter in place' are being notified by officers. No other evacuation or...   \n",
              "3                                    13,000 people receive #wildfires evacuation orders in California    \n",
              "4             Just got sent this photo from Ruby #Alaska as smoke from #wildfires pours into a school    \n",
              "\n",
              "   target  length  capitals  caps_vs_length  num_words  num_unique_words  \\\n",
              "0       1      69        10        0.144928         14                13   \n",
              "1       1      38         5        0.131579          8                 7   \n",
              "2       1     133         2        0.015038         24                20   \n",
              "3       1      65         1        0.015385          9                 8   \n",
              "4       1      88         3        0.034091         18                15   \n",
              "\n",
              "   words_vs_unique  mean_word_len  num_exclamation_marks  num_question_marks  \\\n",
              "0         0.928571       4.384615                      0                   0   \n",
              "1         0.875000       4.571429                      0                   0   \n",
              "2         0.833333       5.090909                      0                   0   \n",
              "3         0.888889       7.125000                      0                   0   \n",
              "4         0.833333       4.500000                      0                   0   \n",
              "\n",
              "   num_punctuation  num_symbols  punct_percent  num_smilies  num_sad  \\\n",
              "0                0            0       0.000000            0        0   \n",
              "1                1            0      12.500000            0        0   \n",
              "2                1            0       4.166667            0        0   \n",
              "3                1            0      11.111111            0        0   \n",
              "4                0            0       0.000000            0        0   \n",
              "\n",
              "   count_words_title  num_hashtags  num_mentions  \n",
              "0                  5             1             0  \n",
              "1                  5             0             0  \n",
              "2                  2             0             0  \n",
              "3                  1             1             0  \n",
              "4                  3             2             0  "
            ]
          },
          "metadata": {
            "tags": []
          },
          "execution_count": 38
        }
      ]
    },
    {
      "cell_type": "code",
      "metadata": {
        "id": "Sor1dbZnInjB",
        "colab_type": "code",
        "outputId": "8bfc6aeb-0846-47fa-a4cc-bc30cf46a225",
        "colab": {
          "base_uri": "https://localhost:8080/",
          "height": 35
        }
      },
      "source": [
        "train_df.shape"
      ],
      "execution_count": 39,
      "outputs": [
        {
          "output_type": "execute_result",
          "data": {
            "text/plain": [
              "(7613, 19)"
            ]
          },
          "metadata": {
            "tags": []
          },
          "execution_count": 39
        }
      ]
    },
    {
      "cell_type": "markdown",
      "metadata": {
        "id": "ildSoDO8yQcc",
        "colab_type": "text"
      },
      "source": [
        "#### Phase 2: Feature Engineering using Part of Speech (POS) Tagging"
      ]
    },
    {
      "cell_type": "code",
      "metadata": {
        "id": "NsGAPh7Jdsvy",
        "colab_type": "code",
        "colab": {}
      },
      "source": [
        "# function to target part of speech\n",
        "def tag_part_of_speech(text):\n",
        "    text_splitted =  text.split(' ')\n",
        "    text_splitted = [''.join(c for c in s if c not in string.punctuation) for s in text_splitted]\n",
        "    text_splitted = [s for s in text_splitted if s]\n",
        "    pos_list = pos_tag(text_splitted)\n",
        "    noun_count = len([w for w in pos_list if w[1] in ('NN', 'NNP', 'NNPS', 'NNS')])\n",
        "    adjective_count = len([w for w in pos_list if w[1] in ('JJ', 'JJR', 'JJS')])\n",
        "    verb_count = len([w for w in pos_list if w[1] in ('VB', 'VBD', 'VBG', 'VBN', 'VBP', 'VBZ')])\n",
        "    return[noun_count, adjective_count, verb_count]"
      ],
      "execution_count": 0,
      "outputs": []
    },
    {
      "cell_type": "code",
      "metadata": {
        "id": "HvgG50eRyqkn",
        "colab_type": "code",
        "colab": {}
      },
      "source": [
        "train_df['nouns'], train_df['adjectives'], train_df['verbs'] = zip(*train_df['text'].apply(lambda tweet: tag_part_of_speech(tweet)))"
      ],
      "execution_count": 0,
      "outputs": []
    },
    {
      "cell_type": "markdown",
      "metadata": {
        "id": "UjjJ-i9OKPbo",
        "colab_type": "text"
      },
      "source": [
        "### Nouns"
      ]
    },
    {
      "cell_type": "code",
      "metadata": {
        "id": "7cGSP8BdS7HT",
        "colab_type": "code",
        "colab": {}
      },
      "source": [
        "train_df['nouns_vs_length'] = train_df['nouns'] / train_df['length']\n",
        "train_df['nouns_vs_words'] = train_df['nouns'] / train_df['num_words']"
      ],
      "execution_count": 0,
      "outputs": []
    },
    {
      "cell_type": "markdown",
      "metadata": {
        "id": "1Mx2mNCrKXhh",
        "colab_type": "text"
      },
      "source": [
        "### Adjectives"
      ]
    },
    {
      "cell_type": "code",
      "metadata": {
        "id": "FDM2-1z4U4Gd",
        "colab_type": "code",
        "colab": {}
      },
      "source": [
        "train_df['adjectives_vs_length'] = train_df['adjectives'] / train_df['length']\n",
        "train_df['adjectives_vs_words'] = train_df['adjectives'] / train_df['num_words']"
      ],
      "execution_count": 0,
      "outputs": []
    },
    {
      "cell_type": "markdown",
      "metadata": {
        "id": "GjGoQkyfKcXu",
        "colab_type": "text"
      },
      "source": [
        "### Verbs"
      ]
    },
    {
      "cell_type": "code",
      "metadata": {
        "id": "INj9YeZOVA0M",
        "colab_type": "code",
        "colab": {}
      },
      "source": [
        "train_df['verbs_vs_length'] = train_df['verbs'] / train_df['length']\n",
        "train_df['verbs_vs_words'] = train_df['verbs'] / train_df['num_words']"
      ],
      "execution_count": 0,
      "outputs": []
    },
    {
      "cell_type": "code",
      "metadata": {
        "colab_type": "code",
        "id": "hdP7XuzvSmfz",
        "outputId": "4b2069d7-1cef-4d23-9c2b-42cc5e0e5411",
        "colab": {
          "base_uri": "https://localhost:8080/",
          "height": 811
        }
      },
      "source": [
        "train_df.head()"
      ],
      "execution_count": 45,
      "outputs": [
        {
          "output_type": "execute_result",
          "data": {
            "text/html": [
              "<div>\n",
              "<style scoped>\n",
              "    .dataframe tbody tr th:only-of-type {\n",
              "        vertical-align: middle;\n",
              "    }\n",
              "\n",
              "    .dataframe tbody tr th {\n",
              "        vertical-align: top;\n",
              "    }\n",
              "\n",
              "    .dataframe thead th {\n",
              "        text-align: right;\n",
              "    }\n",
              "</style>\n",
              "<table border=\"1\" class=\"dataframe\">\n",
              "  <thead>\n",
              "    <tr style=\"text-align: right;\">\n",
              "      <th></th>\n",
              "      <th>text</th>\n",
              "      <th>target</th>\n",
              "      <th>length</th>\n",
              "      <th>capitals</th>\n",
              "      <th>caps_vs_length</th>\n",
              "      <th>num_words</th>\n",
              "      <th>num_unique_words</th>\n",
              "      <th>words_vs_unique</th>\n",
              "      <th>mean_word_len</th>\n",
              "      <th>num_exclamation_marks</th>\n",
              "      <th>num_question_marks</th>\n",
              "      <th>num_punctuation</th>\n",
              "      <th>num_symbols</th>\n",
              "      <th>punct_percent</th>\n",
              "      <th>num_smilies</th>\n",
              "      <th>num_sad</th>\n",
              "      <th>count_words_title</th>\n",
              "      <th>num_hashtags</th>\n",
              "      <th>num_mentions</th>\n",
              "      <th>nouns</th>\n",
              "      <th>adjectives</th>\n",
              "      <th>verbs</th>\n",
              "      <th>nouns_vs_length</th>\n",
              "      <th>nouns_vs_words</th>\n",
              "      <th>adjectives_vs_length</th>\n",
              "      <th>adjectives_vs_words</th>\n",
              "      <th>verbs_vs_length</th>\n",
              "      <th>verbs_vs_words</th>\n",
              "    </tr>\n",
              "  </thead>\n",
              "  <tbody>\n",
              "    <tr>\n",
              "      <th>0</th>\n",
              "      <td>Our Deeds are the Reason of this #earthquake May ALLAH Forgive us all</td>\n",
              "      <td>1</td>\n",
              "      <td>69</td>\n",
              "      <td>10</td>\n",
              "      <td>0.144928</td>\n",
              "      <td>14</td>\n",
              "      <td>13</td>\n",
              "      <td>0.928571</td>\n",
              "      <td>4.384615</td>\n",
              "      <td>0</td>\n",
              "      <td>0</td>\n",
              "      <td>0</td>\n",
              "      <td>0</td>\n",
              "      <td>0.000000</td>\n",
              "      <td>0</td>\n",
              "      <td>0</td>\n",
              "      <td>5</td>\n",
              "      <td>1</td>\n",
              "      <td>0</td>\n",
              "      <td>6</td>\n",
              "      <td>0</td>\n",
              "      <td>1</td>\n",
              "      <td>0.086957</td>\n",
              "      <td>0.428571</td>\n",
              "      <td>0.000000</td>\n",
              "      <td>0.000000</td>\n",
              "      <td>0.014493</td>\n",
              "      <td>0.071429</td>\n",
              "    </tr>\n",
              "    <tr>\n",
              "      <th>1</th>\n",
              "      <td>Forest fire near La Ronge Sask. Canada</td>\n",
              "      <td>1</td>\n",
              "      <td>38</td>\n",
              "      <td>5</td>\n",
              "      <td>0.131579</td>\n",
              "      <td>8</td>\n",
              "      <td>7</td>\n",
              "      <td>0.875000</td>\n",
              "      <td>4.571429</td>\n",
              "      <td>0</td>\n",
              "      <td>0</td>\n",
              "      <td>1</td>\n",
              "      <td>0</td>\n",
              "      <td>12.500000</td>\n",
              "      <td>0</td>\n",
              "      <td>0</td>\n",
              "      <td>5</td>\n",
              "      <td>0</td>\n",
              "      <td>0</td>\n",
              "      <td>6</td>\n",
              "      <td>0</td>\n",
              "      <td>0</td>\n",
              "      <td>0.157895</td>\n",
              "      <td>0.750000</td>\n",
              "      <td>0.000000</td>\n",
              "      <td>0.000000</td>\n",
              "      <td>0.000000</td>\n",
              "      <td>0.000000</td>\n",
              "    </tr>\n",
              "    <tr>\n",
              "      <th>2</th>\n",
              "      <td>All residents asked to 'shelter in place' are being notified by officers. No other evacuation or...</td>\n",
              "      <td>1</td>\n",
              "      <td>133</td>\n",
              "      <td>2</td>\n",
              "      <td>0.015038</td>\n",
              "      <td>24</td>\n",
              "      <td>20</td>\n",
              "      <td>0.833333</td>\n",
              "      <td>5.090909</td>\n",
              "      <td>0</td>\n",
              "      <td>0</td>\n",
              "      <td>1</td>\n",
              "      <td>0</td>\n",
              "      <td>4.166667</td>\n",
              "      <td>0</td>\n",
              "      <td>0</td>\n",
              "      <td>2</td>\n",
              "      <td>0</td>\n",
              "      <td>0</td>\n",
              "      <td>8</td>\n",
              "      <td>1</td>\n",
              "      <td>7</td>\n",
              "      <td>0.060150</td>\n",
              "      <td>0.333333</td>\n",
              "      <td>0.007519</td>\n",
              "      <td>0.041667</td>\n",
              "      <td>0.052632</td>\n",
              "      <td>0.291667</td>\n",
              "    </tr>\n",
              "    <tr>\n",
              "      <th>3</th>\n",
              "      <td>13,000 people receive #wildfires evacuation orders in California</td>\n",
              "      <td>1</td>\n",
              "      <td>65</td>\n",
              "      <td>1</td>\n",
              "      <td>0.015385</td>\n",
              "      <td>9</td>\n",
              "      <td>8</td>\n",
              "      <td>0.888889</td>\n",
              "      <td>7.125000</td>\n",
              "      <td>0</td>\n",
              "      <td>0</td>\n",
              "      <td>1</td>\n",
              "      <td>0</td>\n",
              "      <td>11.111111</td>\n",
              "      <td>0</td>\n",
              "      <td>0</td>\n",
              "      <td>1</td>\n",
              "      <td>1</td>\n",
              "      <td>0</td>\n",
              "      <td>5</td>\n",
              "      <td>1</td>\n",
              "      <td>0</td>\n",
              "      <td>0.076923</td>\n",
              "      <td>0.555556</td>\n",
              "      <td>0.015385</td>\n",
              "      <td>0.111111</td>\n",
              "      <td>0.000000</td>\n",
              "      <td>0.000000</td>\n",
              "    </tr>\n",
              "    <tr>\n",
              "      <th>4</th>\n",
              "      <td>Just got sent this photo from Ruby #Alaska as smoke from #wildfires pours into a school</td>\n",
              "      <td>1</td>\n",
              "      <td>88</td>\n",
              "      <td>3</td>\n",
              "      <td>0.034091</td>\n",
              "      <td>18</td>\n",
              "      <td>15</td>\n",
              "      <td>0.833333</td>\n",
              "      <td>4.500000</td>\n",
              "      <td>0</td>\n",
              "      <td>0</td>\n",
              "      <td>0</td>\n",
              "      <td>0</td>\n",
              "      <td>0.000000</td>\n",
              "      <td>0</td>\n",
              "      <td>0</td>\n",
              "      <td>3</td>\n",
              "      <td>2</td>\n",
              "      <td>0</td>\n",
              "      <td>6</td>\n",
              "      <td>0</td>\n",
              "      <td>3</td>\n",
              "      <td>0.068182</td>\n",
              "      <td>0.333333</td>\n",
              "      <td>0.000000</td>\n",
              "      <td>0.000000</td>\n",
              "      <td>0.034091</td>\n",
              "      <td>0.166667</td>\n",
              "    </tr>\n",
              "  </tbody>\n",
              "</table>\n",
              "</div>"
            ],
            "text/plain": [
              "                                                                                                  text  \\\n",
              "0                                Our Deeds are the Reason of this #earthquake May ALLAH Forgive us all   \n",
              "1                                                               Forest fire near La Ronge Sask. Canada   \n",
              "2  All residents asked to 'shelter in place' are being notified by officers. No other evacuation or...   \n",
              "3                                    13,000 people receive #wildfires evacuation orders in California    \n",
              "4             Just got sent this photo from Ruby #Alaska as smoke from #wildfires pours into a school    \n",
              "\n",
              "   target  length  capitals  caps_vs_length  num_words  num_unique_words  \\\n",
              "0       1      69        10        0.144928         14                13   \n",
              "1       1      38         5        0.131579          8                 7   \n",
              "2       1     133         2        0.015038         24                20   \n",
              "3       1      65         1        0.015385          9                 8   \n",
              "4       1      88         3        0.034091         18                15   \n",
              "\n",
              "   words_vs_unique  mean_word_len  num_exclamation_marks  num_question_marks  \\\n",
              "0         0.928571       4.384615                      0                   0   \n",
              "1         0.875000       4.571429                      0                   0   \n",
              "2         0.833333       5.090909                      0                   0   \n",
              "3         0.888889       7.125000                      0                   0   \n",
              "4         0.833333       4.500000                      0                   0   \n",
              "\n",
              "   num_punctuation  num_symbols  punct_percent  num_smilies  num_sad  \\\n",
              "0                0            0       0.000000            0        0   \n",
              "1                1            0      12.500000            0        0   \n",
              "2                1            0       4.166667            0        0   \n",
              "3                1            0      11.111111            0        0   \n",
              "4                0            0       0.000000            0        0   \n",
              "\n",
              "   count_words_title  num_hashtags  num_mentions  nouns  adjectives  verbs  \\\n",
              "0                  5             1             0      6           0      1   \n",
              "1                  5             0             0      6           0      0   \n",
              "2                  2             0             0      8           1      7   \n",
              "3                  1             1             0      5           1      0   \n",
              "4                  3             2             0      6           0      3   \n",
              "\n",
              "   nouns_vs_length  nouns_vs_words  adjectives_vs_length  adjectives_vs_words  \\\n",
              "0         0.086957        0.428571              0.000000             0.000000   \n",
              "1         0.157895        0.750000              0.000000             0.000000   \n",
              "2         0.060150        0.333333              0.007519             0.041667   \n",
              "3         0.076923        0.555556              0.015385             0.111111   \n",
              "4         0.068182        0.333333              0.000000             0.000000   \n",
              "\n",
              "   verbs_vs_length  verbs_vs_words  \n",
              "0         0.014493        0.071429  \n",
              "1         0.000000        0.000000  \n",
              "2         0.052632        0.291667  \n",
              "3         0.000000        0.000000  \n",
              "4         0.034091        0.166667  "
            ]
          },
          "metadata": {
            "tags": []
          },
          "execution_count": 45
        }
      ]
    },
    {
      "cell_type": "code",
      "metadata": {
        "id": "9tQXx3RybmJT",
        "colab_type": "code",
        "outputId": "dc2f70d7-1a41-4cb4-f98b-7dd1f6bbbeb7",
        "colab": {
          "base_uri": "https://localhost:8080/",
          "height": 401
        }
      },
      "source": [
        "sns.heatmap(train_df.drop(['text'], axis = 1).corr())"
      ],
      "execution_count": 46,
      "outputs": [
        {
          "output_type": "execute_result",
          "data": {
            "text/plain": [
              "<matplotlib.axes._subplots.AxesSubplot at 0x7f9053f6c860>"
            ]
          },
          "metadata": {
            "tags": []
          },
          "execution_count": 46
        },
        {
          "output_type": "display_data",
          "data": {
            "image/png": "[encoded data removed]",
            "text/plain": [
              "<Figure size 432x288 with 2 Axes>"
            ]
          },
          "metadata": {
            "tags": [],
            "needs_background": "light"
          }
        }
      ]
    },
    {
      "cell_type": "code",
      "metadata": {
        "id": "6bjK3dCDFXZZ",
        "colab_type": "code",
        "colab": {}
      },
      "source": [
        "# drop num_sad column as it is throughout 0\n",
        "train_df.drop(['num_sad'], axis = 1, inplace = True)"
      ],
      "execution_count": 0,
      "outputs": []
    },
    {
      "cell_type": "code",
      "metadata": {
        "id": "55V98yzQ5sQm",
        "colab_type": "code",
        "outputId": "759d2abc-0d4b-4bb7-f840-07d5e938061c",
        "colab": {
          "base_uri": "https://localhost:8080/",
          "height": 451
        }
      },
      "source": [
        "num_cols = [x for x in train_df.columns if (train_df[x].dtype == 'int64' or train_df[x].dtype == 'float64') and x!= 'target']\n",
        "num_cols"
      ],
      "execution_count": 48,
      "outputs": [
        {
          "output_type": "execute_result",
          "data": {
            "text/plain": [
              "['length',\n",
              " 'capitals',\n",
              " 'caps_vs_length',\n",
              " 'num_words',\n",
              " 'num_unique_words',\n",
              " 'words_vs_unique',\n",
              " 'mean_word_len',\n",
              " 'num_exclamation_marks',\n",
              " 'num_question_marks',\n",
              " 'num_punctuation',\n",
              " 'num_symbols',\n",
              " 'punct_percent',\n",
              " 'num_smilies',\n",
              " 'count_words_title',\n",
              " 'num_hashtags',\n",
              " 'num_mentions',\n",
              " 'nouns',\n",
              " 'adjectives',\n",
              " 'verbs',\n",
              " 'nouns_vs_length',\n",
              " 'nouns_vs_words',\n",
              " 'adjectives_vs_length',\n",
              " 'adjectives_vs_words',\n",
              " 'verbs_vs_length',\n",
              " 'verbs_vs_words']"
            ]
          },
          "metadata": {
            "tags": []
          },
          "execution_count": 48
        }
      ]
    },
    {
      "cell_type": "markdown",
      "metadata": {
        "id": "x6ZbkVxfjjou",
        "colab_type": "text"
      },
      "source": [
        "### Preprocessing for Baseline Model"
      ]
    },
    {
      "cell_type": "code",
      "metadata": {
        "id": "oaftUQHo38lz",
        "colab_type": "code",
        "outputId": "60998383-ace0-4dc2-d238-4890bab0081c",
        "colab": {
          "base_uri": "https://localhost:8080/",
          "height": 395
        }
      },
      "source": [
        "train_df['preprocessed_text'] = np.array(train_tweet_corpus).T\n",
        "X = train_df.drop(['text', 'target'], axis = 1)\n",
        "X.head()"
      ],
      "execution_count": 49,
      "outputs": [
        {
          "output_type": "execute_result",
          "data": {
            "text/html": [
              "<div>\n",
              "<style scoped>\n",
              "    .dataframe tbody tr th:only-of-type {\n",
              "        vertical-align: middle;\n",
              "    }\n",
              "\n",
              "    .dataframe tbody tr th {\n",
              "        vertical-align: top;\n",
              "    }\n",
              "\n",
              "    .dataframe thead th {\n",
              "        text-align: right;\n",
              "    }\n",
              "</style>\n",
              "<table border=\"1\" class=\"dataframe\">\n",
              "  <thead>\n",
              "    <tr style=\"text-align: right;\">\n",
              "      <th></th>\n",
              "      <th>length</th>\n",
              "      <th>capitals</th>\n",
              "      <th>caps_vs_length</th>\n",
              "      <th>num_words</th>\n",
              "      <th>num_unique_words</th>\n",
              "      <th>words_vs_unique</th>\n",
              "      <th>mean_word_len</th>\n",
              "      <th>num_exclamation_marks</th>\n",
              "      <th>num_question_marks</th>\n",
              "      <th>num_punctuation</th>\n",
              "      <th>num_symbols</th>\n",
              "      <th>punct_percent</th>\n",
              "      <th>num_smilies</th>\n",
              "      <th>count_words_title</th>\n",
              "      <th>num_hashtags</th>\n",
              "      <th>num_mentions</th>\n",
              "      <th>nouns</th>\n",
              "      <th>adjectives</th>\n",
              "      <th>verbs</th>\n",
              "      <th>nouns_vs_length</th>\n",
              "      <th>nouns_vs_words</th>\n",
              "      <th>adjectives_vs_length</th>\n",
              "      <th>adjectives_vs_words</th>\n",
              "      <th>verbs_vs_length</th>\n",
              "      <th>verbs_vs_words</th>\n",
              "      <th>preprocessed_text</th>\n",
              "    </tr>\n",
              "  </thead>\n",
              "  <tbody>\n",
              "    <tr>\n",
              "      <th>0</th>\n",
              "      <td>69</td>\n",
              "      <td>10</td>\n",
              "      <td>0.144928</td>\n",
              "      <td>14</td>\n",
              "      <td>13</td>\n",
              "      <td>0.928571</td>\n",
              "      <td>4.384615</td>\n",
              "      <td>0</td>\n",
              "      <td>0</td>\n",
              "      <td>0</td>\n",
              "      <td>0</td>\n",
              "      <td>0.000000</td>\n",
              "      <td>0</td>\n",
              "      <td>5</td>\n",
              "      <td>1</td>\n",
              "      <td>0</td>\n",
              "      <td>6</td>\n",
              "      <td>0</td>\n",
              "      <td>1</td>\n",
              "      <td>0.086957</td>\n",
              "      <td>0.428571</td>\n",
              "      <td>0.000000</td>\n",
              "      <td>0.000000</td>\n",
              "      <td>0.014493</td>\n",
              "      <td>0.071429</td>\n",
              "      <td>deed reason earthquake may allah forgive u</td>\n",
              "    </tr>\n",
              "    <tr>\n",
              "      <th>1</th>\n",
              "      <td>38</td>\n",
              "      <td>5</td>\n",
              "      <td>0.131579</td>\n",
              "      <td>8</td>\n",
              "      <td>7</td>\n",
              "      <td>0.875000</td>\n",
              "      <td>4.571429</td>\n",
              "      <td>0</td>\n",
              "      <td>0</td>\n",
              "      <td>1</td>\n",
              "      <td>0</td>\n",
              "      <td>12.500000</td>\n",
              "      <td>0</td>\n",
              "      <td>5</td>\n",
              "      <td>0</td>\n",
              "      <td>0</td>\n",
              "      <td>6</td>\n",
              "      <td>0</td>\n",
              "      <td>0</td>\n",
              "      <td>0.157895</td>\n",
              "      <td>0.750000</td>\n",
              "      <td>0.000000</td>\n",
              "      <td>0.000000</td>\n",
              "      <td>0.000000</td>\n",
              "      <td>0.000000</td>\n",
              "      <td>forest fire near la ronge sask canada</td>\n",
              "    </tr>\n",
              "    <tr>\n",
              "      <th>2</th>\n",
              "      <td>133</td>\n",
              "      <td>2</td>\n",
              "      <td>0.015038</td>\n",
              "      <td>24</td>\n",
              "      <td>20</td>\n",
              "      <td>0.833333</td>\n",
              "      <td>5.090909</td>\n",
              "      <td>0</td>\n",
              "      <td>0</td>\n",
              "      <td>1</td>\n",
              "      <td>0</td>\n",
              "      <td>4.166667</td>\n",
              "      <td>0</td>\n",
              "      <td>2</td>\n",
              "      <td>0</td>\n",
              "      <td>0</td>\n",
              "      <td>8</td>\n",
              "      <td>1</td>\n",
              "      <td>7</td>\n",
              "      <td>0.060150</td>\n",
              "      <td>0.333333</td>\n",
              "      <td>0.007519</td>\n",
              "      <td>0.041667</td>\n",
              "      <td>0.052632</td>\n",
              "      <td>0.291667</td>\n",
              "      <td>resident asked shelter place notified officer evacuation shelter place order expected</td>\n",
              "    </tr>\n",
              "    <tr>\n",
              "      <th>3</th>\n",
              "      <td>65</td>\n",
              "      <td>1</td>\n",
              "      <td>0.015385</td>\n",
              "      <td>9</td>\n",
              "      <td>8</td>\n",
              "      <td>0.888889</td>\n",
              "      <td>7.125000</td>\n",
              "      <td>0</td>\n",
              "      <td>0</td>\n",
              "      <td>1</td>\n",
              "      <td>0</td>\n",
              "      <td>11.111111</td>\n",
              "      <td>0</td>\n",
              "      <td>1</td>\n",
              "      <td>1</td>\n",
              "      <td>0</td>\n",
              "      <td>5</td>\n",
              "      <td>1</td>\n",
              "      <td>0</td>\n",
              "      <td>0.076923</td>\n",
              "      <td>0.555556</td>\n",
              "      <td>0.015385</td>\n",
              "      <td>0.111111</td>\n",
              "      <td>0.000000</td>\n",
              "      <td>0.000000</td>\n",
              "      <td>13 000 people receive wildfire evacuation order california</td>\n",
              "    </tr>\n",
              "    <tr>\n",
              "      <th>4</th>\n",
              "      <td>88</td>\n",
              "      <td>3</td>\n",
              "      <td>0.034091</td>\n",
              "      <td>18</td>\n",
              "      <td>15</td>\n",
              "      <td>0.833333</td>\n",
              "      <td>4.500000</td>\n",
              "      <td>0</td>\n",
              "      <td>0</td>\n",
              "      <td>0</td>\n",
              "      <td>0</td>\n",
              "      <td>0.000000</td>\n",
              "      <td>0</td>\n",
              "      <td>3</td>\n",
              "      <td>2</td>\n",
              "      <td>0</td>\n",
              "      <td>6</td>\n",
              "      <td>0</td>\n",
              "      <td>3</td>\n",
              "      <td>0.068182</td>\n",
              "      <td>0.333333</td>\n",
              "      <td>0.000000</td>\n",
              "      <td>0.000000</td>\n",
              "      <td>0.034091</td>\n",
              "      <td>0.166667</td>\n",
              "      <td>got sent photo ruby alaska smoke wildfire pours school</td>\n",
              "    </tr>\n",
              "  </tbody>\n",
              "</table>\n",
              "</div>"
            ],
            "text/plain": [
              "   length  capitals  caps_vs_length  num_words  num_unique_words  \\\n",
              "0      69        10        0.144928         14                13   \n",
              "1      38         5        0.131579          8                 7   \n",
              "2     133         2        0.015038         24                20   \n",
              "3      65         1        0.015385          9                 8   \n",
              "4      88         3        0.034091         18                15   \n",
              "\n",
              "   words_vs_unique  mean_word_len  num_exclamation_marks  num_question_marks  \\\n",
              "0         0.928571       4.384615                      0                   0   \n",
              "1         0.875000       4.571429                      0                   0   \n",
              "2         0.833333       5.090909                      0                   0   \n",
              "3         0.888889       7.125000                      0                   0   \n",
              "4         0.833333       4.500000                      0                   0   \n",
              "\n",
              "   num_punctuation  num_symbols  punct_percent  num_smilies  \\\n",
              "0                0            0       0.000000            0   \n",
              "1                1            0      12.500000            0   \n",
              "2                1            0       4.166667            0   \n",
              "3                1            0      11.111111            0   \n",
              "4                0            0       0.000000            0   \n",
              "\n",
              "   count_words_title  num_hashtags  num_mentions  nouns  adjectives  verbs  \\\n",
              "0                  5             1             0      6           0      1   \n",
              "1                  5             0             0      6           0      0   \n",
              "2                  2             0             0      8           1      7   \n",
              "3                  1             1             0      5           1      0   \n",
              "4                  3             2             0      6           0      3   \n",
              "\n",
              "   nouns_vs_length  nouns_vs_words  adjectives_vs_length  adjectives_vs_words  \\\n",
              "0         0.086957        0.428571              0.000000             0.000000   \n",
              "1         0.157895        0.750000              0.000000             0.000000   \n",
              "2         0.060150        0.333333              0.007519             0.041667   \n",
              "3         0.076923        0.555556              0.015385             0.111111   \n",
              "4         0.068182        0.333333              0.000000             0.000000   \n",
              "\n",
              "   verbs_vs_length  verbs_vs_words  \\\n",
              "0         0.014493        0.071429   \n",
              "1         0.000000        0.000000   \n",
              "2         0.052632        0.291667   \n",
              "3         0.000000        0.000000   \n",
              "4         0.034091        0.166667   \n",
              "\n",
              "                                                                       preprocessed_text  \n",
              "0                                             deed reason earthquake may allah forgive u  \n",
              "1                                                  forest fire near la ronge sask canada  \n",
              "2  resident asked shelter place notified officer evacuation shelter place order expected  \n",
              "3                             13 000 people receive wildfire evacuation order california  \n",
              "4                                 got sent photo ruby alaska smoke wildfire pours school  "
            ]
          },
          "metadata": {
            "tags": []
          },
          "execution_count": 49
        }
      ]
    },
    {
      "cell_type": "code",
      "metadata": {
        "id": "XiAdt3Q40Obv",
        "colab_type": "code",
        "colab": {}
      },
      "source": [
        "# generate TF-IDF model while preserving trigrams\n",
        "vectorizer = TfidfVectorizer(max_features=2000, min_df=3, max_df=0.6, ngram_range = (1, 3))"
      ],
      "execution_count": 0,
      "outputs": []
    },
    {
      "cell_type": "code",
      "metadata": {
        "id": "wbiYgx681_AZ",
        "colab_type": "code",
        "colab": {}
      },
      "source": [
        "# split into training and validation sets\n",
        "X_train, X_val, y_train, y_val = train_test_split(X, y, test_size = 0.225, stratify = y)"
      ],
      "execution_count": 0,
      "outputs": []
    },
    {
      "cell_type": "code",
      "metadata": {
        "id": "I0G9gGl25BCH",
        "colab_type": "code",
        "colab": {}
      },
      "source": [
        "# generate separate FunctionTransformers for text and numeric data\n",
        "\n",
        "# FunctionTransformer for Text Data\n",
        "get_text_data = FunctionTransformer(lambda x: x['preprocessed_text'], validate = False)\n",
        "\n",
        "# Functiontransformer for Numeric Data\n",
        "get_numeric_data = FunctionTransformer(lambda x: x[num_cols], validate = False)"
      ],
      "execution_count": 0,
      "outputs": []
    },
    {
      "cell_type": "code",
      "metadata": {
        "id": "hiKbR-JB6XZd",
        "colab_type": "code",
        "colab": {}
      },
      "source": [
        "# generate numeric and text pipelines\n",
        "\n",
        "# Numeric Pipeline\n",
        "numeric_pipeline = Pipeline([('num_selector', get_numeric_data),\n",
        "                             ('selector', SelectKBest(f_classif, k = 3)),\n",
        "                             ('scaler', MinMaxScaler())])\n",
        "\n",
        "# Text Pipeline\n",
        "text_pipeline = Pipeline([('text_selector', get_text_data), \n",
        "                          ('vectorizer', vectorizer)])"
      ],
      "execution_count": 0,
      "outputs": []
    },
    {
      "cell_type": "code",
      "metadata": {
        "id": "QOcnrAo16-nf",
        "colab_type": "code",
        "outputId": "84173f8f-a645-4d87-f695-32cb7d98d644",
        "colab": {
          "base_uri": "https://localhost:8080/",
          "height": 557
        }
      },
      "source": [
        "# Generate final pipeline comprising of FeatureUnion and Classifier (Logistic Regression)\n",
        "pl = Pipeline([('union', FeatureUnion(\n",
        "    [('numeric', numeric_pipeline),\n",
        "     ('text', text_pipeline)])),\n",
        "     ('clf', LogisticRegression())])\n",
        "\n",
        "# Train pipeline on data\n",
        "pl.fit(X_train, y_train)"
      ],
      "execution_count": 66,
      "outputs": [
        {
          "output_type": "execute_result",
          "data": {
            "text/plain": [
              "Pipeline(memory=None,\n",
              "         steps=[('union',\n",
              "                 FeatureUnion(n_jobs=None,\n",
              "                              transformer_list=[('numeric',\n",
              "                                                 Pipeline(memory=None,\n",
              "                                                          steps=[('num_selector',\n",
              "                                                                  FunctionTransformer(accept_sparse=False,\n",
              "                                                                                      check_inverse=True,\n",
              "                                                                                      func=<function <lambda> at 0x7f904e0b50d0>,\n",
              "                                                                                      inv_kw_args=None,\n",
              "                                                                                      inverse_func=None,\n",
              "                                                                                      kw_args=None,\n",
              "                                                                                      validate=False)),\n",
              "                                                                 ('selector',\n",
              "                                                                  SelectKBest(k=3,\n",
              "                                                                              score_func=<function f_c...\n",
              "                                                                                  tokenizer=None,\n",
              "                                                                                  use_idf=True,\n",
              "                                                                                  vocabulary=None))],\n",
              "                                                          verbose=False))],\n",
              "                              transformer_weights=None, verbose=False)),\n",
              "                ('clf',\n",
              "                 LogisticRegression(C=1.0, class_weight=None, dual=False,\n",
              "                                    fit_intercept=True, intercept_scaling=1,\n",
              "                                    l1_ratio=None, max_iter=100,\n",
              "                                    multi_class='auto', n_jobs=None,\n",
              "                                    penalty='l2', random_state=None,\n",
              "                                    solver='lbfgs', tol=0.0001, verbose=0,\n",
              "                                    warm_start=False))],\n",
              "         verbose=False)"
            ]
          },
          "metadata": {
            "tags": []
          },
          "execution_count": 66
        }
      ]
    },
    {
      "cell_type": "code",
      "metadata": {
        "id": "WyIlrULM75WZ",
        "colab_type": "code",
        "outputId": "b1070ccb-54b3-4346-b57e-f26e6e0c119a",
        "colab": {
          "base_uri": "https://localhost:8080/",
          "height": 35
        }
      },
      "source": [
        "pl.score(X_val, y_val)"
      ],
      "execution_count": 67,
      "outputs": [
        {
          "output_type": "execute_result",
          "data": {
            "text/plain": [
              "0.804436660828955"
            ]
          },
          "metadata": {
            "tags": []
          },
          "execution_count": 67
        }
      ]
    },
    {
      "cell_type": "code",
      "metadata": {
        "id": "m2mCUvt2qP_s",
        "colab_type": "code",
        "outputId": "9743b0e2-e80c-4aa6-8d01-b7eb2596a5be",
        "colab": {
          "base_uri": "https://localhost:8080/",
          "height": 219
        }
      },
      "source": [
        "df_test.head()"
      ],
      "execution_count": 68,
      "outputs": [
        {
          "output_type": "execute_result",
          "data": {
            "text/html": [
              "<div>\n",
              "<style scoped>\n",
              "    .dataframe tbody tr th:only-of-type {\n",
              "        vertical-align: middle;\n",
              "    }\n",
              "\n",
              "    .dataframe tbody tr th {\n",
              "        vertical-align: top;\n",
              "    }\n",
              "\n",
              "    .dataframe thead th {\n",
              "        text-align: right;\n",
              "    }\n",
              "</style>\n",
              "<table border=\"1\" class=\"dataframe\">\n",
              "  <thead>\n",
              "    <tr style=\"text-align: right;\">\n",
              "      <th></th>\n",
              "      <th>id</th>\n",
              "      <th>keyword</th>\n",
              "      <th>location</th>\n",
              "      <th>text</th>\n",
              "    </tr>\n",
              "  </thead>\n",
              "  <tbody>\n",
              "    <tr>\n",
              "      <th>0</th>\n",
              "      <td>0</td>\n",
              "      <td>NaN</td>\n",
              "      <td>NaN</td>\n",
              "      <td>Just happened a terrible car crash</td>\n",
              "    </tr>\n",
              "    <tr>\n",
              "      <th>1</th>\n",
              "      <td>2</td>\n",
              "      <td>NaN</td>\n",
              "      <td>NaN</td>\n",
              "      <td>Heard about #earthquake is different cities, stay safe everyone.</td>\n",
              "    </tr>\n",
              "    <tr>\n",
              "      <th>2</th>\n",
              "      <td>3</td>\n",
              "      <td>NaN</td>\n",
              "      <td>NaN</td>\n",
              "      <td>there is a forest fire at spot pond, geese are fleeing across the street, I cannot save them all</td>\n",
              "    </tr>\n",
              "    <tr>\n",
              "      <th>3</th>\n",
              "      <td>9</td>\n",
              "      <td>NaN</td>\n",
              "      <td>NaN</td>\n",
              "      <td>Apocalypse lighting. #Spokane #wildfires</td>\n",
              "    </tr>\n",
              "    <tr>\n",
              "      <th>4</th>\n",
              "      <td>11</td>\n",
              "      <td>NaN</td>\n",
              "      <td>NaN</td>\n",
              "      <td>Typhoon Soudelor kills 28 in China and Taiwan</td>\n",
              "    </tr>\n",
              "  </tbody>\n",
              "</table>\n",
              "</div>"
            ],
            "text/plain": [
              "   id keyword location  \\\n",
              "0   0     NaN      NaN   \n",
              "1   2     NaN      NaN   \n",
              "2   3     NaN      NaN   \n",
              "3   9     NaN      NaN   \n",
              "4  11     NaN      NaN   \n",
              "\n",
              "                                                                                               text  \n",
              "0                                                                Just happened a terrible car crash  \n",
              "1                                  Heard about #earthquake is different cities, stay safe everyone.  \n",
              "2  there is a forest fire at spot pond, geese are fleeing across the street, I cannot save them all  \n",
              "3                                                          Apocalypse lighting. #Spokane #wildfires  \n",
              "4                                                     Typhoon Soudelor kills 28 in China and Taiwan  "
            ]
          },
          "metadata": {
            "tags": []
          },
          "execution_count": 68
        }
      ]
    },
    {
      "cell_type": "code",
      "metadata": {
        "id": "ZGrunV5T1jNR",
        "colab_type": "code",
        "colab": {}
      },
      "source": [
        "# drop 'keyword and 'location' columns from testing data\n",
        "df_test.drop(['keyword', 'location'], axis = 1, inplace = True)"
      ],
      "execution_count": 0,
      "outputs": []
    },
    {
      "cell_type": "code",
      "metadata": {
        "id": "P63ixE8DI3zQ",
        "colab_type": "code",
        "outputId": "473470db-ceba-4633-f978-9680e17d0988",
        "colab": {
          "base_uri": "https://localhost:8080/",
          "height": 35
        }
      },
      "source": [
        "df_test.shape"
      ],
      "execution_count": 70,
      "outputs": [
        {
          "output_type": "execute_result",
          "data": {
            "text/plain": [
              "(3263, 2)"
            ]
          },
          "metadata": {
            "tags": []
          },
          "execution_count": 70
        }
      ]
    },
    {
      "cell_type": "code",
      "metadata": {
        "id": "P64wLbWI8Sez",
        "colab_type": "code",
        "outputId": "c95198b3-0f23-498b-eded-93bc0b92d0a5",
        "colab": {
          "base_uri": "https://localhost:8080/",
          "height": 202
        }
      },
      "source": [
        "# extract tweets from test data into a separate DataFrame\n",
        "test_df = df_test.drop(['id'], axis = 1)\n",
        "test_df.head()"
      ],
      "execution_count": 71,
      "outputs": [
        {
          "output_type": "execute_result",
          "data": {
            "text/html": [
              "<div>\n",
              "<style scoped>\n",
              "    .dataframe tbody tr th:only-of-type {\n",
              "        vertical-align: middle;\n",
              "    }\n",
              "\n",
              "    .dataframe tbody tr th {\n",
              "        vertical-align: top;\n",
              "    }\n",
              "\n",
              "    .dataframe thead th {\n",
              "        text-align: right;\n",
              "    }\n",
              "</style>\n",
              "<table border=\"1\" class=\"dataframe\">\n",
              "  <thead>\n",
              "    <tr style=\"text-align: right;\">\n",
              "      <th></th>\n",
              "      <th>text</th>\n",
              "    </tr>\n",
              "  </thead>\n",
              "  <tbody>\n",
              "    <tr>\n",
              "      <th>0</th>\n",
              "      <td>Just happened a terrible car crash</td>\n",
              "    </tr>\n",
              "    <tr>\n",
              "      <th>1</th>\n",
              "      <td>Heard about #earthquake is different cities, stay safe everyone.</td>\n",
              "    </tr>\n",
              "    <tr>\n",
              "      <th>2</th>\n",
              "      <td>there is a forest fire at spot pond, geese are fleeing across the street, I cannot save them all</td>\n",
              "    </tr>\n",
              "    <tr>\n",
              "      <th>3</th>\n",
              "      <td>Apocalypse lighting. #Spokane #wildfires</td>\n",
              "    </tr>\n",
              "    <tr>\n",
              "      <th>4</th>\n",
              "      <td>Typhoon Soudelor kills 28 in China and Taiwan</td>\n",
              "    </tr>\n",
              "  </tbody>\n",
              "</table>\n",
              "</div>"
            ],
            "text/plain": [
              "                                                                                               text\n",
              "0                                                                Just happened a terrible car crash\n",
              "1                                  Heard about #earthquake is different cities, stay safe everyone.\n",
              "2  there is a forest fire at spot pond, geese are fleeing across the street, I cannot save them all\n",
              "3                                                          Apocalypse lighting. #Spokane #wildfires\n",
              "4                                                     Typhoon Soudelor kills 28 in China and Taiwan"
            ]
          },
          "metadata": {
            "tags": []
          },
          "execution_count": 71
        }
      ]
    },
    {
      "cell_type": "code",
      "metadata": {
        "id": "gsKgsValHKh-",
        "colab_type": "code",
        "outputId": "5fb34871-0c4e-4106-c6df-6eb5ee374b01",
        "colab": {
          "base_uri": "https://localhost:8080/",
          "height": 104
        }
      },
      "source": [
        "test_tweet_corpus, test_lemmatized_word_corpus = preprocess_text(test_df['text'].values.tolist())\n",
        "test_tweet_corpus[:5]"
      ],
      "execution_count": 72,
      "outputs": [
        {
          "output_type": "execute_result",
          "data": {
            "text/plain": [
              "['happened terrible car crash',\n",
              " 'heard earthquake different city stay safe everyone',\n",
              " 'forest fire spot pond goose fleeing across street save',\n",
              " 'apocalypse lighting spokane wildfire',\n",
              " 'typhoon soudelor kill 28 china taiwan']"
            ]
          },
          "metadata": {
            "tags": []
          },
          "execution_count": 72
        }
      ]
    },
    {
      "cell_type": "code",
      "metadata": {
        "id": "mZWGbZC48_r8",
        "colab_type": "code",
        "colab": {}
      },
      "source": [
        "# Generate demographic and count based features\n",
        "\n",
        "# Finding Length of each tweet\n",
        "test_df['length'] = test_df['text'].apply(lambda x: len(x))\n",
        "\n",
        "# Analyzing Capital Letters in each tweet\n",
        "test_df['capitals'] = test_df['text'].apply(lambda tweet: sum(1 for c in tweet if c.isupper()))\n",
        "test_df['caps_vs_length'] = test_df['capitals'] / test_df['length']\n",
        "\n",
        "# Exploring number of words and their uniqueness in each tweet as well as mean length of all words in a tweet\n",
        "test_df['num_words'] = test_df['text'].apply(lambda tweet: len(word_tokenize(tweet)))\n",
        "test_df['num_unique_words'] = test_df['text'].apply(lambda tweet: len(set(w for w in tweet.split())))\n",
        "test_df['words_vs_unique'] = test_df['num_unique_words'] / test_df['num_words']\n",
        "test_df[\"mean_word_len\"] = test_df[\"text\"].apply(lambda x: np.mean([len(w) for w in str(x).split()]))\n",
        "\n",
        "# Generating features from punctuation\n",
        "test_df['num_exclamation_marks'] = test_df['text'].apply(lambda tweet: tweet.count('!'))\n",
        "test_df['num_question_marks'] = test_df['text'].apply(lambda tweet: tweet.count('?'))\n",
        "test_df['num_punctuation'] = test_df['text'].apply(lambda tweet: sum(tweet.count(w) for w in '.,;:'))\n",
        "test_df['num_symbols'] = test_df['text'].apply(lambda tweet: sum(tweet.count(w) for w in '*&$%'))\n",
        "test_df['punct_percent']= test_df['num_punctuation'] * 100 / test_df['num_words']\n",
        "\n",
        "# Checking the presence of emojis in each tweet\n",
        "test_df['num_smilies'] = test_df['text'].apply(lambda tweet: sum(tweet.count(w) for w in (':-)', ':)', ';-)', ';)')))\n",
        "test_df['num_sad'] = test_df['text'].apply(lambda tweet: sum(tweet.count(w) for w in (':-<', ':()', ';-()', ';(')))\n",
        "\n",
        "# Checking if a particular word is a title within a tweet\n",
        "test_df[\"count_words_title\"] = test_df['text'].apply(lambda x: len([w for w in str(x).split() if w.istitle()]))\n",
        "\n",
        "# Function to count the number of hashtags and mentions in each tweet\n",
        "def count_symbol(x, symbol):\n",
        "    pattern = r'{}'.format(symbol + '(\\w+)')\n",
        "    count = 0\n",
        "    for match in re.finditer(pattern, x):\n",
        "        count += 1\n",
        "    return count\n",
        "\n",
        "# Count the number of hashtags and mentions in each tweet\n",
        "test_df['num_hashtags'] = test_df['text'].apply(count_symbol, args = ('#',))\n",
        "test_df['num_mentions'] = test_df['text'].apply(count_symbol, args = ('@',))"
      ],
      "execution_count": 0,
      "outputs": []
    },
    {
      "cell_type": "code",
      "metadata": {
        "id": "7XpUK1rIIDe5",
        "colab_type": "code",
        "outputId": "42bf11e0-b439-45e3-beb8-111330078f51",
        "colab": {
          "base_uri": "https://localhost:8080/",
          "height": 35
        }
      },
      "source": [
        "test_df.shape"
      ],
      "execution_count": 74,
      "outputs": [
        {
          "output_type": "execute_result",
          "data": {
            "text/plain": [
              "(3263, 18)"
            ]
          },
          "metadata": {
            "tags": []
          },
          "execution_count": 74
        }
      ]
    },
    {
      "cell_type": "code",
      "metadata": {
        "id": "6Nv4nPoy9kjs",
        "colab_type": "code",
        "colab": {}
      },
      "source": [
        "test_df['nouns'], test_df['adjectives'], test_df['verbs'] = zip(*test_df['text'].apply(lambda tweet: tag_part_of_speech(tweet)))"
      ],
      "execution_count": 0,
      "outputs": []
    },
    {
      "cell_type": "markdown",
      "metadata": {
        "colab_type": "text",
        "id": "bs3FIhWv99TU"
      },
      "source": [
        "### Nouns"
      ]
    },
    {
      "cell_type": "code",
      "metadata": {
        "colab_type": "code",
        "id": "Xr1UWnNE99TY",
        "colab": {}
      },
      "source": [
        "test_df['nouns_vs_length'] = test_df['nouns'] / test_df['length']\n",
        "test_df['nouns_vs_words'] = test_df['nouns'] / test_df['num_words']"
      ],
      "execution_count": 0,
      "outputs": []
    },
    {
      "cell_type": "markdown",
      "metadata": {
        "colab_type": "text",
        "id": "aUQpGcL799Ti"
      },
      "source": [
        "### Adjectives"
      ]
    },
    {
      "cell_type": "code",
      "metadata": {
        "colab_type": "code",
        "id": "bunr0E-k99Tj",
        "colab": {}
      },
      "source": [
        "test_df['adjectives_vs_length'] = test_df['adjectives'] / test_df['length']\n",
        "test_df['adjectives_vs_words'] = test_df['adjectives'] / test_df['num_words']"
      ],
      "execution_count": 0,
      "outputs": []
    },
    {
      "cell_type": "markdown",
      "metadata": {
        "colab_type": "text",
        "id": "0pfin7xl99Tp"
      },
      "source": [
        "### Verbs"
      ]
    },
    {
      "cell_type": "code",
      "metadata": {
        "colab_type": "code",
        "id": "quQ2Qbdk99Tp",
        "colab": {}
      },
      "source": [
        "test_df['verbs_vs_length'] = test_df['verbs'] / test_df['length']\n",
        "test_df['verbs_vs_words'] = test_df['verbs'] / test_df['num_words']"
      ],
      "execution_count": 0,
      "outputs": []
    },
    {
      "cell_type": "code",
      "metadata": {
        "colab_type": "code",
        "outputId": "5ad9ff6b-70fe-47bd-d47d-061458aa2cd0",
        "id": "dPGd7Iwq99Tu",
        "colab": {
          "base_uri": "https://localhost:8080/",
          "height": 621
        }
      },
      "source": [
        "test_df.head()"
      ],
      "execution_count": 79,
      "outputs": [
        {
          "output_type": "execute_result",
          "data": {
            "text/html": [
              "<div>\n",
              "<style scoped>\n",
              "    .dataframe tbody tr th:only-of-type {\n",
              "        vertical-align: middle;\n",
              "    }\n",
              "\n",
              "    .dataframe tbody tr th {\n",
              "        vertical-align: top;\n",
              "    }\n",
              "\n",
              "    .dataframe thead th {\n",
              "        text-align: right;\n",
              "    }\n",
              "</style>\n",
              "<table border=\"1\" class=\"dataframe\">\n",
              "  <thead>\n",
              "    <tr style=\"text-align: right;\">\n",
              "      <th></th>\n",
              "      <th>text</th>\n",
              "      <th>length</th>\n",
              "      <th>capitals</th>\n",
              "      <th>caps_vs_length</th>\n",
              "      <th>num_words</th>\n",
              "      <th>num_unique_words</th>\n",
              "      <th>words_vs_unique</th>\n",
              "      <th>mean_word_len</th>\n",
              "      <th>num_exclamation_marks</th>\n",
              "      <th>num_question_marks</th>\n",
              "      <th>num_punctuation</th>\n",
              "      <th>num_symbols</th>\n",
              "      <th>punct_percent</th>\n",
              "      <th>num_smilies</th>\n",
              "      <th>num_sad</th>\n",
              "      <th>count_words_title</th>\n",
              "      <th>num_hashtags</th>\n",
              "      <th>num_mentions</th>\n",
              "      <th>nouns</th>\n",
              "      <th>adjectives</th>\n",
              "      <th>verbs</th>\n",
              "      <th>nouns_vs_length</th>\n",
              "      <th>nouns_vs_words</th>\n",
              "      <th>adjectives_vs_length</th>\n",
              "      <th>adjectives_vs_words</th>\n",
              "      <th>verbs_vs_length</th>\n",
              "      <th>verbs_vs_words</th>\n",
              "    </tr>\n",
              "  </thead>\n",
              "  <tbody>\n",
              "    <tr>\n",
              "      <th>0</th>\n",
              "      <td>Just happened a terrible car crash</td>\n",
              "      <td>34</td>\n",
              "      <td>1</td>\n",
              "      <td>0.029412</td>\n",
              "      <td>6</td>\n",
              "      <td>6</td>\n",
              "      <td>1.000000</td>\n",
              "      <td>4.833333</td>\n",
              "      <td>0</td>\n",
              "      <td>0</td>\n",
              "      <td>0</td>\n",
              "      <td>0</td>\n",
              "      <td>0.000000</td>\n",
              "      <td>0</td>\n",
              "      <td>0</td>\n",
              "      <td>1</td>\n",
              "      <td>0</td>\n",
              "      <td>0</td>\n",
              "      <td>2</td>\n",
              "      <td>1</td>\n",
              "      <td>1</td>\n",
              "      <td>0.058824</td>\n",
              "      <td>0.333333</td>\n",
              "      <td>0.029412</td>\n",
              "      <td>0.166667</td>\n",
              "      <td>0.029412</td>\n",
              "      <td>0.166667</td>\n",
              "    </tr>\n",
              "    <tr>\n",
              "      <th>1</th>\n",
              "      <td>Heard about #earthquake is different cities, stay safe everyone.</td>\n",
              "      <td>64</td>\n",
              "      <td>1</td>\n",
              "      <td>0.015625</td>\n",
              "      <td>12</td>\n",
              "      <td>9</td>\n",
              "      <td>0.750000</td>\n",
              "      <td>6.222222</td>\n",
              "      <td>0</td>\n",
              "      <td>0</td>\n",
              "      <td>2</td>\n",
              "      <td>0</td>\n",
              "      <td>16.666667</td>\n",
              "      <td>0</td>\n",
              "      <td>0</td>\n",
              "      <td>1</td>\n",
              "      <td>1</td>\n",
              "      <td>0</td>\n",
              "      <td>4</td>\n",
              "      <td>2</td>\n",
              "      <td>2</td>\n",
              "      <td>0.062500</td>\n",
              "      <td>0.333333</td>\n",
              "      <td>0.031250</td>\n",
              "      <td>0.166667</td>\n",
              "      <td>0.031250</td>\n",
              "      <td>0.166667</td>\n",
              "    </tr>\n",
              "    <tr>\n",
              "      <th>2</th>\n",
              "      <td>there is a forest fire at spot pond, geese are fleeing across the street, I cannot save them all</td>\n",
              "      <td>96</td>\n",
              "      <td>1</td>\n",
              "      <td>0.010417</td>\n",
              "      <td>22</td>\n",
              "      <td>19</td>\n",
              "      <td>0.863636</td>\n",
              "      <td>4.105263</td>\n",
              "      <td>0</td>\n",
              "      <td>0</td>\n",
              "      <td>2</td>\n",
              "      <td>0</td>\n",
              "      <td>9.090909</td>\n",
              "      <td>0</td>\n",
              "      <td>0</td>\n",
              "      <td>1</td>\n",
              "      <td>0</td>\n",
              "      <td>0</td>\n",
              "      <td>5</td>\n",
              "      <td>1</td>\n",
              "      <td>5</td>\n",
              "      <td>0.052083</td>\n",
              "      <td>0.227273</td>\n",
              "      <td>0.010417</td>\n",
              "      <td>0.045455</td>\n",
              "      <td>0.052083</td>\n",
              "      <td>0.227273</td>\n",
              "    </tr>\n",
              "    <tr>\n",
              "      <th>3</th>\n",
              "      <td>Apocalypse lighting. #Spokane #wildfires</td>\n",
              "      <td>40</td>\n",
              "      <td>2</td>\n",
              "      <td>0.050000</td>\n",
              "      <td>7</td>\n",
              "      <td>4</td>\n",
              "      <td>0.571429</td>\n",
              "      <td>9.250000</td>\n",
              "      <td>0</td>\n",
              "      <td>0</td>\n",
              "      <td>1</td>\n",
              "      <td>0</td>\n",
              "      <td>14.285714</td>\n",
              "      <td>0</td>\n",
              "      <td>0</td>\n",
              "      <td>2</td>\n",
              "      <td>2</td>\n",
              "      <td>0</td>\n",
              "      <td>3</td>\n",
              "      <td>0</td>\n",
              "      <td>1</td>\n",
              "      <td>0.075000</td>\n",
              "      <td>0.428571</td>\n",
              "      <td>0.000000</td>\n",
              "      <td>0.000000</td>\n",
              "      <td>0.025000</td>\n",
              "      <td>0.142857</td>\n",
              "    </tr>\n",
              "    <tr>\n",
              "      <th>4</th>\n",
              "      <td>Typhoon Soudelor kills 28 in China and Taiwan</td>\n",
              "      <td>45</td>\n",
              "      <td>4</td>\n",
              "      <td>0.088889</td>\n",
              "      <td>8</td>\n",
              "      <td>8</td>\n",
              "      <td>1.000000</td>\n",
              "      <td>4.750000</td>\n",
              "      <td>0</td>\n",
              "      <td>0</td>\n",
              "      <td>0</td>\n",
              "      <td>0</td>\n",
              "      <td>0.000000</td>\n",
              "      <td>0</td>\n",
              "      <td>0</td>\n",
              "      <td>4</td>\n",
              "      <td>0</td>\n",
              "      <td>0</td>\n",
              "      <td>4</td>\n",
              "      <td>0</td>\n",
              "      <td>1</td>\n",
              "      <td>0.088889</td>\n",
              "      <td>0.500000</td>\n",
              "      <td>0.000000</td>\n",
              "      <td>0.000000</td>\n",
              "      <td>0.022222</td>\n",
              "      <td>0.125000</td>\n",
              "    </tr>\n",
              "  </tbody>\n",
              "</table>\n",
              "</div>"
            ],
            "text/plain": [
              "                                                                                               text  \\\n",
              "0                                                                Just happened a terrible car crash   \n",
              "1                                  Heard about #earthquake is different cities, stay safe everyone.   \n",
              "2  there is a forest fire at spot pond, geese are fleeing across the street, I cannot save them all   \n",
              "3                                                          Apocalypse lighting. #Spokane #wildfires   \n",
              "4                                                     Typhoon Soudelor kills 28 in China and Taiwan   \n",
              "\n",
              "   length  capitals  caps_vs_length  num_words  num_unique_words  \\\n",
              "0      34         1        0.029412          6                 6   \n",
              "1      64         1        0.015625         12                 9   \n",
              "2      96         1        0.010417         22                19   \n",
              "3      40         2        0.050000          7                 4   \n",
              "4      45         4        0.088889          8                 8   \n",
              "\n",
              "   words_vs_unique  mean_word_len  num_exclamation_marks  num_question_marks  \\\n",
              "0         1.000000       4.833333                      0                   0   \n",
              "1         0.750000       6.222222                      0                   0   \n",
              "2         0.863636       4.105263                      0                   0   \n",
              "3         0.571429       9.250000                      0                   0   \n",
              "4         1.000000       4.750000                      0                   0   \n",
              "\n",
              "   num_punctuation  num_symbols  punct_percent  num_smilies  num_sad  \\\n",
              "0                0            0       0.000000            0        0   \n",
              "1                2            0      16.666667            0        0   \n",
              "2                2            0       9.090909            0        0   \n",
              "3                1            0      14.285714            0        0   \n",
              "4                0            0       0.000000            0        0   \n",
              "\n",
              "   count_words_title  num_hashtags  num_mentions  nouns  adjectives  verbs  \\\n",
              "0                  1             0             0      2           1      1   \n",
              "1                  1             1             0      4           2      2   \n",
              "2                  1             0             0      5           1      5   \n",
              "3                  2             2             0      3           0      1   \n",
              "4                  4             0             0      4           0      1   \n",
              "\n",
              "   nouns_vs_length  nouns_vs_words  adjectives_vs_length  adjectives_vs_words  \\\n",
              "0         0.058824        0.333333              0.029412             0.166667   \n",
              "1         0.062500        0.333333              0.031250             0.166667   \n",
              "2         0.052083        0.227273              0.010417             0.045455   \n",
              "3         0.075000        0.428571              0.000000             0.000000   \n",
              "4         0.088889        0.500000              0.000000             0.000000   \n",
              "\n",
              "   verbs_vs_length  verbs_vs_words  \n",
              "0         0.029412        0.166667  \n",
              "1         0.031250        0.166667  \n",
              "2         0.052083        0.227273  \n",
              "3         0.025000        0.142857  \n",
              "4         0.022222        0.125000  "
            ]
          },
          "metadata": {
            "tags": []
          },
          "execution_count": 79
        }
      ]
    },
    {
      "cell_type": "code",
      "metadata": {
        "id": "pZQ28bsD_DEC",
        "colab_type": "code",
        "colab": {}
      },
      "source": [
        "# drop num_sad column as it is throughout 0\n",
        "test_df.drop(['num_sad'], axis = 1, inplace = True)"
      ],
      "execution_count": 0,
      "outputs": []
    },
    {
      "cell_type": "code",
      "metadata": {
        "colab_type": "code",
        "outputId": "8e31fdb5-684b-42d5-e5a5-3d5761bed2e2",
        "id": "Bx8xzui_99Ty",
        "colab": {
          "base_uri": "https://localhost:8080/",
          "height": 401
        }
      },
      "source": [
        "sns.heatmap(test_df.drop(['text'], axis = 1).corr())"
      ],
      "execution_count": 81,
      "outputs": [
        {
          "output_type": "execute_result",
          "data": {
            "text/plain": [
              "<matplotlib.axes._subplots.AxesSubplot at 0x7f904e0536d8>"
            ]
          },
          "metadata": {
            "tags": []
          },
          "execution_count": 81
        },
        {
          "output_type": "display_data",
          "data": {
            "image/png": "[encoded data removed]",
            "text/plain": [
              "<Figure size 432x288 with 2 Axes>"
            ]
          },
          "metadata": {
            "tags": [],
            "needs_background": "light"
          }
        }
      ]
    },
    {
      "cell_type": "code",
      "metadata": {
        "colab_type": "code",
        "outputId": "7cd0e27e-7bec-42e8-bf88-5f2e27b14bf5",
        "id": "Rrpl-dYC99T4",
        "colab": {
          "base_uri": "https://localhost:8080/",
          "height": 451
        }
      },
      "source": [
        "test_num_cols = [x for x in test_df.columns if test_df[x].dtype == 'int64' or test_df[x].dtype == 'float64']\n",
        "test_num_cols"
      ],
      "execution_count": 82,
      "outputs": [
        {
          "output_type": "execute_result",
          "data": {
            "text/plain": [
              "['length',\n",
              " 'capitals',\n",
              " 'caps_vs_length',\n",
              " 'num_words',\n",
              " 'num_unique_words',\n",
              " 'words_vs_unique',\n",
              " 'mean_word_len',\n",
              " 'num_exclamation_marks',\n",
              " 'num_question_marks',\n",
              " 'num_punctuation',\n",
              " 'num_symbols',\n",
              " 'punct_percent',\n",
              " 'num_smilies',\n",
              " 'count_words_title',\n",
              " 'num_hashtags',\n",
              " 'num_mentions',\n",
              " 'nouns',\n",
              " 'adjectives',\n",
              " 'verbs',\n",
              " 'nouns_vs_length',\n",
              " 'nouns_vs_words',\n",
              " 'adjectives_vs_length',\n",
              " 'adjectives_vs_words',\n",
              " 'verbs_vs_length',\n",
              " 'verbs_vs_words']"
            ]
          },
          "metadata": {
            "tags": []
          },
          "execution_count": 82
        }
      ]
    },
    {
      "cell_type": "code",
      "metadata": {
        "id": "kUUI2c4iEWwZ",
        "colab_type": "code",
        "outputId": "3d8e1409-e6f7-4b5a-e689-aa8b6ad2ea0c",
        "colab": {
          "base_uri": "https://localhost:8080/",
          "height": 343
        }
      },
      "source": [
        "test_df['preprocessed_text'] = np.array(test_tweet_corpus).T\n",
        "X_test = test_df.drop(['text'], axis = 1)\n",
        "X_test.head()"
      ],
      "execution_count": 83,
      "outputs": [
        {
          "output_type": "execute_result",
          "data": {
            "text/html": [
              "<div>\n",
              "<style scoped>\n",
              "    .dataframe tbody tr th:only-of-type {\n",
              "        vertical-align: middle;\n",
              "    }\n",
              "\n",
              "    .dataframe tbody tr th {\n",
              "        vertical-align: top;\n",
              "    }\n",
              "\n",
              "    .dataframe thead th {\n",
              "        text-align: right;\n",
              "    }\n",
              "</style>\n",
              "<table border=\"1\" class=\"dataframe\">\n",
              "  <thead>\n",
              "    <tr style=\"text-align: right;\">\n",
              "      <th></th>\n",
              "      <th>length</th>\n",
              "      <th>capitals</th>\n",
              "      <th>caps_vs_length</th>\n",
              "      <th>num_words</th>\n",
              "      <th>num_unique_words</th>\n",
              "      <th>words_vs_unique</th>\n",
              "      <th>mean_word_len</th>\n",
              "      <th>num_exclamation_marks</th>\n",
              "      <th>num_question_marks</th>\n",
              "      <th>num_punctuation</th>\n",
              "      <th>num_symbols</th>\n",
              "      <th>punct_percent</th>\n",
              "      <th>num_smilies</th>\n",
              "      <th>count_words_title</th>\n",
              "      <th>num_hashtags</th>\n",
              "      <th>num_mentions</th>\n",
              "      <th>nouns</th>\n",
              "      <th>adjectives</th>\n",
              "      <th>verbs</th>\n",
              "      <th>nouns_vs_length</th>\n",
              "      <th>nouns_vs_words</th>\n",
              "      <th>adjectives_vs_length</th>\n",
              "      <th>adjectives_vs_words</th>\n",
              "      <th>verbs_vs_length</th>\n",
              "      <th>verbs_vs_words</th>\n",
              "      <th>preprocessed_text</th>\n",
              "    </tr>\n",
              "  </thead>\n",
              "  <tbody>\n",
              "    <tr>\n",
              "      <th>0</th>\n",
              "      <td>34</td>\n",
              "      <td>1</td>\n",
              "      <td>0.029412</td>\n",
              "      <td>6</td>\n",
              "      <td>6</td>\n",
              "      <td>1.000000</td>\n",
              "      <td>4.833333</td>\n",
              "      <td>0</td>\n",
              "      <td>0</td>\n",
              "      <td>0</td>\n",
              "      <td>0</td>\n",
              "      <td>0.000000</td>\n",
              "      <td>0</td>\n",
              "      <td>1</td>\n",
              "      <td>0</td>\n",
              "      <td>0</td>\n",
              "      <td>2</td>\n",
              "      <td>1</td>\n",
              "      <td>1</td>\n",
              "      <td>0.058824</td>\n",
              "      <td>0.333333</td>\n",
              "      <td>0.029412</td>\n",
              "      <td>0.166667</td>\n",
              "      <td>0.029412</td>\n",
              "      <td>0.166667</td>\n",
              "      <td>happened terrible car crash</td>\n",
              "    </tr>\n",
              "    <tr>\n",
              "      <th>1</th>\n",
              "      <td>64</td>\n",
              "      <td>1</td>\n",
              "      <td>0.015625</td>\n",
              "      <td>12</td>\n",
              "      <td>9</td>\n",
              "      <td>0.750000</td>\n",
              "      <td>6.222222</td>\n",
              "      <td>0</td>\n",
              "      <td>0</td>\n",
              "      <td>2</td>\n",
              "      <td>0</td>\n",
              "      <td>16.666667</td>\n",
              "      <td>0</td>\n",
              "      <td>1</td>\n",
              "      <td>1</td>\n",
              "      <td>0</td>\n",
              "      <td>4</td>\n",
              "      <td>2</td>\n",
              "      <td>2</td>\n",
              "      <td>0.062500</td>\n",
              "      <td>0.333333</td>\n",
              "      <td>0.031250</td>\n",
              "      <td>0.166667</td>\n",
              "      <td>0.031250</td>\n",
              "      <td>0.166667</td>\n",
              "      <td>heard earthquake different city stay safe everyone</td>\n",
              "    </tr>\n",
              "    <tr>\n",
              "      <th>2</th>\n",
              "      <td>96</td>\n",
              "      <td>1</td>\n",
              "      <td>0.010417</td>\n",
              "      <td>22</td>\n",
              "      <td>19</td>\n",
              "      <td>0.863636</td>\n",
              "      <td>4.105263</td>\n",
              "      <td>0</td>\n",
              "      <td>0</td>\n",
              "      <td>2</td>\n",
              "      <td>0</td>\n",
              "      <td>9.090909</td>\n",
              "      <td>0</td>\n",
              "      <td>1</td>\n",
              "      <td>0</td>\n",
              "      <td>0</td>\n",
              "      <td>5</td>\n",
              "      <td>1</td>\n",
              "      <td>5</td>\n",
              "      <td>0.052083</td>\n",
              "      <td>0.227273</td>\n",
              "      <td>0.010417</td>\n",
              "      <td>0.045455</td>\n",
              "      <td>0.052083</td>\n",
              "      <td>0.227273</td>\n",
              "      <td>forest fire spot pond goose fleeing across street save</td>\n",
              "    </tr>\n",
              "    <tr>\n",
              "      <th>3</th>\n",
              "      <td>40</td>\n",
              "      <td>2</td>\n",
              "      <td>0.050000</td>\n",
              "      <td>7</td>\n",
              "      <td>4</td>\n",
              "      <td>0.571429</td>\n",
              "      <td>9.250000</td>\n",
              "      <td>0</td>\n",
              "      <td>0</td>\n",
              "      <td>1</td>\n",
              "      <td>0</td>\n",
              "      <td>14.285714</td>\n",
              "      <td>0</td>\n",
              "      <td>2</td>\n",
              "      <td>2</td>\n",
              "      <td>0</td>\n",
              "      <td>3</td>\n",
              "      <td>0</td>\n",
              "      <td>1</td>\n",
              "      <td>0.075000</td>\n",
              "      <td>0.428571</td>\n",
              "      <td>0.000000</td>\n",
              "      <td>0.000000</td>\n",
              "      <td>0.025000</td>\n",
              "      <td>0.142857</td>\n",
              "      <td>apocalypse lighting spokane wildfire</td>\n",
              "    </tr>\n",
              "    <tr>\n",
              "      <th>4</th>\n",
              "      <td>45</td>\n",
              "      <td>4</td>\n",
              "      <td>0.088889</td>\n",
              "      <td>8</td>\n",
              "      <td>8</td>\n",
              "      <td>1.000000</td>\n",
              "      <td>4.750000</td>\n",
              "      <td>0</td>\n",
              "      <td>0</td>\n",
              "      <td>0</td>\n",
              "      <td>0</td>\n",
              "      <td>0.000000</td>\n",
              "      <td>0</td>\n",
              "      <td>4</td>\n",
              "      <td>0</td>\n",
              "      <td>0</td>\n",
              "      <td>4</td>\n",
              "      <td>0</td>\n",
              "      <td>1</td>\n",
              "      <td>0.088889</td>\n",
              "      <td>0.500000</td>\n",
              "      <td>0.000000</td>\n",
              "      <td>0.000000</td>\n",
              "      <td>0.022222</td>\n",
              "      <td>0.125000</td>\n",
              "      <td>typhoon soudelor kill 28 china taiwan</td>\n",
              "    </tr>\n",
              "  </tbody>\n",
              "</table>\n",
              "</div>"
            ],
            "text/plain": [
              "   length  capitals  caps_vs_length  num_words  num_unique_words  \\\n",
              "0      34         1        0.029412          6                 6   \n",
              "1      64         1        0.015625         12                 9   \n",
              "2      96         1        0.010417         22                19   \n",
              "3      40         2        0.050000          7                 4   \n",
              "4      45         4        0.088889          8                 8   \n",
              "\n",
              "   words_vs_unique  mean_word_len  num_exclamation_marks  num_question_marks  \\\n",
              "0         1.000000       4.833333                      0                   0   \n",
              "1         0.750000       6.222222                      0                   0   \n",
              "2         0.863636       4.105263                      0                   0   \n",
              "3         0.571429       9.250000                      0                   0   \n",
              "4         1.000000       4.750000                      0                   0   \n",
              "\n",
              "   num_punctuation  num_symbols  punct_percent  num_smilies  \\\n",
              "0                0            0       0.000000            0   \n",
              "1                2            0      16.666667            0   \n",
              "2                2            0       9.090909            0   \n",
              "3                1            0      14.285714            0   \n",
              "4                0            0       0.000000            0   \n",
              "\n",
              "   count_words_title  num_hashtags  num_mentions  nouns  adjectives  verbs  \\\n",
              "0                  1             0             0      2           1      1   \n",
              "1                  1             1             0      4           2      2   \n",
              "2                  1             0             0      5           1      5   \n",
              "3                  2             2             0      3           0      1   \n",
              "4                  4             0             0      4           0      1   \n",
              "\n",
              "   nouns_vs_length  nouns_vs_words  adjectives_vs_length  adjectives_vs_words  \\\n",
              "0         0.058824        0.333333              0.029412             0.166667   \n",
              "1         0.062500        0.333333              0.031250             0.166667   \n",
              "2         0.052083        0.227273              0.010417             0.045455   \n",
              "3         0.075000        0.428571              0.000000             0.000000   \n",
              "4         0.088889        0.500000              0.000000             0.000000   \n",
              "\n",
              "   verbs_vs_length  verbs_vs_words  \\\n",
              "0         0.029412        0.166667   \n",
              "1         0.031250        0.166667   \n",
              "2         0.052083        0.227273   \n",
              "3         0.025000        0.142857   \n",
              "4         0.022222        0.125000   \n",
              "\n",
              "                                        preprocessed_text  \n",
              "0                             happened terrible car crash  \n",
              "1      heard earthquake different city stay safe everyone  \n",
              "2  forest fire spot pond goose fleeing across street save  \n",
              "3                    apocalypse lighting spokane wildfire  \n",
              "4                   typhoon soudelor kill 28 china taiwan  "
            ]
          },
          "metadata": {
            "tags": []
          },
          "execution_count": 83
        }
      ]
    },
    {
      "cell_type": "code",
      "metadata": {
        "id": "ZfBlbNR8Exgm",
        "colab_type": "code",
        "colab": {}
      },
      "source": [
        "y_test = pl.predict(X_test)"
      ],
      "execution_count": 0,
      "outputs": []
    },
    {
      "cell_type": "code",
      "metadata": {
        "id": "Gyaat2bfPQzX",
        "colab_type": "code",
        "colab": {}
      },
      "source": [
        "sol_df = pd.DataFrame()\n",
        "sol_df['id'] = df_test.loc[:, 'id']\n",
        "sol_df['target'] = y_test.T\n",
        "sol_df.to_csv('submission.csv', index = False)"
      ],
      "execution_count": 0,
      "outputs": []
    }
  ]
}